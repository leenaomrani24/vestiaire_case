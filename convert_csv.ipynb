{
 "cells": [
  {
   "cell_type": "code",
   "execution_count": 27,
   "metadata": {},
   "outputs": [],
   "source": [
    "import pandas as pd\n",
    "import numpy as np\n",
    "import re\n",
    "import csv\n",
    "from datetime import datetime\n",
    "import matplotlib.pyplot as plt\n",
    "import seaborn as sns\n"
   ]
  },
  {
   "cell_type": "markdown",
   "metadata": {},
   "source": []
  },
  {
   "attachments": {},
   "cell_type": "markdown",
   "metadata": {},
   "source": [
    "## First dataset : customer data "
   ]
  },
  {
   "cell_type": "code",
   "execution_count": 25,
   "metadata": {},
   "outputs": [
    {
     "name": "stderr",
     "output_type": "stream",
     "text": [
      "/var/folders/qn/mtl559_57tn77j5y4wb_w49c0000gn/T/ipykernel_26958/2887902853.py:1: FutureWarning: Inferring datetime64[ns, UTC] from data containing strings is deprecated and will be removed in a future version. To retain the old behavior explicitly pass Series(data, dtype={value.dtype})\n",
      "  df=pd.read_excel('/Users/leenaomrani/Desktop/vestiaire_case/csv_files/DIM_VC_USR_CUSTOMER.xls')\n"
     ]
    },
    {
     "data": {
      "text/html": [
       "<div>\n",
       "<style scoped>\n",
       "    .dataframe tbody tr th:only-of-type {\n",
       "        vertical-align: middle;\n",
       "    }\n",
       "\n",
       "    .dataframe tbody tr th {\n",
       "        vertical-align: top;\n",
       "    }\n",
       "\n",
       "    .dataframe thead th {\n",
       "        text-align: right;\n",
       "    }\n",
       "</style>\n",
       "<table border=\"1\" class=\"dataframe\">\n",
       "  <thead>\n",
       "    <tr style=\"text-align: right;\">\n",
       "      <th></th>\n",
       "      <th>ID_CUSTOMER</th>\n",
       "      <th>ID_GENDER</th>\n",
       "      <th>DATE_NEW_BUYER</th>\n",
       "      <th>DATE_NEW_SELLER</th>\n",
       "      <th>DATE_CREATION</th>\n",
       "      <th>DATE_INACTIVE</th>\n",
       "      <th>DATE_LAST_LOGIN</th>\n",
       "      <th>ID_COUNTRY</th>\n",
       "      <th>DEVICE_BRAND</th>\n",
       "      <th>REGISTRATION_DEVICE</th>\n",
       "      <th>...</th>\n",
       "      <th>SELLER_SEGMENT</th>\n",
       "      <th>REGISTRATION_UTM_CAMPAIGN_NON_PERSISTENT</th>\n",
       "      <th>REGISTRATION_UTM_SOURCE_NON_PERSISTENT</th>\n",
       "      <th>REGISTRATION_UTM_MEDIUM_NON_PERSISTENT</th>\n",
       "      <th>REGISTRATION_UTM_CAMPAIGN_30D_PERSISTENT</th>\n",
       "      <th>REGISTRATION_UTM_SOURCE_30D_PERSISTENT</th>\n",
       "      <th>REGISTRATION_UTM_MEDIUM_30D_PERSISTENT</th>\n",
       "      <th>REGISTRATION_MARKETING_CHANNEL_NON_PERSISTENT</th>\n",
       "      <th>REGISTRATION_MARKETING_CHANNEL_30D_PERSISTENT</th>\n",
       "      <th>IS_ACCOUNT_VERIFIED</th>\n",
       "    </tr>\n",
       "  </thead>\n",
       "  <tbody>\n",
       "    <tr>\n",
       "      <th>0</th>\n",
       "      <td>17257021</td>\n",
       "      <td>2</td>\n",
       "      <td>NaN</td>\n",
       "      <td>NaN</td>\n",
       "      <td>2022-06-27T16:52:12Z</td>\n",
       "      <td>NaN</td>\n",
       "      <td>2022-06-27T16:52:13Z</td>\n",
       "      <td>74</td>\n",
       "      <td>other</td>\n",
       "      <td>desktop</td>\n",
       "      <td>...</td>\n",
       "      <td>NaN</td>\n",
       "      <td>NaN</td>\n",
       "      <td>NaN</td>\n",
       "      <td>NaN</td>\n",
       "      <td>NaN</td>\n",
       "      <td>NaN</td>\n",
       "      <td>NaN</td>\n",
       "      <td>NaN</td>\n",
       "      <td>NaN</td>\n",
       "      <td>1.0</td>\n",
       "    </tr>\n",
       "    <tr>\n",
       "      <th>1</th>\n",
       "      <td>9117724</td>\n",
       "      <td>2</td>\n",
       "      <td>NaN</td>\n",
       "      <td>NaN</td>\n",
       "      <td>2019-12-07T10:37:28Z</td>\n",
       "      <td>NaN</td>\n",
       "      <td>2019-12-07T10:37:29Z</td>\n",
       "      <td>223</td>\n",
       "      <td>other</td>\n",
       "      <td>desktop</td>\n",
       "      <td>...</td>\n",
       "      <td>NaN</td>\n",
       "      <td>NaN</td>\n",
       "      <td>NaN</td>\n",
       "      <td>NaN</td>\n",
       "      <td>NaN</td>\n",
       "      <td>NaN</td>\n",
       "      <td>NaN</td>\n",
       "      <td>NaN</td>\n",
       "      <td>NaN</td>\n",
       "      <td>1.0</td>\n",
       "    </tr>\n",
       "    <tr>\n",
       "      <th>2</th>\n",
       "      <td>8862262</td>\n",
       "      <td>2</td>\n",
       "      <td>NaN</td>\n",
       "      <td>NaN</td>\n",
       "      <td>2019-10-14T03:40:34Z</td>\n",
       "      <td>NaN</td>\n",
       "      <td>2019-10-14T03:40:35Z</td>\n",
       "      <td>223</td>\n",
       "      <td>other</td>\n",
       "      <td>desktop</td>\n",
       "      <td>...</td>\n",
       "      <td>NaN</td>\n",
       "      <td>NaN</td>\n",
       "      <td>NaN</td>\n",
       "      <td>NaN</td>\n",
       "      <td>NaN</td>\n",
       "      <td>NaN</td>\n",
       "      <td>NaN</td>\n",
       "      <td>NaN</td>\n",
       "      <td>NaN</td>\n",
       "      <td>1.0</td>\n",
       "    </tr>\n",
       "    <tr>\n",
       "      <th>3</th>\n",
       "      <td>6757583</td>\n",
       "      <td>1</td>\n",
       "      <td>2018-04-28 00:00:00</td>\n",
       "      <td>2022-05-29 00:00:00</td>\n",
       "      <td>2018-04-25T23:26:26Z</td>\n",
       "      <td>NaN</td>\n",
       "      <td>2023-03-31T21:32:55Z</td>\n",
       "      <td>57</td>\n",
       "      <td>other</td>\n",
       "      <td>desktop</td>\n",
       "      <td>...</td>\n",
       "      <td>Low quality repeater</td>\n",
       "      <td>NaN</td>\n",
       "      <td>NaN</td>\n",
       "      <td>NaN</td>\n",
       "      <td>NaN</td>\n",
       "      <td>NaN</td>\n",
       "      <td>NaN</td>\n",
       "      <td>NaN</td>\n",
       "      <td>NaN</td>\n",
       "      <td>1.0</td>\n",
       "    </tr>\n",
       "    <tr>\n",
       "      <th>4</th>\n",
       "      <td>14268557</td>\n",
       "      <td>0</td>\n",
       "      <td>NaN</td>\n",
       "      <td>NaN</td>\n",
       "      <td>2021-10-21T20:11:19Z</td>\n",
       "      <td>NaN</td>\n",
       "      <td>2021-10-21T20:11:20Z</td>\n",
       "      <td>74</td>\n",
       "      <td>iOS</td>\n",
       "      <td>smartphone</td>\n",
       "      <td>...</td>\n",
       "      <td>NaN</td>\n",
       "      <td>NaN</td>\n",
       "      <td>NaN</td>\n",
       "      <td>NaN</td>\n",
       "      <td>NaN</td>\n",
       "      <td>NaN</td>\n",
       "      <td>NaN</td>\n",
       "      <td>NaN</td>\n",
       "      <td>NaN</td>\n",
       "      <td>1.0</td>\n",
       "    </tr>\n",
       "    <tr>\n",
       "      <th>...</th>\n",
       "      <td>...</td>\n",
       "      <td>...</td>\n",
       "      <td>...</td>\n",
       "      <td>...</td>\n",
       "      <td>...</td>\n",
       "      <td>...</td>\n",
       "      <td>...</td>\n",
       "      <td>...</td>\n",
       "      <td>...</td>\n",
       "      <td>...</td>\n",
       "      <td>...</td>\n",
       "      <td>...</td>\n",
       "      <td>...</td>\n",
       "      <td>...</td>\n",
       "      <td>...</td>\n",
       "      <td>...</td>\n",
       "      <td>...</td>\n",
       "      <td>...</td>\n",
       "      <td>...</td>\n",
       "      <td>...</td>\n",
       "      <td>...</td>\n",
       "    </tr>\n",
       "    <tr>\n",
       "      <th>19939</th>\n",
       "      <td>91661</td>\n",
       "      <td>2</td>\n",
       "      <td>2013-04-15 00:00:00</td>\n",
       "      <td>NaN</td>\n",
       "      <td>2011-03-24T12:56:00Z</td>\n",
       "      <td>NaN</td>\n",
       "      <td>2023-01-28T23:28:14Z</td>\n",
       "      <td>74</td>\n",
       "      <td>NaN</td>\n",
       "      <td>NaN</td>\n",
       "      <td>...</td>\n",
       "      <td>NaN</td>\n",
       "      <td>NaN</td>\n",
       "      <td>NaN</td>\n",
       "      <td>NaN</td>\n",
       "      <td>NaN</td>\n",
       "      <td>NaN</td>\n",
       "      <td>NaN</td>\n",
       "      <td>NaN</td>\n",
       "      <td>NaN</td>\n",
       "      <td>1.0</td>\n",
       "    </tr>\n",
       "    <tr>\n",
       "      <th>19940</th>\n",
       "      <td>16812898</td>\n",
       "      <td>2</td>\n",
       "      <td>NaN</td>\n",
       "      <td>NaN</td>\n",
       "      <td>2022-05-08T17:25:01Z</td>\n",
       "      <td>NaN</td>\n",
       "      <td>2022-05-08T17:25:07Z</td>\n",
       "      <td>81</td>\n",
       "      <td>iOS</td>\n",
       "      <td>smartphone</td>\n",
       "      <td>...</td>\n",
       "      <td>NaN</td>\n",
       "      <td>NaN</td>\n",
       "      <td>NaN</td>\n",
       "      <td>NaN</td>\n",
       "      <td>NaN</td>\n",
       "      <td>NaN</td>\n",
       "      <td>NaN</td>\n",
       "      <td>NaN</td>\n",
       "      <td>NaN</td>\n",
       "      <td>1.0</td>\n",
       "    </tr>\n",
       "    <tr>\n",
       "      <th>19941</th>\n",
       "      <td>11347815</td>\n",
       "      <td>3</td>\n",
       "      <td>NaN</td>\n",
       "      <td>NaN</td>\n",
       "      <td>2020-12-22T23:43:49Z</td>\n",
       "      <td>NaN</td>\n",
       "      <td>2020-12-22T23:43:51Z</td>\n",
       "      <td>223</td>\n",
       "      <td>iOS</td>\n",
       "      <td>smartphone</td>\n",
       "      <td>...</td>\n",
       "      <td>NaN</td>\n",
       "      <td>NaN</td>\n",
       "      <td>NaN</td>\n",
       "      <td>NaN</td>\n",
       "      <td>NaN</td>\n",
       "      <td>NaN</td>\n",
       "      <td>NaN</td>\n",
       "      <td>NaN</td>\n",
       "      <td>NaN</td>\n",
       "      <td>1.0</td>\n",
       "    </tr>\n",
       "    <tr>\n",
       "      <th>19942</th>\n",
       "      <td>8264108</td>\n",
       "      <td>1</td>\n",
       "      <td>NaN</td>\n",
       "      <td>NaN</td>\n",
       "      <td>2019-03-26T22:12:27Z</td>\n",
       "      <td>NaN</td>\n",
       "      <td>2020-11-04T21:13:42Z</td>\n",
       "      <td>74</td>\n",
       "      <td>iOS</td>\n",
       "      <td>smartphone</td>\n",
       "      <td>...</td>\n",
       "      <td>NaN</td>\n",
       "      <td>NaN</td>\n",
       "      <td>NaN</td>\n",
       "      <td>NaN</td>\n",
       "      <td>NaN</td>\n",
       "      <td>NaN</td>\n",
       "      <td>NaN</td>\n",
       "      <td>NaN</td>\n",
       "      <td>NaN</td>\n",
       "      <td>1.0</td>\n",
       "    </tr>\n",
       "    <tr>\n",
       "      <th>19943</th>\n",
       "      <td>8264108,1,,,2019-03-26T22:12:27Z,,2020-11-04T2...</td>\n",
       "      <td>NaN</td>\n",
       "      <td>NaN</td>\n",
       "      <td>NaN</td>\n",
       "      <td>NaN</td>\n",
       "      <td>NaN</td>\n",
       "      <td>NaN</td>\n",
       "      <td>NaN</td>\n",
       "      <td>NaN</td>\n",
       "      <td>NaN</td>\n",
       "      <td>...</td>\n",
       "      <td>NaN</td>\n",
       "      <td>NaN</td>\n",
       "      <td>NaN</td>\n",
       "      <td>NaN</td>\n",
       "      <td>NaN</td>\n",
       "      <td>NaN</td>\n",
       "      <td>NaN</td>\n",
       "      <td>NaN</td>\n",
       "      <td>NaN</td>\n",
       "      <td>NaN</td>\n",
       "    </tr>\n",
       "  </tbody>\n",
       "</table>\n",
       "<p>19944 rows × 102 columns</p>\n",
       "</div>"
      ],
      "text/plain": [
       "                                             ID_CUSTOMER ID_GENDER  \\\n",
       "0                                               17257021         2   \n",
       "1                                                9117724         2   \n",
       "2                                                8862262         2   \n",
       "3                                                6757583         1   \n",
       "4                                               14268557         0   \n",
       "...                                                  ...       ...   \n",
       "19939                                              91661         2   \n",
       "19940                                           16812898         2   \n",
       "19941                                           11347815         3   \n",
       "19942                                            8264108         1   \n",
       "19943  8264108,1,,,2019-03-26T22:12:27Z,,2020-11-04T2...       NaN   \n",
       "\n",
       "            DATE_NEW_BUYER      DATE_NEW_SELLER         DATE_CREATION  \\\n",
       "0                      NaN                  NaN  2022-06-27T16:52:12Z   \n",
       "1                      NaN                  NaN  2019-12-07T10:37:28Z   \n",
       "2                      NaN                  NaN  2019-10-14T03:40:34Z   \n",
       "3      2018-04-28 00:00:00  2022-05-29 00:00:00  2018-04-25T23:26:26Z   \n",
       "4                      NaN                  NaN  2021-10-21T20:11:19Z   \n",
       "...                    ...                  ...                   ...   \n",
       "19939  2013-04-15 00:00:00                  NaN  2011-03-24T12:56:00Z   \n",
       "19940                  NaN                  NaN  2022-05-08T17:25:01Z   \n",
       "19941                  NaN                  NaN  2020-12-22T23:43:49Z   \n",
       "19942                  NaN                  NaN  2019-03-26T22:12:27Z   \n",
       "19943                  NaN                  NaN                   NaN   \n",
       "\n",
       "      DATE_INACTIVE       DATE_LAST_LOGIN ID_COUNTRY DEVICE_BRAND  \\\n",
       "0               NaN  2022-06-27T16:52:13Z         74        other   \n",
       "1               NaN  2019-12-07T10:37:29Z        223        other   \n",
       "2               NaN  2019-10-14T03:40:35Z        223        other   \n",
       "3               NaN  2023-03-31T21:32:55Z         57        other   \n",
       "4               NaN  2021-10-21T20:11:20Z         74          iOS   \n",
       "...             ...                   ...        ...          ...   \n",
       "19939           NaN  2023-01-28T23:28:14Z         74          NaN   \n",
       "19940           NaN  2022-05-08T17:25:07Z         81          iOS   \n",
       "19941           NaN  2020-12-22T23:43:51Z        223          iOS   \n",
       "19942           NaN  2020-11-04T21:13:42Z         74          iOS   \n",
       "19943           NaN                   NaN        NaN          NaN   \n",
       "\n",
       "      REGISTRATION_DEVICE  ...        SELLER_SEGMENT  \\\n",
       "0                 desktop  ...                   NaN   \n",
       "1                 desktop  ...                   NaN   \n",
       "2                 desktop  ...                   NaN   \n",
       "3                 desktop  ...  Low quality repeater   \n",
       "4              smartphone  ...                   NaN   \n",
       "...                   ...  ...                   ...   \n",
       "19939                 NaN  ...                   NaN   \n",
       "19940          smartphone  ...                   NaN   \n",
       "19941          smartphone  ...                   NaN   \n",
       "19942          smartphone  ...                   NaN   \n",
       "19943                 NaN  ...                   NaN   \n",
       "\n",
       "       REGISTRATION_UTM_CAMPAIGN_NON_PERSISTENT  \\\n",
       "0                                           NaN   \n",
       "1                                           NaN   \n",
       "2                                           NaN   \n",
       "3                                           NaN   \n",
       "4                                           NaN   \n",
       "...                                         ...   \n",
       "19939                                       NaN   \n",
       "19940                                       NaN   \n",
       "19941                                       NaN   \n",
       "19942                                       NaN   \n",
       "19943                                       NaN   \n",
       "\n",
       "      REGISTRATION_UTM_SOURCE_NON_PERSISTENT  \\\n",
       "0                                        NaN   \n",
       "1                                        NaN   \n",
       "2                                        NaN   \n",
       "3                                        NaN   \n",
       "4                                        NaN   \n",
       "...                                      ...   \n",
       "19939                                    NaN   \n",
       "19940                                    NaN   \n",
       "19941                                    NaN   \n",
       "19942                                    NaN   \n",
       "19943                                    NaN   \n",
       "\n",
       "       REGISTRATION_UTM_MEDIUM_NON_PERSISTENT  \\\n",
       "0                                         NaN   \n",
       "1                                         NaN   \n",
       "2                                         NaN   \n",
       "3                                         NaN   \n",
       "4                                         NaN   \n",
       "...                                       ...   \n",
       "19939                                     NaN   \n",
       "19940                                     NaN   \n",
       "19941                                     NaN   \n",
       "19942                                     NaN   \n",
       "19943                                     NaN   \n",
       "\n",
       "       REGISTRATION_UTM_CAMPAIGN_30D_PERSISTENT  \\\n",
       "0                                           NaN   \n",
       "1                                           NaN   \n",
       "2                                           NaN   \n",
       "3                                           NaN   \n",
       "4                                           NaN   \n",
       "...                                         ...   \n",
       "19939                                       NaN   \n",
       "19940                                       NaN   \n",
       "19941                                       NaN   \n",
       "19942                                       NaN   \n",
       "19943                                       NaN   \n",
       "\n",
       "      REGISTRATION_UTM_SOURCE_30D_PERSISTENT  \\\n",
       "0                                        NaN   \n",
       "1                                        NaN   \n",
       "2                                        NaN   \n",
       "3                                        NaN   \n",
       "4                                        NaN   \n",
       "...                                      ...   \n",
       "19939                                    NaN   \n",
       "19940                                    NaN   \n",
       "19941                                    NaN   \n",
       "19942                                    NaN   \n",
       "19943                                    NaN   \n",
       "\n",
       "      REGISTRATION_UTM_MEDIUM_30D_PERSISTENT  \\\n",
       "0                                        NaN   \n",
       "1                                        NaN   \n",
       "2                                        NaN   \n",
       "3                                        NaN   \n",
       "4                                        NaN   \n",
       "...                                      ...   \n",
       "19939                                    NaN   \n",
       "19940                                    NaN   \n",
       "19941                                    NaN   \n",
       "19942                                    NaN   \n",
       "19943                                    NaN   \n",
       "\n",
       "      REGISTRATION_MARKETING_CHANNEL_NON_PERSISTENT  \\\n",
       "0                                               NaN   \n",
       "1                                               NaN   \n",
       "2                                               NaN   \n",
       "3                                               NaN   \n",
       "4                                               NaN   \n",
       "...                                             ...   \n",
       "19939                                           NaN   \n",
       "19940                                           NaN   \n",
       "19941                                           NaN   \n",
       "19942                                           NaN   \n",
       "19943                                           NaN   \n",
       "\n",
       "      REGISTRATION_MARKETING_CHANNEL_30D_PERSISTENT IS_ACCOUNT_VERIFIED  \n",
       "0                                               NaN                 1.0  \n",
       "1                                               NaN                 1.0  \n",
       "2                                               NaN                 1.0  \n",
       "3                                               NaN                 1.0  \n",
       "4                                               NaN                 1.0  \n",
       "...                                             ...                 ...  \n",
       "19939                                           NaN                 1.0  \n",
       "19940                                           NaN                 1.0  \n",
       "19941                                           NaN                 1.0  \n",
       "19942                                           NaN                 1.0  \n",
       "19943                                           NaN                 NaN  \n",
       "\n",
       "[19944 rows x 102 columns]"
      ]
     },
     "execution_count": 25,
     "metadata": {},
     "output_type": "execute_result"
    }
   ],
   "source": [
    "df=pd.read_excel('/Users/leenaomrani/Desktop/vestiaire_case/csv_files/DIM_VC_USR_CUSTOMER.xls')\n",
    "df"
   ]
  },
  {
   "attachments": {},
   "cell_type": "markdown",
   "metadata": {},
   "source": [
    "### The distribution of GMV between Customers"
   ]
  },
  {
   "cell_type": "code",
   "execution_count": null,
   "metadata": {},
   "outputs": [
    {
     "data": {
      "application/vnd.plotly.v1+json": {
       "config": {
        "plotlyServerURL": "https://plot.ly"
       },
       "data": [
        {
         "alignmentgroup": "True",
         "hovertemplate": "USER_SEGMENT=%{x}<br>GMV=%{marker.color}<extra></extra>",
         "legendgroup": "",
         "marker": {
          "color": [
           1798991161910666200,
           637299820372000000,
           493285298320000000,
           207050057788368400,
           180994631888000000,
           116965070024999890,
           114356898443000000,
           93329946265000000,
           59724212524000000,
           11876731457000000,
           11008066994000000,
           0,
           0
          ],
          "coloraxis": "coloraxis",
          "pattern": {
           "shape": ""
          }
         },
         "name": "",
         "offsetgroup": "",
         "orientation": "v",
         "showlegend": false,
         "textposition": "auto",
         "type": "bar",
         "x": [
          "Highly Engaged",
          "Hibernating",
          "Need Attention",
          "At Risk",
          "Inactive 6-12M",
          "About to Sleep",
          "Engaged",
          "At High Risk",
          "Dormant 6M",
          "Potential Engaged",
          "New Customer",
          0,
          true
         ],
         "xaxis": "x",
         "y": [
          1798991161910666200,
          637299820372000000,
          493285298320000000,
          207050057788368400,
          180994631888000000,
          116965070024999890,
          114356898443000000,
          93329946265000000,
          59724212524000000,
          11876731457000000,
          11008066994000000,
          0,
          0
         ],
         "yaxis": "y"
        }
       ],
       "layout": {
        "barmode": "relative",
        "coloraxis": {
         "colorbar": {
          "title": {
           "text": "GMV"
          }
         },
         "colorscale": [
          [
           0,
           "#0d0887"
          ],
          [
           0.1111111111111111,
           "#46039f"
          ],
          [
           0.2222222222222222,
           "#7201a8"
          ],
          [
           0.3333333333333333,
           "#9c179e"
          ],
          [
           0.4444444444444444,
           "#bd3786"
          ],
          [
           0.5555555555555556,
           "#d8576b"
          ],
          [
           0.6666666666666666,
           "#ed7953"
          ],
          [
           0.7777777777777778,
           "#fb9f3a"
          ],
          [
           0.8888888888888888,
           "#fdca26"
          ],
          [
           1,
           "#f0f921"
          ]
         ]
        },
        "legend": {
         "tracegroupgap": 0
        },
        "margin": {
         "t": 60
        },
        "template": {
         "data": {
          "bar": [
           {
            "error_x": {
             "color": "#2a3f5f"
            },
            "error_y": {
             "color": "#2a3f5f"
            },
            "marker": {
             "line": {
              "color": "#E5ECF6",
              "width": 0.5
             },
             "pattern": {
              "fillmode": "overlay",
              "size": 10,
              "solidity": 0.2
             }
            },
            "type": "bar"
           }
          ],
          "barpolar": [
           {
            "marker": {
             "line": {
              "color": "#E5ECF6",
              "width": 0.5
             },
             "pattern": {
              "fillmode": "overlay",
              "size": 10,
              "solidity": 0.2
             }
            },
            "type": "barpolar"
           }
          ],
          "carpet": [
           {
            "aaxis": {
             "endlinecolor": "#2a3f5f",
             "gridcolor": "white",
             "linecolor": "white",
             "minorgridcolor": "white",
             "startlinecolor": "#2a3f5f"
            },
            "baxis": {
             "endlinecolor": "#2a3f5f",
             "gridcolor": "white",
             "linecolor": "white",
             "minorgridcolor": "white",
             "startlinecolor": "#2a3f5f"
            },
            "type": "carpet"
           }
          ],
          "choropleth": [
           {
            "colorbar": {
             "outlinewidth": 0,
             "ticks": ""
            },
            "type": "choropleth"
           }
          ],
          "contour": [
           {
            "colorbar": {
             "outlinewidth": 0,
             "ticks": ""
            },
            "colorscale": [
             [
              0,
              "#0d0887"
             ],
             [
              0.1111111111111111,
              "#46039f"
             ],
             [
              0.2222222222222222,
              "#7201a8"
             ],
             [
              0.3333333333333333,
              "#9c179e"
             ],
             [
              0.4444444444444444,
              "#bd3786"
             ],
             [
              0.5555555555555556,
              "#d8576b"
             ],
             [
              0.6666666666666666,
              "#ed7953"
             ],
             [
              0.7777777777777778,
              "#fb9f3a"
             ],
             [
              0.8888888888888888,
              "#fdca26"
             ],
             [
              1,
              "#f0f921"
             ]
            ],
            "type": "contour"
           }
          ],
          "contourcarpet": [
           {
            "colorbar": {
             "outlinewidth": 0,
             "ticks": ""
            },
            "type": "contourcarpet"
           }
          ],
          "heatmap": [
           {
            "colorbar": {
             "outlinewidth": 0,
             "ticks": ""
            },
            "colorscale": [
             [
              0,
              "#0d0887"
             ],
             [
              0.1111111111111111,
              "#46039f"
             ],
             [
              0.2222222222222222,
              "#7201a8"
             ],
             [
              0.3333333333333333,
              "#9c179e"
             ],
             [
              0.4444444444444444,
              "#bd3786"
             ],
             [
              0.5555555555555556,
              "#d8576b"
             ],
             [
              0.6666666666666666,
              "#ed7953"
             ],
             [
              0.7777777777777778,
              "#fb9f3a"
             ],
             [
              0.8888888888888888,
              "#fdca26"
             ],
             [
              1,
              "#f0f921"
             ]
            ],
            "type": "heatmap"
           }
          ],
          "heatmapgl": [
           {
            "colorbar": {
             "outlinewidth": 0,
             "ticks": ""
            },
            "colorscale": [
             [
              0,
              "#0d0887"
             ],
             [
              0.1111111111111111,
              "#46039f"
             ],
             [
              0.2222222222222222,
              "#7201a8"
             ],
             [
              0.3333333333333333,
              "#9c179e"
             ],
             [
              0.4444444444444444,
              "#bd3786"
             ],
             [
              0.5555555555555556,
              "#d8576b"
             ],
             [
              0.6666666666666666,
              "#ed7953"
             ],
             [
              0.7777777777777778,
              "#fb9f3a"
             ],
             [
              0.8888888888888888,
              "#fdca26"
             ],
             [
              1,
              "#f0f921"
             ]
            ],
            "type": "heatmapgl"
           }
          ],
          "histogram": [
           {
            "marker": {
             "pattern": {
              "fillmode": "overlay",
              "size": 10,
              "solidity": 0.2
             }
            },
            "type": "histogram"
           }
          ],
          "histogram2d": [
           {
            "colorbar": {
             "outlinewidth": 0,
             "ticks": ""
            },
            "colorscale": [
             [
              0,
              "#0d0887"
             ],
             [
              0.1111111111111111,
              "#46039f"
             ],
             [
              0.2222222222222222,
              "#7201a8"
             ],
             [
              0.3333333333333333,
              "#9c179e"
             ],
             [
              0.4444444444444444,
              "#bd3786"
             ],
             [
              0.5555555555555556,
              "#d8576b"
             ],
             [
              0.6666666666666666,
              "#ed7953"
             ],
             [
              0.7777777777777778,
              "#fb9f3a"
             ],
             [
              0.8888888888888888,
              "#fdca26"
             ],
             [
              1,
              "#f0f921"
             ]
            ],
            "type": "histogram2d"
           }
          ],
          "histogram2dcontour": [
           {
            "colorbar": {
             "outlinewidth": 0,
             "ticks": ""
            },
            "colorscale": [
             [
              0,
              "#0d0887"
             ],
             [
              0.1111111111111111,
              "#46039f"
             ],
             [
              0.2222222222222222,
              "#7201a8"
             ],
             [
              0.3333333333333333,
              "#9c179e"
             ],
             [
              0.4444444444444444,
              "#bd3786"
             ],
             [
              0.5555555555555556,
              "#d8576b"
             ],
             [
              0.6666666666666666,
              "#ed7953"
             ],
             [
              0.7777777777777778,
              "#fb9f3a"
             ],
             [
              0.8888888888888888,
              "#fdca26"
             ],
             [
              1,
              "#f0f921"
             ]
            ],
            "type": "histogram2dcontour"
           }
          ],
          "mesh3d": [
           {
            "colorbar": {
             "outlinewidth": 0,
             "ticks": ""
            },
            "type": "mesh3d"
           }
          ],
          "parcoords": [
           {
            "line": {
             "colorbar": {
              "outlinewidth": 0,
              "ticks": ""
             }
            },
            "type": "parcoords"
           }
          ],
          "pie": [
           {
            "automargin": true,
            "type": "pie"
           }
          ],
          "scatter": [
           {
            "marker": {
             "colorbar": {
              "outlinewidth": 0,
              "ticks": ""
             }
            },
            "type": "scatter"
           }
          ],
          "scatter3d": [
           {
            "line": {
             "colorbar": {
              "outlinewidth": 0,
              "ticks": ""
             }
            },
            "marker": {
             "colorbar": {
              "outlinewidth": 0,
              "ticks": ""
             }
            },
            "type": "scatter3d"
           }
          ],
          "scattercarpet": [
           {
            "marker": {
             "colorbar": {
              "outlinewidth": 0,
              "ticks": ""
             }
            },
            "type": "scattercarpet"
           }
          ],
          "scattergeo": [
           {
            "marker": {
             "colorbar": {
              "outlinewidth": 0,
              "ticks": ""
             }
            },
            "type": "scattergeo"
           }
          ],
          "scattergl": [
           {
            "marker": {
             "colorbar": {
              "outlinewidth": 0,
              "ticks": ""
             }
            },
            "type": "scattergl"
           }
          ],
          "scattermapbox": [
           {
            "marker": {
             "colorbar": {
              "outlinewidth": 0,
              "ticks": ""
             }
            },
            "type": "scattermapbox"
           }
          ],
          "scatterpolar": [
           {
            "marker": {
             "colorbar": {
              "outlinewidth": 0,
              "ticks": ""
             }
            },
            "type": "scatterpolar"
           }
          ],
          "scatterpolargl": [
           {
            "marker": {
             "colorbar": {
              "outlinewidth": 0,
              "ticks": ""
             }
            },
            "type": "scatterpolargl"
           }
          ],
          "scatterternary": [
           {
            "marker": {
             "colorbar": {
              "outlinewidth": 0,
              "ticks": ""
             }
            },
            "type": "scatterternary"
           }
          ],
          "surface": [
           {
            "colorbar": {
             "outlinewidth": 0,
             "ticks": ""
            },
            "colorscale": [
             [
              0,
              "#0d0887"
             ],
             [
              0.1111111111111111,
              "#46039f"
             ],
             [
              0.2222222222222222,
              "#7201a8"
             ],
             [
              0.3333333333333333,
              "#9c179e"
             ],
             [
              0.4444444444444444,
              "#bd3786"
             ],
             [
              0.5555555555555556,
              "#d8576b"
             ],
             [
              0.6666666666666666,
              "#ed7953"
             ],
             [
              0.7777777777777778,
              "#fb9f3a"
             ],
             [
              0.8888888888888888,
              "#fdca26"
             ],
             [
              1,
              "#f0f921"
             ]
            ],
            "type": "surface"
           }
          ],
          "table": [
           {
            "cells": {
             "fill": {
              "color": "#EBF0F8"
             },
             "line": {
              "color": "white"
             }
            },
            "header": {
             "fill": {
              "color": "#C8D4E3"
             },
             "line": {
              "color": "white"
             }
            },
            "type": "table"
           }
          ]
         },
         "layout": {
          "annotationdefaults": {
           "arrowcolor": "#2a3f5f",
           "arrowhead": 0,
           "arrowwidth": 1
          },
          "autotypenumbers": "strict",
          "coloraxis": {
           "colorbar": {
            "outlinewidth": 0,
            "ticks": ""
           }
          },
          "colorscale": {
           "diverging": [
            [
             0,
             "#8e0152"
            ],
            [
             0.1,
             "#c51b7d"
            ],
            [
             0.2,
             "#de77ae"
            ],
            [
             0.3,
             "#f1b6da"
            ],
            [
             0.4,
             "#fde0ef"
            ],
            [
             0.5,
             "#f7f7f7"
            ],
            [
             0.6,
             "#e6f5d0"
            ],
            [
             0.7,
             "#b8e186"
            ],
            [
             0.8,
             "#7fbc41"
            ],
            [
             0.9,
             "#4d9221"
            ],
            [
             1,
             "#276419"
            ]
           ],
           "sequential": [
            [
             0,
             "#0d0887"
            ],
            [
             0.1111111111111111,
             "#46039f"
            ],
            [
             0.2222222222222222,
             "#7201a8"
            ],
            [
             0.3333333333333333,
             "#9c179e"
            ],
            [
             0.4444444444444444,
             "#bd3786"
            ],
            [
             0.5555555555555556,
             "#d8576b"
            ],
            [
             0.6666666666666666,
             "#ed7953"
            ],
            [
             0.7777777777777778,
             "#fb9f3a"
            ],
            [
             0.8888888888888888,
             "#fdca26"
            ],
            [
             1,
             "#f0f921"
            ]
           ],
           "sequentialminus": [
            [
             0,
             "#0d0887"
            ],
            [
             0.1111111111111111,
             "#46039f"
            ],
            [
             0.2222222222222222,
             "#7201a8"
            ],
            [
             0.3333333333333333,
             "#9c179e"
            ],
            [
             0.4444444444444444,
             "#bd3786"
            ],
            [
             0.5555555555555556,
             "#d8576b"
            ],
            [
             0.6666666666666666,
             "#ed7953"
            ],
            [
             0.7777777777777778,
             "#fb9f3a"
            ],
            [
             0.8888888888888888,
             "#fdca26"
            ],
            [
             1,
             "#f0f921"
            ]
           ]
          },
          "colorway": [
           "#636efa",
           "#EF553B",
           "#00cc96",
           "#ab63fa",
           "#FFA15A",
           "#19d3f3",
           "#FF6692",
           "#B6E880",
           "#FF97FF",
           "#FECB52"
          ],
          "font": {
           "color": "#2a3f5f"
          },
          "geo": {
           "bgcolor": "white",
           "lakecolor": "white",
           "landcolor": "#E5ECF6",
           "showlakes": true,
           "showland": true,
           "subunitcolor": "white"
          },
          "hoverlabel": {
           "align": "left"
          },
          "hovermode": "closest",
          "mapbox": {
           "style": "light"
          },
          "paper_bgcolor": "white",
          "plot_bgcolor": "#E5ECF6",
          "polar": {
           "angularaxis": {
            "gridcolor": "white",
            "linecolor": "white",
            "ticks": ""
           },
           "bgcolor": "#E5ECF6",
           "radialaxis": {
            "gridcolor": "white",
            "linecolor": "white",
            "ticks": ""
           }
          },
          "scene": {
           "xaxis": {
            "backgroundcolor": "#E5ECF6",
            "gridcolor": "white",
            "gridwidth": 2,
            "linecolor": "white",
            "showbackground": true,
            "ticks": "",
            "zerolinecolor": "white"
           },
           "yaxis": {
            "backgroundcolor": "#E5ECF6",
            "gridcolor": "white",
            "gridwidth": 2,
            "linecolor": "white",
            "showbackground": true,
            "ticks": "",
            "zerolinecolor": "white"
           },
           "zaxis": {
            "backgroundcolor": "#E5ECF6",
            "gridcolor": "white",
            "gridwidth": 2,
            "linecolor": "white",
            "showbackground": true,
            "ticks": "",
            "zerolinecolor": "white"
           }
          },
          "shapedefaults": {
           "line": {
            "color": "#2a3f5f"
           }
          },
          "ternary": {
           "aaxis": {
            "gridcolor": "white",
            "linecolor": "white",
            "ticks": ""
           },
           "baxis": {
            "gridcolor": "white",
            "linecolor": "white",
            "ticks": ""
           },
           "bgcolor": "#E5ECF6",
           "caxis": {
            "gridcolor": "white",
            "linecolor": "white",
            "ticks": ""
           }
          },
          "title": {
           "x": 0.05
          },
          "xaxis": {
           "automargin": true,
           "gridcolor": "white",
           "linecolor": "white",
           "ticks": "",
           "title": {
            "standoff": 15
           },
           "zerolinecolor": "white",
           "zerolinewidth": 2
          },
          "yaxis": {
           "automargin": true,
           "gridcolor": "white",
           "linecolor": "white",
           "ticks": "",
           "title": {
            "standoff": 15
           },
           "zerolinecolor": "white",
           "zerolinewidth": 2
          }
         }
        },
        "title": {
         "text": "Distribution of GMV between Customer Segments"
        },
        "xaxis": {
         "anchor": "y",
         "categoryorder": "total descending",
         "domain": [
          0,
          1
         ],
         "title": {
          "text": "User Segment"
         }
        },
        "yaxis": {
         "anchor": "x",
         "domain": [
          0,
          1
         ],
         "tickformat": "$,.0f",
         "title": {
          "text": "GMV"
         }
        }
       }
      }
     },
     "metadata": {},
     "output_type": "display_data"
    }
   ],
   "source": [
    "import plotly.express as px\n",
    "\n",
    "# Assuming you have a DataFrame called 'df' with columns 'user segment' and 'GMV'\n",
    "# Replace 'user segment' and 'GMV' with your actual column names\n",
    "\n",
    "# Group the data by user segment and calculate the sum of GMV\n",
    "segment_gmv = df.groupby('USER_SEGMENT')['GMV'].sum().sort_values(ascending=False).reset_index()\n",
    "\n",
    "# Create an interactive bar plot using Plotly\n",
    "fig = px.bar(segment_gmv, x='USER_SEGMENT', y='GMV', color='GMV')\n",
    "\n",
    "# Customize the appearance of the plot\n",
    "fig.update_layout(\n",
    "    title='Distribution of GMV between Customer Segments',\n",
    "    xaxis_title='User Segment',\n",
    "    yaxis_title='GMV',\n",
    "    xaxis={'categoryorder': 'total descending'},\n",
    "    yaxis_tickformat='$,.0f'  # Format GMV values as currency\n",
    ")\n",
    "\n",
    "# Display the interactive plot\n",
    "fig.show()"
   ]
  },
  {
   "cell_type": "code",
   "execution_count": null,
   "metadata": {},
   "outputs": [
    {
     "name": "stdout",
     "output_type": "stream",
     "text": [
      "                                             ID_CUSTOMER ID_GENDER  \\\n",
      "0                                               17257021         2   \n",
      "1                                                9117724         2   \n",
      "2                                                8862262         2   \n",
      "3                                                6757583         1   \n",
      "4                                               14268557         0   \n",
      "...                                                  ...       ...   \n",
      "19939                                              91661         2   \n",
      "19940                                           16812898         2   \n",
      "19941                                           11347815         3   \n",
      "19942                                            8264108         1   \n",
      "19943  8264108,1,,,2019-03-26T22:12:27Z,,2020-11-04T2...       NaN   \n",
      "\n",
      "            DATE_NEW_BUYER      DATE_NEW_SELLER             DATE_CREATION  \\\n",
      "0                      NaN                  NaN 2022-06-27 16:52:12+00:00   \n",
      "1                      NaN                  NaN 2019-12-07 10:37:28+00:00   \n",
      "2                      NaN                  NaN 2019-10-14 03:40:34+00:00   \n",
      "3      2018-04-28 00:00:00  2022-05-29 00:00:00 2018-04-25 23:26:26+00:00   \n",
      "4                      NaN                  NaN 2021-10-21 20:11:19+00:00   \n",
      "...                    ...                  ...                       ...   \n",
      "19939  2013-04-15 00:00:00                  NaN 2011-03-24 12:56:00+00:00   \n",
      "19940                  NaN                  NaN 2022-05-08 17:25:01+00:00   \n",
      "19941                  NaN                  NaN 2020-12-22 23:43:49+00:00   \n",
      "19942                  NaN                  NaN 2019-03-26 22:12:27+00:00   \n",
      "19943                  NaN                  NaN                       NaT   \n",
      "\n",
      "            DATE_LAST_LOGIN ID_COUNTRY DEVICE_BRAND REGISTRATION_DEVICE  \\\n",
      "0      2022-06-27T16:52:13Z         74        other             desktop   \n",
      "1      2019-12-07T10:37:29Z        223        other             desktop   \n",
      "2      2019-10-14T03:40:35Z        223        other             desktop   \n",
      "3      2023-03-31T21:32:55Z         57        other             desktop   \n",
      "4      2021-10-21T20:11:20Z         74          iOS          smartphone   \n",
      "...                     ...        ...          ...                 ...   \n",
      "19939  2023-01-28T23:28:14Z         74          NaN                 NaN   \n",
      "19940  2022-05-08T17:25:07Z         81          iOS          smartphone   \n",
      "19941  2020-12-22T23:43:51Z        223          iOS          smartphone   \n",
      "19942  2020-11-04T21:13:42Z         74          iOS          smartphone   \n",
      "19943                   NaN        NaN          NaN                 NaN   \n",
      "\n",
      "      REGISTRATION_CHANNEL  ...     DATE_LAST_SESSION BRAZE_IS_OPTIN_PUSH  \\\n",
      "0                      web  ...                   NaN                 NaN   \n",
      "1                      web  ...                   NaN                 NaN   \n",
      "2                      web  ...                   NaN                 NaN   \n",
      "3                      web  ...  2023-03-27T09:44:07Z                 0.0   \n",
      "4                      app  ...  2021-10-21T18:11:20Z                 0.0   \n",
      "...                    ...  ...                   ...                 ...   \n",
      "19939                  NaN  ...  2021-11-26T11:58:36Z                 0.0   \n",
      "19940                  app  ...                   NaN                 1.0   \n",
      "19941                  app  ...  2020-12-24T16:47:28Z                 1.0   \n",
      "19942                  app  ...  2020-11-04T20:13:42Z                 0.0   \n",
      "19943                  NaN  ...                   NaN                 NaN   \n",
      "\n",
      "      BRAZE_CURRENT_IDFA_STATUS  BRAZE_LAST_EVENT_DEVICE_PLATFORM  \\\n",
      "0                           NaN                               NaN   \n",
      "1                           NaN                               NaN   \n",
      "2                           NaN                               NaN   \n",
      "3                            no                               iOS   \n",
      "4                           yes                               iOS   \n",
      "...                         ...                               ...   \n",
      "19939                 not asked                               iOS   \n",
      "19940                       NaN                               iOS   \n",
      "19941                       NaN                               iOS   \n",
      "19942                       NaN                               iOS   \n",
      "19943                       NaN                               NaN   \n",
      "\n",
      "                      UPDATEDAT             BUYER_SEGMENT  \\\n",
      "0      2023-04-25T07:24:25.633Z                       NaN   \n",
      "1      2023-04-25T07:24:25.633Z                       NaN   \n",
      "2      2023-04-25T07:24:25.633Z                       NaN   \n",
      "3      2023-04-25T07:24:25.633Z    Top buyers - low value   \n",
      "4      2023-04-25T07:24:25.633Z                       NaN   \n",
      "...                         ...                       ...   \n",
      "19939  2023-04-25T07:24:25.633Z  Low potential one timers   \n",
      "19940  2023-04-25T07:24:25.633Z                       NaN   \n",
      "19941  2023-04-25T07:24:25.633Z                       NaN   \n",
      "19942  2023-04-25T07:24:25.633Z                       NaN   \n",
      "19943                       NaN                       NaN   \n",
      "\n",
      "             SELLER_SEGMENT    year  month   day  \n",
      "0                       NaN  2022.0    6.0  27.0  \n",
      "1                       NaN  2019.0   12.0   7.0  \n",
      "2                       NaN  2019.0   10.0  14.0  \n",
      "3      Low quality repeater  2018.0    4.0  25.0  \n",
      "4                       NaN  2021.0   10.0  21.0  \n",
      "...                     ...     ...    ...   ...  \n",
      "19939                   NaN  2011.0    3.0  24.0  \n",
      "19940                   NaN  2022.0    5.0   8.0  \n",
      "19941                   NaN  2020.0   12.0  22.0  \n",
      "19942                   NaN  2019.0    3.0  26.0  \n",
      "19943                   NaN     NaN    NaN   NaN  \n",
      "\n",
      "[19944 rows x 65 columns]\n"
     ]
    }
   ],
   "source": [
    "df['DATE_CREATION'] = pd.to_datetime(df['DATE_CREATION'])\n",
    "\n",
    "# Extract the year, month, and day into separate columns\n",
    "df['year'] = df['DATE_CREATION'].apply(lambda x: x.year)\n",
    "df['month'] = df['DATE_CREATION'].apply(lambda x: x.month)\n",
    "df['day'] = df['DATE_CREATION'].apply(lambda x: x.day)\n",
    "\n",
    "# Print the modified DataFrame\n",
    "print(df)"
   ]
  },
  {
   "cell_type": "code",
   "execution_count": null,
   "metadata": {},
   "outputs": [
    {
     "name": "stdout",
     "output_type": "stream",
     "text": [
      "                                             ID_CUSTOMER ID_GENDER  \\\n",
      "0                                               17257021         2   \n",
      "1                                                9117724         2   \n",
      "2                                                8862262         2   \n",
      "3                                                6757583         1   \n",
      "4                                               14268557         0   \n",
      "...                                                  ...       ...   \n",
      "19939                                              91661         2   \n",
      "19940                                           16812898         2   \n",
      "19941                                           11347815         3   \n",
      "19942                                            8264108         1   \n",
      "19943  8264108,1,,,2019-03-26T22:12:27Z,,2020-11-04T2...       NaN   \n",
      "\n",
      "            DATE_NEW_BUYER      DATE_NEW_SELLER DATE_CREATION  \\\n",
      "0                      NaN                  NaN    2022-06-27   \n",
      "1                      NaN                  NaN    2019-12-07   \n",
      "2                      NaN                  NaN    2019-10-14   \n",
      "3      2018-04-28 00:00:00  2022-05-29 00:00:00    2018-04-25   \n",
      "4                      NaN                  NaN    2021-10-21   \n",
      "...                    ...                  ...           ...   \n",
      "19939  2013-04-15 00:00:00                  NaN    2011-03-24   \n",
      "19940                  NaN                  NaN    2022-05-08   \n",
      "19941                  NaN                  NaN    2020-12-22   \n",
      "19942                  NaN                  NaN    2019-03-26   \n",
      "19943                  NaN                  NaN           NaT   \n",
      "\n",
      "            DATE_LAST_LOGIN ID_COUNTRY DEVICE_BRAND REGISTRATION_DEVICE  \\\n",
      "0      2022-06-27T16:52:13Z         74        other             desktop   \n",
      "1      2019-12-07T10:37:29Z        223        other             desktop   \n",
      "2      2019-10-14T03:40:35Z        223        other             desktop   \n",
      "3      2023-03-31T21:32:55Z         57        other             desktop   \n",
      "4      2021-10-21T20:11:20Z         74          iOS          smartphone   \n",
      "...                     ...        ...          ...                 ...   \n",
      "19939  2023-01-28T23:28:14Z         74          NaN                 NaN   \n",
      "19940  2022-05-08T17:25:07Z         81          iOS          smartphone   \n",
      "19941  2020-12-22T23:43:51Z        223          iOS          smartphone   \n",
      "19942  2020-11-04T21:13:42Z         74          iOS          smartphone   \n",
      "19943                   NaN        NaN          NaN                 NaN   \n",
      "\n",
      "      REGISTRATION_CHANNEL  ...     DATE_LAST_SESSION BRAZE_IS_OPTIN_PUSH  \\\n",
      "0                      web  ...                   NaN                 NaN   \n",
      "1                      web  ...                   NaN                 NaN   \n",
      "2                      web  ...                   NaN                 NaN   \n",
      "3                      web  ...  2023-03-27T09:44:07Z                 0.0   \n",
      "4                      app  ...  2021-10-21T18:11:20Z                 0.0   \n",
      "...                    ...  ...                   ...                 ...   \n",
      "19939                  NaN  ...  2021-11-26T11:58:36Z                 0.0   \n",
      "19940                  app  ...                   NaN                 1.0   \n",
      "19941                  app  ...  2020-12-24T16:47:28Z                 1.0   \n",
      "19942                  app  ...  2020-11-04T20:13:42Z                 0.0   \n",
      "19943                  NaN  ...                   NaN                 NaN   \n",
      "\n",
      "      BRAZE_CURRENT_IDFA_STATUS  BRAZE_LAST_EVENT_DEVICE_PLATFORM  \\\n",
      "0                           NaN                               NaN   \n",
      "1                           NaN                               NaN   \n",
      "2                           NaN                               NaN   \n",
      "3                            no                               iOS   \n",
      "4                           yes                               iOS   \n",
      "...                         ...                               ...   \n",
      "19939                 not asked                               iOS   \n",
      "19940                       NaN                               iOS   \n",
      "19941                       NaN                               iOS   \n",
      "19942                       NaN                               iOS   \n",
      "19943                       NaN                               NaN   \n",
      "\n",
      "                      UPDATEDAT             BUYER_SEGMENT  \\\n",
      "0      2023-04-25T07:24:25.633Z                       NaN   \n",
      "1      2023-04-25T07:24:25.633Z                       NaN   \n",
      "2      2023-04-25T07:24:25.633Z                       NaN   \n",
      "3      2023-04-25T07:24:25.633Z    Top buyers - low value   \n",
      "4      2023-04-25T07:24:25.633Z                       NaN   \n",
      "...                         ...                       ...   \n",
      "19939  2023-04-25T07:24:25.633Z  Low potential one timers   \n",
      "19940  2023-04-25T07:24:25.633Z                       NaN   \n",
      "19941  2023-04-25T07:24:25.633Z                       NaN   \n",
      "19942  2023-04-25T07:24:25.633Z                       NaN   \n",
      "19943                       NaN                       NaN   \n",
      "\n",
      "             SELLER_SEGMENT    year  month   day  \n",
      "0                       NaN  2022.0    6.0  27.0  \n",
      "1                       NaN  2019.0   12.0   7.0  \n",
      "2                       NaN  2019.0   10.0  14.0  \n",
      "3      Low quality repeater  2018.0    4.0  25.0  \n",
      "4                       NaN  2021.0   10.0  21.0  \n",
      "...                     ...     ...    ...   ...  \n",
      "19939                   NaN  2011.0    3.0  24.0  \n",
      "19940                   NaN  2022.0    5.0   8.0  \n",
      "19941                   NaN  2020.0   12.0  22.0  \n",
      "19942                   NaN  2019.0    3.0  26.0  \n",
      "19943                   NaN     NaN    NaN   NaN  \n",
      "\n",
      "[19944 rows x 65 columns]\n"
     ]
    }
   ],
   "source": [
    "df['DATE_CREATION'] = pd.to_datetime(df['DATE_CREATION'])\n",
    "\n",
    "# Extract only the date component from the datetime object\n",
    "df['DATE_CREATION'] = df['DATE_CREATION'].dt.date\n",
    "\n",
    "# Print the modified DataFrame\n",
    "print(df)"
   ]
  },
  {
   "cell_type": "code",
   "execution_count": null,
   "metadata": {},
   "outputs": [
    {
     "data": {
      "text/html": [
       "<div>\n",
       "<style scoped>\n",
       "    .dataframe tbody tr th:only-of-type {\n",
       "        vertical-align: middle;\n",
       "    }\n",
       "\n",
       "    .dataframe tbody tr th {\n",
       "        vertical-align: top;\n",
       "    }\n",
       "\n",
       "    .dataframe thead th {\n",
       "        text-align: right;\n",
       "    }\n",
       "</style>\n",
       "<table border=\"1\" class=\"dataframe\">\n",
       "  <thead>\n",
       "    <tr style=\"text-align: right;\">\n",
       "      <th></th>\n",
       "      <th>ID_CUSTOMER</th>\n",
       "      <th>ID_GENDER</th>\n",
       "      <th>DATE_NEW_BUYER</th>\n",
       "      <th>DATE_NEW_SELLER</th>\n",
       "      <th>DATE_CREATION</th>\n",
       "      <th>DATE_LAST_LOGIN</th>\n",
       "      <th>ID_COUNTRY</th>\n",
       "      <th>DEVICE_BRAND</th>\n",
       "      <th>REGISTRATION_DEVICE</th>\n",
       "      <th>REGISTRATION_CHANNEL</th>\n",
       "      <th>...</th>\n",
       "      <th>DATE_LAST_SESSION</th>\n",
       "      <th>BRAZE_IS_OPTIN_PUSH</th>\n",
       "      <th>BRAZE_CURRENT_IDFA_STATUS</th>\n",
       "      <th>BRAZE_LAST_EVENT_DEVICE_PLATFORM</th>\n",
       "      <th>UPDATEDAT</th>\n",
       "      <th>BUYER_SEGMENT</th>\n",
       "      <th>SELLER_SEGMENT</th>\n",
       "      <th>year</th>\n",
       "      <th>month</th>\n",
       "      <th>day</th>\n",
       "    </tr>\n",
       "  </thead>\n",
       "  <tbody>\n",
       "    <tr>\n",
       "      <th>0</th>\n",
       "      <td>17257021</td>\n",
       "      <td>2</td>\n",
       "      <td>NaN</td>\n",
       "      <td>NaN</td>\n",
       "      <td>2022-06-27</td>\n",
       "      <td>2022-06-27T16:52:13Z</td>\n",
       "      <td>74</td>\n",
       "      <td>other</td>\n",
       "      <td>desktop</td>\n",
       "      <td>web</td>\n",
       "      <td>...</td>\n",
       "      <td>NaN</td>\n",
       "      <td>NaN</td>\n",
       "      <td>NaN</td>\n",
       "      <td>NaN</td>\n",
       "      <td>2023-04-25T07:24:25.633Z</td>\n",
       "      <td>NaN</td>\n",
       "      <td>NaN</td>\n",
       "      <td>2022.0</td>\n",
       "      <td>6.0</td>\n",
       "      <td>27.0</td>\n",
       "    </tr>\n",
       "    <tr>\n",
       "      <th>1</th>\n",
       "      <td>9117724</td>\n",
       "      <td>2</td>\n",
       "      <td>NaN</td>\n",
       "      <td>NaN</td>\n",
       "      <td>2019-12-07</td>\n",
       "      <td>2019-12-07T10:37:29Z</td>\n",
       "      <td>223</td>\n",
       "      <td>other</td>\n",
       "      <td>desktop</td>\n",
       "      <td>web</td>\n",
       "      <td>...</td>\n",
       "      <td>NaN</td>\n",
       "      <td>NaN</td>\n",
       "      <td>NaN</td>\n",
       "      <td>NaN</td>\n",
       "      <td>2023-04-25T07:24:25.633Z</td>\n",
       "      <td>NaN</td>\n",
       "      <td>NaN</td>\n",
       "      <td>2019.0</td>\n",
       "      <td>12.0</td>\n",
       "      <td>7.0</td>\n",
       "    </tr>\n",
       "    <tr>\n",
       "      <th>2</th>\n",
       "      <td>8862262</td>\n",
       "      <td>2</td>\n",
       "      <td>NaN</td>\n",
       "      <td>NaN</td>\n",
       "      <td>2019-10-14</td>\n",
       "      <td>2019-10-14T03:40:35Z</td>\n",
       "      <td>223</td>\n",
       "      <td>other</td>\n",
       "      <td>desktop</td>\n",
       "      <td>web</td>\n",
       "      <td>...</td>\n",
       "      <td>NaN</td>\n",
       "      <td>NaN</td>\n",
       "      <td>NaN</td>\n",
       "      <td>NaN</td>\n",
       "      <td>2023-04-25T07:24:25.633Z</td>\n",
       "      <td>NaN</td>\n",
       "      <td>NaN</td>\n",
       "      <td>2019.0</td>\n",
       "      <td>10.0</td>\n",
       "      <td>14.0</td>\n",
       "    </tr>\n",
       "    <tr>\n",
       "      <th>3</th>\n",
       "      <td>6757583</td>\n",
       "      <td>1</td>\n",
       "      <td>2018-04-28 00:00:00</td>\n",
       "      <td>2022-05-29 00:00:00</td>\n",
       "      <td>2018-04-25</td>\n",
       "      <td>2023-03-31T21:32:55Z</td>\n",
       "      <td>57</td>\n",
       "      <td>other</td>\n",
       "      <td>desktop</td>\n",
       "      <td>web</td>\n",
       "      <td>...</td>\n",
       "      <td>2023-03-27T09:44:07Z</td>\n",
       "      <td>0.0</td>\n",
       "      <td>no</td>\n",
       "      <td>iOS</td>\n",
       "      <td>2023-04-25T07:24:25.633Z</td>\n",
       "      <td>Top buyers - low value</td>\n",
       "      <td>Low quality repeater</td>\n",
       "      <td>2018.0</td>\n",
       "      <td>4.0</td>\n",
       "      <td>25.0</td>\n",
       "    </tr>\n",
       "    <tr>\n",
       "      <th>4</th>\n",
       "      <td>14268557</td>\n",
       "      <td>0</td>\n",
       "      <td>NaN</td>\n",
       "      <td>NaN</td>\n",
       "      <td>2021-10-21</td>\n",
       "      <td>2021-10-21T20:11:20Z</td>\n",
       "      <td>74</td>\n",
       "      <td>iOS</td>\n",
       "      <td>smartphone</td>\n",
       "      <td>app</td>\n",
       "      <td>...</td>\n",
       "      <td>2021-10-21T18:11:20Z</td>\n",
       "      <td>0.0</td>\n",
       "      <td>yes</td>\n",
       "      <td>iOS</td>\n",
       "      <td>2023-04-25T07:24:25.633Z</td>\n",
       "      <td>NaN</td>\n",
       "      <td>NaN</td>\n",
       "      <td>2021.0</td>\n",
       "      <td>10.0</td>\n",
       "      <td>21.0</td>\n",
       "    </tr>\n",
       "    <tr>\n",
       "      <th>...</th>\n",
       "      <td>...</td>\n",
       "      <td>...</td>\n",
       "      <td>...</td>\n",
       "      <td>...</td>\n",
       "      <td>...</td>\n",
       "      <td>...</td>\n",
       "      <td>...</td>\n",
       "      <td>...</td>\n",
       "      <td>...</td>\n",
       "      <td>...</td>\n",
       "      <td>...</td>\n",
       "      <td>...</td>\n",
       "      <td>...</td>\n",
       "      <td>...</td>\n",
       "      <td>...</td>\n",
       "      <td>...</td>\n",
       "      <td>...</td>\n",
       "      <td>...</td>\n",
       "      <td>...</td>\n",
       "      <td>...</td>\n",
       "      <td>...</td>\n",
       "    </tr>\n",
       "    <tr>\n",
       "      <th>19939</th>\n",
       "      <td>91661</td>\n",
       "      <td>2</td>\n",
       "      <td>2013-04-15 00:00:00</td>\n",
       "      <td>NaN</td>\n",
       "      <td>2011-03-24</td>\n",
       "      <td>2023-01-28T23:28:14Z</td>\n",
       "      <td>74</td>\n",
       "      <td>NaN</td>\n",
       "      <td>NaN</td>\n",
       "      <td>NaN</td>\n",
       "      <td>...</td>\n",
       "      <td>2021-11-26T11:58:36Z</td>\n",
       "      <td>0.0</td>\n",
       "      <td>not asked</td>\n",
       "      <td>iOS</td>\n",
       "      <td>2023-04-25T07:24:25.633Z</td>\n",
       "      <td>Low potential one timers</td>\n",
       "      <td>NaN</td>\n",
       "      <td>2011.0</td>\n",
       "      <td>3.0</td>\n",
       "      <td>24.0</td>\n",
       "    </tr>\n",
       "    <tr>\n",
       "      <th>19940</th>\n",
       "      <td>16812898</td>\n",
       "      <td>2</td>\n",
       "      <td>NaN</td>\n",
       "      <td>NaN</td>\n",
       "      <td>2022-05-08</td>\n",
       "      <td>2022-05-08T17:25:07Z</td>\n",
       "      <td>81</td>\n",
       "      <td>iOS</td>\n",
       "      <td>smartphone</td>\n",
       "      <td>app</td>\n",
       "      <td>...</td>\n",
       "      <td>NaN</td>\n",
       "      <td>1.0</td>\n",
       "      <td>NaN</td>\n",
       "      <td>iOS</td>\n",
       "      <td>2023-04-25T07:24:25.633Z</td>\n",
       "      <td>NaN</td>\n",
       "      <td>NaN</td>\n",
       "      <td>2022.0</td>\n",
       "      <td>5.0</td>\n",
       "      <td>8.0</td>\n",
       "    </tr>\n",
       "    <tr>\n",
       "      <th>19941</th>\n",
       "      <td>11347815</td>\n",
       "      <td>3</td>\n",
       "      <td>NaN</td>\n",
       "      <td>NaN</td>\n",
       "      <td>2020-12-22</td>\n",
       "      <td>2020-12-22T23:43:51Z</td>\n",
       "      <td>223</td>\n",
       "      <td>iOS</td>\n",
       "      <td>smartphone</td>\n",
       "      <td>app</td>\n",
       "      <td>...</td>\n",
       "      <td>2020-12-24T16:47:28Z</td>\n",
       "      <td>1.0</td>\n",
       "      <td>NaN</td>\n",
       "      <td>iOS</td>\n",
       "      <td>2023-04-25T07:24:25.633Z</td>\n",
       "      <td>NaN</td>\n",
       "      <td>NaN</td>\n",
       "      <td>2020.0</td>\n",
       "      <td>12.0</td>\n",
       "      <td>22.0</td>\n",
       "    </tr>\n",
       "    <tr>\n",
       "      <th>19942</th>\n",
       "      <td>8264108</td>\n",
       "      <td>1</td>\n",
       "      <td>NaN</td>\n",
       "      <td>NaN</td>\n",
       "      <td>2019-03-26</td>\n",
       "      <td>2020-11-04T21:13:42Z</td>\n",
       "      <td>74</td>\n",
       "      <td>iOS</td>\n",
       "      <td>smartphone</td>\n",
       "      <td>app</td>\n",
       "      <td>...</td>\n",
       "      <td>2020-11-04T20:13:42Z</td>\n",
       "      <td>0.0</td>\n",
       "      <td>NaN</td>\n",
       "      <td>iOS</td>\n",
       "      <td>2023-04-25T07:24:25.633Z</td>\n",
       "      <td>NaN</td>\n",
       "      <td>NaN</td>\n",
       "      <td>2019.0</td>\n",
       "      <td>3.0</td>\n",
       "      <td>26.0</td>\n",
       "    </tr>\n",
       "    <tr>\n",
       "      <th>19943</th>\n",
       "      <td>8264108,1,,,2019-03-26T22:12:27Z,,2020-11-04T2...</td>\n",
       "      <td>NaN</td>\n",
       "      <td>NaN</td>\n",
       "      <td>NaN</td>\n",
       "      <td>NaT</td>\n",
       "      <td>NaN</td>\n",
       "      <td>NaN</td>\n",
       "      <td>NaN</td>\n",
       "      <td>NaN</td>\n",
       "      <td>NaN</td>\n",
       "      <td>...</td>\n",
       "      <td>NaN</td>\n",
       "      <td>NaN</td>\n",
       "      <td>NaN</td>\n",
       "      <td>NaN</td>\n",
       "      <td>NaN</td>\n",
       "      <td>NaN</td>\n",
       "      <td>NaN</td>\n",
       "      <td>NaN</td>\n",
       "      <td>NaN</td>\n",
       "      <td>NaN</td>\n",
       "    </tr>\n",
       "  </tbody>\n",
       "</table>\n",
       "<p>19944 rows × 65 columns</p>\n",
       "</div>"
      ],
      "text/plain": [
       "                                             ID_CUSTOMER ID_GENDER  \\\n",
       "0                                               17257021         2   \n",
       "1                                                9117724         2   \n",
       "2                                                8862262         2   \n",
       "3                                                6757583         1   \n",
       "4                                               14268557         0   \n",
       "...                                                  ...       ...   \n",
       "19939                                              91661         2   \n",
       "19940                                           16812898         2   \n",
       "19941                                           11347815         3   \n",
       "19942                                            8264108         1   \n",
       "19943  8264108,1,,,2019-03-26T22:12:27Z,,2020-11-04T2...       NaN   \n",
       "\n",
       "            DATE_NEW_BUYER      DATE_NEW_SELLER DATE_CREATION  \\\n",
       "0                      NaN                  NaN    2022-06-27   \n",
       "1                      NaN                  NaN    2019-12-07   \n",
       "2                      NaN                  NaN    2019-10-14   \n",
       "3      2018-04-28 00:00:00  2022-05-29 00:00:00    2018-04-25   \n",
       "4                      NaN                  NaN    2021-10-21   \n",
       "...                    ...                  ...           ...   \n",
       "19939  2013-04-15 00:00:00                  NaN    2011-03-24   \n",
       "19940                  NaN                  NaN    2022-05-08   \n",
       "19941                  NaN                  NaN    2020-12-22   \n",
       "19942                  NaN                  NaN    2019-03-26   \n",
       "19943                  NaN                  NaN           NaT   \n",
       "\n",
       "            DATE_LAST_LOGIN ID_COUNTRY DEVICE_BRAND REGISTRATION_DEVICE  \\\n",
       "0      2022-06-27T16:52:13Z         74        other             desktop   \n",
       "1      2019-12-07T10:37:29Z        223        other             desktop   \n",
       "2      2019-10-14T03:40:35Z        223        other             desktop   \n",
       "3      2023-03-31T21:32:55Z         57        other             desktop   \n",
       "4      2021-10-21T20:11:20Z         74          iOS          smartphone   \n",
       "...                     ...        ...          ...                 ...   \n",
       "19939  2023-01-28T23:28:14Z         74          NaN                 NaN   \n",
       "19940  2022-05-08T17:25:07Z         81          iOS          smartphone   \n",
       "19941  2020-12-22T23:43:51Z        223          iOS          smartphone   \n",
       "19942  2020-11-04T21:13:42Z         74          iOS          smartphone   \n",
       "19943                   NaN        NaN          NaN                 NaN   \n",
       "\n",
       "      REGISTRATION_CHANNEL  ...     DATE_LAST_SESSION BRAZE_IS_OPTIN_PUSH  \\\n",
       "0                      web  ...                   NaN                 NaN   \n",
       "1                      web  ...                   NaN                 NaN   \n",
       "2                      web  ...                   NaN                 NaN   \n",
       "3                      web  ...  2023-03-27T09:44:07Z                 0.0   \n",
       "4                      app  ...  2021-10-21T18:11:20Z                 0.0   \n",
       "...                    ...  ...                   ...                 ...   \n",
       "19939                  NaN  ...  2021-11-26T11:58:36Z                 0.0   \n",
       "19940                  app  ...                   NaN                 1.0   \n",
       "19941                  app  ...  2020-12-24T16:47:28Z                 1.0   \n",
       "19942                  app  ...  2020-11-04T20:13:42Z                 0.0   \n",
       "19943                  NaN  ...                   NaN                 NaN   \n",
       "\n",
       "      BRAZE_CURRENT_IDFA_STATUS  BRAZE_LAST_EVENT_DEVICE_PLATFORM  \\\n",
       "0                           NaN                               NaN   \n",
       "1                           NaN                               NaN   \n",
       "2                           NaN                               NaN   \n",
       "3                            no                               iOS   \n",
       "4                           yes                               iOS   \n",
       "...                         ...                               ...   \n",
       "19939                 not asked                               iOS   \n",
       "19940                       NaN                               iOS   \n",
       "19941                       NaN                               iOS   \n",
       "19942                       NaN                               iOS   \n",
       "19943                       NaN                               NaN   \n",
       "\n",
       "                      UPDATEDAT             BUYER_SEGMENT  \\\n",
       "0      2023-04-25T07:24:25.633Z                       NaN   \n",
       "1      2023-04-25T07:24:25.633Z                       NaN   \n",
       "2      2023-04-25T07:24:25.633Z                       NaN   \n",
       "3      2023-04-25T07:24:25.633Z    Top buyers - low value   \n",
       "4      2023-04-25T07:24:25.633Z                       NaN   \n",
       "...                         ...                       ...   \n",
       "19939  2023-04-25T07:24:25.633Z  Low potential one timers   \n",
       "19940  2023-04-25T07:24:25.633Z                       NaN   \n",
       "19941  2023-04-25T07:24:25.633Z                       NaN   \n",
       "19942  2023-04-25T07:24:25.633Z                       NaN   \n",
       "19943                       NaN                       NaN   \n",
       "\n",
       "             SELLER_SEGMENT    year  month   day  \n",
       "0                       NaN  2022.0    6.0  27.0  \n",
       "1                       NaN  2019.0   12.0   7.0  \n",
       "2                       NaN  2019.0   10.0  14.0  \n",
       "3      Low quality repeater  2018.0    4.0  25.0  \n",
       "4                       NaN  2021.0   10.0  21.0  \n",
       "...                     ...     ...    ...   ...  \n",
       "19939                   NaN  2011.0    3.0  24.0  \n",
       "19940                   NaN  2022.0    5.0   8.0  \n",
       "19941                   NaN  2020.0   12.0  22.0  \n",
       "19942                   NaN  2019.0    3.0  26.0  \n",
       "19943                   NaN     NaN    NaN   NaN  \n",
       "\n",
       "[19944 rows x 65 columns]"
      ]
     },
     "execution_count": 41,
     "metadata": {},
     "output_type": "execute_result"
    }
   ],
   "source": [
    "df"
   ]
  },
  {
   "cell_type": "code",
   "execution_count": null,
   "metadata": {},
   "outputs": [],
   "source": [
    "column_types = df.dtypes"
   ]
  },
  {
   "cell_type": "code",
   "execution_count": null,
   "metadata": {},
   "outputs": [
    {
     "data": {
      "text/plain": [
       "ID_CUSTOMER         object\n",
       "ID_GENDER           object\n",
       "DATE_NEW_BUYER      object\n",
       "DATE_NEW_SELLER     object\n",
       "DATE_CREATION       object\n",
       "                    ...   \n",
       "BUYER_SEGMENT       object\n",
       "SELLER_SEGMENT      object\n",
       "year               float64\n",
       "month              float64\n",
       "day                float64\n",
       "Length: 65, dtype: object"
      ]
     },
     "execution_count": 43,
     "metadata": {},
     "output_type": "execute_result"
    }
   ],
   "source": [
    "column_types"
   ]
  },
  {
   "cell_type": "code",
   "execution_count": null,
   "metadata": {},
   "outputs": [
    {
     "data": {
      "application/vnd.plotly.v1+json": {
       "config": {
        "plotlyServerURL": "https://plot.ly"
       },
       "data": [
        {
         "alignmentgroup": "True",
         "hovertemplate": "USER_SEGMENT=%{x}<br>GMV=%{marker.color}<extra></extra>",
         "legendgroup": "",
         "marker": {
          "color": [
           86576578332999980,
           57232431878000000,
           52694421857000000,
           33861154962999990,
           24314429750000000,
           13146043565000000,
           7324730627000000,
           6754368899000000,
           4511062865000000,
           2156124041000000
          ],
          "coloraxis": "coloraxis",
          "pattern": {
           "shape": ""
          }
         },
         "name": "",
         "offsetgroup": "",
         "orientation": "v",
         "showlegend": false,
         "textposition": "auto",
         "type": "bar",
         "x": [
          "Highly Engaged",
          "Inactive 6-12M",
          "Need Attention",
          "At Risk",
          "At High Risk",
          "Dormant 6M",
          "Engaged",
          "About to Sleep",
          "Hibernating",
          "Potential Engaged"
         ],
         "xaxis": "x",
         "y": [
          86576578332999980,
          57232431878000000,
          52694421857000000,
          33861154962999990,
          24314429750000000,
          13146043565000000,
          7324730627000000,
          6754368899000000,
          4511062865000000,
          2156124041000000
         ],
         "yaxis": "y"
        }
       ],
       "layout": {
        "barmode": "relative",
        "coloraxis": {
         "colorbar": {
          "title": {
           "text": "GMV"
          }
         },
         "colorscale": [
          [
           0,
           "#0d0887"
          ],
          [
           0.1111111111111111,
           "#46039f"
          ],
          [
           0.2222222222222222,
           "#7201a8"
          ],
          [
           0.3333333333333333,
           "#9c179e"
          ],
          [
           0.4444444444444444,
           "#bd3786"
          ],
          [
           0.5555555555555556,
           "#d8576b"
          ],
          [
           0.6666666666666666,
           "#ed7953"
          ],
          [
           0.7777777777777778,
           "#fb9f3a"
          ],
          [
           0.8888888888888888,
           "#fdca26"
          ],
          [
           1,
           "#f0f921"
          ]
         ]
        },
        "legend": {
         "tracegroupgap": 0
        },
        "margin": {
         "t": 60
        },
        "template": {
         "data": {
          "bar": [
           {
            "error_x": {
             "color": "#2a3f5f"
            },
            "error_y": {
             "color": "#2a3f5f"
            },
            "marker": {
             "line": {
              "color": "#E5ECF6",
              "width": 0.5
             },
             "pattern": {
              "fillmode": "overlay",
              "size": 10,
              "solidity": 0.2
             }
            },
            "type": "bar"
           }
          ],
          "barpolar": [
           {
            "marker": {
             "line": {
              "color": "#E5ECF6",
              "width": 0.5
             },
             "pattern": {
              "fillmode": "overlay",
              "size": 10,
              "solidity": 0.2
             }
            },
            "type": "barpolar"
           }
          ],
          "carpet": [
           {
            "aaxis": {
             "endlinecolor": "#2a3f5f",
             "gridcolor": "white",
             "linecolor": "white",
             "minorgridcolor": "white",
             "startlinecolor": "#2a3f5f"
            },
            "baxis": {
             "endlinecolor": "#2a3f5f",
             "gridcolor": "white",
             "linecolor": "white",
             "minorgridcolor": "white",
             "startlinecolor": "#2a3f5f"
            },
            "type": "carpet"
           }
          ],
          "choropleth": [
           {
            "colorbar": {
             "outlinewidth": 0,
             "ticks": ""
            },
            "type": "choropleth"
           }
          ],
          "contour": [
           {
            "colorbar": {
             "outlinewidth": 0,
             "ticks": ""
            },
            "colorscale": [
             [
              0,
              "#0d0887"
             ],
             [
              0.1111111111111111,
              "#46039f"
             ],
             [
              0.2222222222222222,
              "#7201a8"
             ],
             [
              0.3333333333333333,
              "#9c179e"
             ],
             [
              0.4444444444444444,
              "#bd3786"
             ],
             [
              0.5555555555555556,
              "#d8576b"
             ],
             [
              0.6666666666666666,
              "#ed7953"
             ],
             [
              0.7777777777777778,
              "#fb9f3a"
             ],
             [
              0.8888888888888888,
              "#fdca26"
             ],
             [
              1,
              "#f0f921"
             ]
            ],
            "type": "contour"
           }
          ],
          "contourcarpet": [
           {
            "colorbar": {
             "outlinewidth": 0,
             "ticks": ""
            },
            "type": "contourcarpet"
           }
          ],
          "heatmap": [
           {
            "colorbar": {
             "outlinewidth": 0,
             "ticks": ""
            },
            "colorscale": [
             [
              0,
              "#0d0887"
             ],
             [
              0.1111111111111111,
              "#46039f"
             ],
             [
              0.2222222222222222,
              "#7201a8"
             ],
             [
              0.3333333333333333,
              "#9c179e"
             ],
             [
              0.4444444444444444,
              "#bd3786"
             ],
             [
              0.5555555555555556,
              "#d8576b"
             ],
             [
              0.6666666666666666,
              "#ed7953"
             ],
             [
              0.7777777777777778,
              "#fb9f3a"
             ],
             [
              0.8888888888888888,
              "#fdca26"
             ],
             [
              1,
              "#f0f921"
             ]
            ],
            "type": "heatmap"
           }
          ],
          "heatmapgl": [
           {
            "colorbar": {
             "outlinewidth": 0,
             "ticks": ""
            },
            "colorscale": [
             [
              0,
              "#0d0887"
             ],
             [
              0.1111111111111111,
              "#46039f"
             ],
             [
              0.2222222222222222,
              "#7201a8"
             ],
             [
              0.3333333333333333,
              "#9c179e"
             ],
             [
              0.4444444444444444,
              "#bd3786"
             ],
             [
              0.5555555555555556,
              "#d8576b"
             ],
             [
              0.6666666666666666,
              "#ed7953"
             ],
             [
              0.7777777777777778,
              "#fb9f3a"
             ],
             [
              0.8888888888888888,
              "#fdca26"
             ],
             [
              1,
              "#f0f921"
             ]
            ],
            "type": "heatmapgl"
           }
          ],
          "histogram": [
           {
            "marker": {
             "pattern": {
              "fillmode": "overlay",
              "size": 10,
              "solidity": 0.2
             }
            },
            "type": "histogram"
           }
          ],
          "histogram2d": [
           {
            "colorbar": {
             "outlinewidth": 0,
             "ticks": ""
            },
            "colorscale": [
             [
              0,
              "#0d0887"
             ],
             [
              0.1111111111111111,
              "#46039f"
             ],
             [
              0.2222222222222222,
              "#7201a8"
             ],
             [
              0.3333333333333333,
              "#9c179e"
             ],
             [
              0.4444444444444444,
              "#bd3786"
             ],
             [
              0.5555555555555556,
              "#d8576b"
             ],
             [
              0.6666666666666666,
              "#ed7953"
             ],
             [
              0.7777777777777778,
              "#fb9f3a"
             ],
             [
              0.8888888888888888,
              "#fdca26"
             ],
             [
              1,
              "#f0f921"
             ]
            ],
            "type": "histogram2d"
           }
          ],
          "histogram2dcontour": [
           {
            "colorbar": {
             "outlinewidth": 0,
             "ticks": ""
            },
            "colorscale": [
             [
              0,
              "#0d0887"
             ],
             [
              0.1111111111111111,
              "#46039f"
             ],
             [
              0.2222222222222222,
              "#7201a8"
             ],
             [
              0.3333333333333333,
              "#9c179e"
             ],
             [
              0.4444444444444444,
              "#bd3786"
             ],
             [
              0.5555555555555556,
              "#d8576b"
             ],
             [
              0.6666666666666666,
              "#ed7953"
             ],
             [
              0.7777777777777778,
              "#fb9f3a"
             ],
             [
              0.8888888888888888,
              "#fdca26"
             ],
             [
              1,
              "#f0f921"
             ]
            ],
            "type": "histogram2dcontour"
           }
          ],
          "mesh3d": [
           {
            "colorbar": {
             "outlinewidth": 0,
             "ticks": ""
            },
            "type": "mesh3d"
           }
          ],
          "parcoords": [
           {
            "line": {
             "colorbar": {
              "outlinewidth": 0,
              "ticks": ""
             }
            },
            "type": "parcoords"
           }
          ],
          "pie": [
           {
            "automargin": true,
            "type": "pie"
           }
          ],
          "scatter": [
           {
            "marker": {
             "colorbar": {
              "outlinewidth": 0,
              "ticks": ""
             }
            },
            "type": "scatter"
           }
          ],
          "scatter3d": [
           {
            "line": {
             "colorbar": {
              "outlinewidth": 0,
              "ticks": ""
             }
            },
            "marker": {
             "colorbar": {
              "outlinewidth": 0,
              "ticks": ""
             }
            },
            "type": "scatter3d"
           }
          ],
          "scattercarpet": [
           {
            "marker": {
             "colorbar": {
              "outlinewidth": 0,
              "ticks": ""
             }
            },
            "type": "scattercarpet"
           }
          ],
          "scattergeo": [
           {
            "marker": {
             "colorbar": {
              "outlinewidth": 0,
              "ticks": ""
             }
            },
            "type": "scattergeo"
           }
          ],
          "scattergl": [
           {
            "marker": {
             "colorbar": {
              "outlinewidth": 0,
              "ticks": ""
             }
            },
            "type": "scattergl"
           }
          ],
          "scattermapbox": [
           {
            "marker": {
             "colorbar": {
              "outlinewidth": 0,
              "ticks": ""
             }
            },
            "type": "scattermapbox"
           }
          ],
          "scatterpolar": [
           {
            "marker": {
             "colorbar": {
              "outlinewidth": 0,
              "ticks": ""
             }
            },
            "type": "scatterpolar"
           }
          ],
          "scatterpolargl": [
           {
            "marker": {
             "colorbar": {
              "outlinewidth": 0,
              "ticks": ""
             }
            },
            "type": "scatterpolargl"
           }
          ],
          "scatterternary": [
           {
            "marker": {
             "colorbar": {
              "outlinewidth": 0,
              "ticks": ""
             }
            },
            "type": "scatterternary"
           }
          ],
          "surface": [
           {
            "colorbar": {
             "outlinewidth": 0,
             "ticks": ""
            },
            "colorscale": [
             [
              0,
              "#0d0887"
             ],
             [
              0.1111111111111111,
              "#46039f"
             ],
             [
              0.2222222222222222,
              "#7201a8"
             ],
             [
              0.3333333333333333,
              "#9c179e"
             ],
             [
              0.4444444444444444,
              "#bd3786"
             ],
             [
              0.5555555555555556,
              "#d8576b"
             ],
             [
              0.6666666666666666,
              "#ed7953"
             ],
             [
              0.7777777777777778,
              "#fb9f3a"
             ],
             [
              0.8888888888888888,
              "#fdca26"
             ],
             [
              1,
              "#f0f921"
             ]
            ],
            "type": "surface"
           }
          ],
          "table": [
           {
            "cells": {
             "fill": {
              "color": "#EBF0F8"
             },
             "line": {
              "color": "white"
             }
            },
            "header": {
             "fill": {
              "color": "#C8D4E3"
             },
             "line": {
              "color": "white"
             }
            },
            "type": "table"
           }
          ]
         },
         "layout": {
          "annotationdefaults": {
           "arrowcolor": "#2a3f5f",
           "arrowhead": 0,
           "arrowwidth": 1
          },
          "autotypenumbers": "strict",
          "coloraxis": {
           "colorbar": {
            "outlinewidth": 0,
            "ticks": ""
           }
          },
          "colorscale": {
           "diverging": [
            [
             0,
             "#8e0152"
            ],
            [
             0.1,
             "#c51b7d"
            ],
            [
             0.2,
             "#de77ae"
            ],
            [
             0.3,
             "#f1b6da"
            ],
            [
             0.4,
             "#fde0ef"
            ],
            [
             0.5,
             "#f7f7f7"
            ],
            [
             0.6,
             "#e6f5d0"
            ],
            [
             0.7,
             "#b8e186"
            ],
            [
             0.8,
             "#7fbc41"
            ],
            [
             0.9,
             "#4d9221"
            ],
            [
             1,
             "#276419"
            ]
           ],
           "sequential": [
            [
             0,
             "#0d0887"
            ],
            [
             0.1111111111111111,
             "#46039f"
            ],
            [
             0.2222222222222222,
             "#7201a8"
            ],
            [
             0.3333333333333333,
             "#9c179e"
            ],
            [
             0.4444444444444444,
             "#bd3786"
            ],
            [
             0.5555555555555556,
             "#d8576b"
            ],
            [
             0.6666666666666666,
             "#ed7953"
            ],
            [
             0.7777777777777778,
             "#fb9f3a"
            ],
            [
             0.8888888888888888,
             "#fdca26"
            ],
            [
             1,
             "#f0f921"
            ]
           ],
           "sequentialminus": [
            [
             0,
             "#0d0887"
            ],
            [
             0.1111111111111111,
             "#46039f"
            ],
            [
             0.2222222222222222,
             "#7201a8"
            ],
            [
             0.3333333333333333,
             "#9c179e"
            ],
            [
             0.4444444444444444,
             "#bd3786"
            ],
            [
             0.5555555555555556,
             "#d8576b"
            ],
            [
             0.6666666666666666,
             "#ed7953"
            ],
            [
             0.7777777777777778,
             "#fb9f3a"
            ],
            [
             0.8888888888888888,
             "#fdca26"
            ],
            [
             1,
             "#f0f921"
            ]
           ]
          },
          "colorway": [
           "#636efa",
           "#EF553B",
           "#00cc96",
           "#ab63fa",
           "#FFA15A",
           "#19d3f3",
           "#FF6692",
           "#B6E880",
           "#FF97FF",
           "#FECB52"
          ],
          "font": {
           "color": "#2a3f5f"
          },
          "geo": {
           "bgcolor": "white",
           "lakecolor": "white",
           "landcolor": "#E5ECF6",
           "showlakes": true,
           "showland": true,
           "subunitcolor": "white"
          },
          "hoverlabel": {
           "align": "left"
          },
          "hovermode": "closest",
          "mapbox": {
           "style": "light"
          },
          "paper_bgcolor": "white",
          "plot_bgcolor": "#E5ECF6",
          "polar": {
           "angularaxis": {
            "gridcolor": "white",
            "linecolor": "white",
            "ticks": ""
           },
           "bgcolor": "#E5ECF6",
           "radialaxis": {
            "gridcolor": "white",
            "linecolor": "white",
            "ticks": ""
           }
          },
          "scene": {
           "xaxis": {
            "backgroundcolor": "#E5ECF6",
            "gridcolor": "white",
            "gridwidth": 2,
            "linecolor": "white",
            "showbackground": true,
            "ticks": "",
            "zerolinecolor": "white"
           },
           "yaxis": {
            "backgroundcolor": "#E5ECF6",
            "gridcolor": "white",
            "gridwidth": 2,
            "linecolor": "white",
            "showbackground": true,
            "ticks": "",
            "zerolinecolor": "white"
           },
           "zaxis": {
            "backgroundcolor": "#E5ECF6",
            "gridcolor": "white",
            "gridwidth": 2,
            "linecolor": "white",
            "showbackground": true,
            "ticks": "",
            "zerolinecolor": "white"
           }
          },
          "shapedefaults": {
           "line": {
            "color": "#2a3f5f"
           }
          },
          "ternary": {
           "aaxis": {
            "gridcolor": "white",
            "linecolor": "white",
            "ticks": ""
           },
           "baxis": {
            "gridcolor": "white",
            "linecolor": "white",
            "ticks": ""
           },
           "bgcolor": "#E5ECF6",
           "caxis": {
            "gridcolor": "white",
            "linecolor": "white",
            "ticks": ""
           }
          },
          "title": {
           "x": 0.05
          },
          "xaxis": {
           "automargin": true,
           "gridcolor": "white",
           "linecolor": "white",
           "ticks": "",
           "title": {
            "standoff": 15
           },
           "zerolinecolor": "white",
           "zerolinewidth": 2
          },
          "yaxis": {
           "automargin": true,
           "gridcolor": "white",
           "linecolor": "white",
           "ticks": "",
           "title": {
            "standoff": 15
           },
           "zerolinecolor": "white",
           "zerolinewidth": 2
          }
         }
        },
        "title": {
         "text": "Distribution of GMV in 2022 between Customers"
        },
        "xaxis": {
         "anchor": "y",
         "categoryorder": "total descending",
         "domain": [
          0,
          1
         ],
         "title": {
          "text": "User Segment"
         }
        },
        "yaxis": {
         "anchor": "x",
         "domain": [
          0,
          1
         ],
         "tickformat": "$,.0f",
         "title": {
          "text": "GMV"
         }
        }
       }
      }
     },
     "metadata": {},
     "output_type": "display_data"
    }
   ],
   "source": [
    "# clients in 2022\n",
    "df['DATE_CREATION'] = pd.to_datetime(df['DATE_CREATION'])\n",
    "\n",
    "# Filter the data for the year 2022\n",
    "df_2022 = df[df['DATE_CREATION'].dt.year == 2022]\n",
    "\n",
    "# Group the data by user segment and calculate the sum of GMV\n",
    "segment_gmv_2022 = df_2022.groupby('USER_SEGMENT')['GMV'].sum().sort_values(ascending=False).reset_index()\n",
    "\n",
    "# Create an interactive bar plot using Plotly\n",
    "fig = px.bar(segment_gmv_2022, x='USER_SEGMENT', y='GMV', color='GMV')\n",
    "\n",
    "# Customize the appearance of the plot\n",
    "fig.update_layout(\n",
    "    title='Distribution of GMV in 2022 between Customers',\n",
    "    xaxis_title='User Segment',\n",
    "    yaxis_title='GMV',\n",
    "    xaxis={'categoryorder': 'total descending'},\n",
    "    yaxis_tickformat='$,.0f'  # Format GMV values as currency\n",
    ")\n",
    "\n",
    "# Display the interactive plot\n",
    "fig.show()"
   ]
  },
  {
   "cell_type": "code",
   "execution_count": null,
   "metadata": {},
   "outputs": [
    {
     "name": "stdout",
     "output_type": "stream",
     "text": [
      "17760\n"
     ]
    }
   ],
   "source": [
    "nan_count = df['DATE_NEW_BUYER'].isna().sum()\n",
    "print(nan_count)"
   ]
  },
  {
   "cell_type": "code",
   "execution_count": null,
   "metadata": {},
   "outputs": [],
   "source": [
    "def convert_to_ymd(date_string):\n",
    "    try:\n",
    "        datetime_obj = datetime.strptime(date_string, \"%Y-%m-%dT%H:%M:%SZ\")\n",
    "        formatted_date = datetime_obj.strftime(\"%Y-%m-%d\")\n",
    "        return formatted_date\n",
    "    except ValueError:\n",
    "        return date_string"
   ]
  },
  {
   "cell_type": "code",
   "execution_count": null,
   "metadata": {},
   "outputs": [],
   "source": [
    "column_names = df.columns.tolist()\n"
   ]
  },
  {
   "cell_type": "code",
   "execution_count": null,
   "metadata": {},
   "outputs": [
    {
     "name": "stdout",
     "output_type": "stream",
     "text": [
      "['ID_CUSTOMER', 'ID_GENDER', 'DATE_NEW_BUYER', 'DATE_NEW_SELLER', 'DATE_CREATION', 'DATE_LAST_LOGIN', 'ID_COUNTRY', 'DEVICE_BRAND', 'REGISTRATION_DEVICE', 'REGISTRATION_CHANNEL', 'DATE_NL_OPT_OUT', 'TEST_AB', 'LANGUAGE', 'ID_ZENDESK', 'STATE_NAME', 'ID_VIP', 'DATE_FB_LAST_LOGIN', 'CODE_POSTAL', 'ID_CLIENT_UNIQUE', 'CITY', 'AGE', 'CURRENCY', 'ACTIVE', 'ID_WEBSITE_SETTING', 'WAS_C2C', 'DATE_FIRST_DEPOSIT_B2C', 'DATE_LAST_DEPOSIT_B2C', 'DATE_LAST_DEPOSIT_C2C', 'DATE_LAST_DEPOSIT', 'VALUE_ITEMS_CATALOG', 'DATE_FIRST_PUBLISH', 'DATE_LAST_PURCHASE', 'DATE_FIRST_PURCHASE', 'GMV', 'TRK_REGISTRATION_SOURCE', 'TRK_REGISTRATION_MEDIUM', 'TRK_REGISTRATION_MARKETING_CHANNEL', 'TRK_REGISTRATION_MARKETING_CHANNEL_2', 'TRK_REGISTRATION_CAMPAIGN', 'DATE_FIRST_PRICE_DROP_ALERT_CREATED', 'DATE_FIRST_NEWIN_ALERT_CREATED', 'DATE_FIRST_FOLLOW', 'DATE_LAST_EMAIL_SENT', 'DATE_LAST_NL_EMAIL_SENT', 'DATE_LAST_EMAIL_CLICK', 'DATE_LAST_NL_EMAIL_CLICK', 'NL_REACTIVITY_GROUP', 'RFM_SELLER', 'ID_RFM_BUYER', 'RFM_BUYER', 'ID_RFM_CUSTOMER', 'RFM_CUSTOMER', 'USER_SEGMENT', 'ID_SEGMENT_BUYER_RFM', 'DATE_FIRST_APP_INSTALL', 'DATE_LAST_SESSION', 'BRAZE_IS_OPTIN_PUSH', 'BRAZE_CURRENT_IDFA_STATUS', 'BRAZE_LAST_EVENT_DEVICE_PLATFORM', 'UPDATEDAT', 'BUYER_SEGMENT', 'SELLER_SEGMENT', 'year', 'month', 'day']\n"
     ]
    }
   ],
   "source": [
    "print(column_names)"
   ]
  },
  {
   "attachments": {},
   "cell_type": "markdown",
   "metadata": {},
   "source": [
    "## Second dataset : Product Data"
   ]
  },
  {
   "cell_type": "code",
   "execution_count": null,
   "metadata": {},
   "outputs": [
    {
     "data": {
      "text/html": [
       "<div>\n",
       "<style scoped>\n",
       "    .dataframe tbody tr th:only-of-type {\n",
       "        vertical-align: middle;\n",
       "    }\n",
       "\n",
       "    .dataframe tbody tr th {\n",
       "        vertical-align: top;\n",
       "    }\n",
       "\n",
       "    .dataframe thead th {\n",
       "        text-align: right;\n",
       "    }\n",
       "</style>\n",
       "<table border=\"1\" class=\"dataframe\">\n",
       "  <thead>\n",
       "    <tr style=\"text-align: right;\">\n",
       "      <th></th>\n",
       "      <th>ID_PRODUCT</th>\n",
       "      <th>DEPOSIT_PRICE</th>\n",
       "      <th>PRICE_INSERTION</th>\n",
       "      <th>SELLER_REVENUE</th>\n",
       "      <th>COMMISSION</th>\n",
       "      <th>ID_SELLER</th>\n",
       "      <th>DATE_DEPOSIT</th>\n",
       "      <th>DATE_PUBLISHED</th>\n",
       "      <th>DATE_SOLD</th>\n",
       "      <th>DATE_REJECTED</th>\n",
       "      <th>...</th>\n",
       "      <th>DEPOSIT_UTM_CAMPAIGN_NON_PERSISTENT</th>\n",
       "      <th>DEPOSIT_UTM_MEDIUM_NON_PERSISTENT</th>\n",
       "      <th>DEPOSIT_UTM_SOURCE_NON_PERSISTENT</th>\n",
       "      <th>DEPOSIT_MARKETING_CHANNEL_NON_PERSISTENT</th>\n",
       "      <th>DEPOSIT_UTM_CAMPAIGN_30D_PERSISTENT</th>\n",
       "      <th>DEPOSIT_UTM_MEDIUM_30D_PERSISTENT</th>\n",
       "      <th>DEPOSIT_UTM_SOURCE_30D_PERSISTENT</th>\n",
       "      <th>DEPOSIT_MARKETING_CHANNEL_30D_PERSISTENT</th>\n",
       "      <th>ID_ORDER</th>\n",
       "      <th>ID_SELLER_SHIPPING_COUNTRY</th>\n",
       "    </tr>\n",
       "  </thead>\n",
       "  <tbody>\n",
       "    <tr>\n",
       "      <th>0</th>\n",
       "      <td>22309750</td>\n",
       "      <td>200.000000</td>\n",
       "      <td>200.000000</td>\n",
       "      <td>130.050000</td>\n",
       "      <td>22.950000</td>\n",
       "      <td>48600</td>\n",
       "      <td>2022-04-08T06:30:00Z</td>\n",
       "      <td>2022-04-08T06:50:44Z</td>\n",
       "      <td>2023-03-17T11:56:09Z</td>\n",
       "      <td>NaN</td>\n",
       "      <td>...</td>\n",
       "      <td>NaN</td>\n",
       "      <td>NaN</td>\n",
       "      <td>NaN</td>\n",
       "      <td>NaN</td>\n",
       "      <td>NaN</td>\n",
       "      <td>NaN</td>\n",
       "      <td>NaN</td>\n",
       "      <td>NaN</td>\n",
       "      <td>74484350</td>\n",
       "      <td>74</td>\n",
       "    </tr>\n",
       "    <tr>\n",
       "      <th>1</th>\n",
       "      <td>31835049</td>\n",
       "      <td>450.000000</td>\n",
       "      <td>450.000000</td>\n",
       "      <td>321.440000</td>\n",
       "      <td>70.560000</td>\n",
       "      <td>6086821</td>\n",
       "      <td>2023-03-20T15:22:11Z</td>\n",
       "      <td>2023-03-20T20:05:52Z</td>\n",
       "      <td>2023-03-21T11:13:13Z</td>\n",
       "      <td>NaN</td>\n",
       "      <td>...</td>\n",
       "      <td>(not set)</td>\n",
       "      <td>(not set)</td>\n",
       "      <td>(not set)</td>\n",
       "      <td>direct</td>\n",
       "      <td>(not set)</td>\n",
       "      <td>(not set)</td>\n",
       "      <td>(not set)</td>\n",
       "      <td>direct</td>\n",
       "      <td>74897907</td>\n",
       "      <td>105</td>\n",
       "    </tr>\n",
       "    <tr>\n",
       "      <th>2</th>\n",
       "      <td>18862602</td>\n",
       "      <td>181.476005</td>\n",
       "      <td>181.476005</td>\n",
       "      <td>134.426700</td>\n",
       "      <td>16.131200</td>\n",
       "      <td>8954252</td>\n",
       "      <td>2021-10-28T14:21:12Z</td>\n",
       "      <td>2021-10-28T14:32:08Z</td>\n",
       "      <td>2021-10-31T10:54:15Z</td>\n",
       "      <td>NaN</td>\n",
       "      <td>...</td>\n",
       "      <td>NaN</td>\n",
       "      <td>NaN</td>\n",
       "      <td>NaN</td>\n",
       "      <td>NaN</td>\n",
       "      <td>NaN</td>\n",
       "      <td>NaN</td>\n",
       "      <td>NaN</td>\n",
       "      <td>NaN</td>\n",
       "      <td>46692633</td>\n",
       "      <td>57</td>\n",
       "    </tr>\n",
       "    <tr>\n",
       "      <th>3</th>\n",
       "      <td>17864241</td>\n",
       "      <td>120.000000</td>\n",
       "      <td>120.000000</td>\n",
       "      <td>80.000000</td>\n",
       "      <td>15.000000</td>\n",
       "      <td>6820882</td>\n",
       "      <td>2021-09-06T14:56:32Z</td>\n",
       "      <td>2021-09-06T16:03:39Z</td>\n",
       "      <td>2021-09-10T21:28:03Z</td>\n",
       "      <td>NaN</td>\n",
       "      <td>...</td>\n",
       "      <td>NaN</td>\n",
       "      <td>NaN</td>\n",
       "      <td>NaN</td>\n",
       "      <td>NaN</td>\n",
       "      <td>NaN</td>\n",
       "      <td>NaN</td>\n",
       "      <td>NaN</td>\n",
       "      <td>NaN</td>\n",
       "      <td>43363101</td>\n",
       "      <td>81</td>\n",
       "    </tr>\n",
       "    <tr>\n",
       "      <th>4</th>\n",
       "      <td>8575889</td>\n",
       "      <td>500.000000</td>\n",
       "      <td>500.000000</td>\n",
       "      <td>340.000000</td>\n",
       "      <td>60.000000</td>\n",
       "      <td>6416456</td>\n",
       "      <td>2019-10-29T17:05:00Z</td>\n",
       "      <td>2019-10-30T15:30:00Z</td>\n",
       "      <td>2020-09-22T13:37:02Z</td>\n",
       "      <td>NaN</td>\n",
       "      <td>...</td>\n",
       "      <td>NaN</td>\n",
       "      <td>NaN</td>\n",
       "      <td>NaN</td>\n",
       "      <td>NaN</td>\n",
       "      <td>NaN</td>\n",
       "      <td>NaN</td>\n",
       "      <td>NaN</td>\n",
       "      <td>NaN</td>\n",
       "      <td>30278689</td>\n",
       "      <td>150</td>\n",
       "    </tr>\n",
       "    <tr>\n",
       "      <th>...</th>\n",
       "      <td>...</td>\n",
       "      <td>...</td>\n",
       "      <td>...</td>\n",
       "      <td>...</td>\n",
       "      <td>...</td>\n",
       "      <td>...</td>\n",
       "      <td>...</td>\n",
       "      <td>...</td>\n",
       "      <td>...</td>\n",
       "      <td>...</td>\n",
       "      <td>...</td>\n",
       "      <td>...</td>\n",
       "      <td>...</td>\n",
       "      <td>...</td>\n",
       "      <td>...</td>\n",
       "      <td>...</td>\n",
       "      <td>...</td>\n",
       "      <td>...</td>\n",
       "      <td>...</td>\n",
       "      <td>...</td>\n",
       "      <td>...</td>\n",
       "    </tr>\n",
       "    <tr>\n",
       "      <th>26994</th>\n",
       "      <td>1146382</td>\n",
       "      <td>1390.000000</td>\n",
       "      <td>786.000000</td>\n",
       "      <td>460.000000</td>\n",
       "      <td>185.000000</td>\n",
       "      <td>1155198</td>\n",
       "      <td>2014-08-25T11:55:00Z</td>\n",
       "      <td>2014-08-25T19:30:00Z</td>\n",
       "      <td>2014-09-14T17:35:00Z</td>\n",
       "      <td>NaN</td>\n",
       "      <td>...</td>\n",
       "      <td>NaN</td>\n",
       "      <td>NaN</td>\n",
       "      <td>NaN</td>\n",
       "      <td>NaN</td>\n",
       "      <td>NaN</td>\n",
       "      <td>NaN</td>\n",
       "      <td>NaN</td>\n",
       "      <td>NaN</td>\n",
       "      <td>13602666</td>\n",
       "      <td>74</td>\n",
       "    </tr>\n",
       "    <tr>\n",
       "      <th>26995</th>\n",
       "      <td>10283363</td>\n",
       "      <td>28.335301</td>\n",
       "      <td>28.335301</td>\n",
       "      <td>3.305785</td>\n",
       "      <td>15.112161</td>\n",
       "      <td>1791262</td>\n",
       "      <td>2020-05-09T14:07:39Z</td>\n",
       "      <td>2020-05-09T19:33:22Z</td>\n",
       "      <td>2021-01-28T14:56:47Z</td>\n",
       "      <td>NaN</td>\n",
       "      <td>...</td>\n",
       "      <td>NaN</td>\n",
       "      <td>NaN</td>\n",
       "      <td>NaN</td>\n",
       "      <td>NaN</td>\n",
       "      <td>NaN</td>\n",
       "      <td>NaN</td>\n",
       "      <td>NaN</td>\n",
       "      <td>NaN</td>\n",
       "      <td>33614125</td>\n",
       "      <td>203</td>\n",
       "    </tr>\n",
       "    <tr>\n",
       "      <th>26996</th>\n",
       "      <td>28827912</td>\n",
       "      <td>105.000000</td>\n",
       "      <td>105.000000</td>\n",
       "      <td>74.700000</td>\n",
       "      <td>15.300000</td>\n",
       "      <td>6824172</td>\n",
       "      <td>2022-12-02T15:35:00Z</td>\n",
       "      <td>2022-12-02T19:47:03Z</td>\n",
       "      <td>2022-12-23T21:01:36Z</td>\n",
       "      <td>NaN</td>\n",
       "      <td>...</td>\n",
       "      <td>(not set)</td>\n",
       "      <td>(not set)</td>\n",
       "      <td>(not set)</td>\n",
       "      <td>direct</td>\n",
       "      <td>alert_new_ins_push_pressure_other</td>\n",
       "      <td>push</td>\n",
       "      <td>vestiairecollective.com</td>\n",
       "      <td>crm_auto</td>\n",
       "      <td>69259024</td>\n",
       "      <td>124</td>\n",
       "    </tr>\n",
       "    <tr>\n",
       "      <th>26997</th>\n",
       "      <td>4275748</td>\n",
       "      <td>349.000000</td>\n",
       "      <td>349.000000</td>\n",
       "      <td>198.000000</td>\n",
       "      <td>50.316200</td>\n",
       "      <td>1095194</td>\n",
       "      <td>2017-07-19T12:09:59Z</td>\n",
       "      <td>2017-07-19T18:31:40Z</td>\n",
       "      <td>2017-07-24T15:25:30Z</td>\n",
       "      <td>NaN</td>\n",
       "      <td>...</td>\n",
       "      <td>NaN</td>\n",
       "      <td>NaN</td>\n",
       "      <td>NaN</td>\n",
       "      <td>NaN</td>\n",
       "      <td>NaN</td>\n",
       "      <td>NaN</td>\n",
       "      <td>NaN</td>\n",
       "      <td>NaN</td>\n",
       "      <td>17662007</td>\n",
       "      <td>74</td>\n",
       "    </tr>\n",
       "    <tr>\n",
       "      <th>26998</th>\n",
       "      <td>464763</td>\n",
       "      <td>54.000000</td>\n",
       "      <td>54.000000</td>\n",
       "      <td>30.000000</td>\n",
       "      <td>16.000000</td>\n",
       "      <td>49223</td>\n",
       "      <td>2012-11-16T16:15:00Z</td>\n",
       "      <td>2012-11-16T16:15:00Z</td>\n",
       "      <td>2012-11-16T16:27:05Z</td>\n",
       "      <td>NaN</td>\n",
       "      <td>...</td>\n",
       "      <td>NaN</td>\n",
       "      <td>NaN</td>\n",
       "      <td>NaN</td>\n",
       "      <td>NaN</td>\n",
       "      <td>NaN</td>\n",
       "      <td>NaN</td>\n",
       "      <td>NaN</td>\n",
       "      <td>NaN</td>\n",
       "      <td>3404810</td>\n",
       "      <td>74</td>\n",
       "    </tr>\n",
       "  </tbody>\n",
       "</table>\n",
       "<p>26999 rows × 220 columns</p>\n",
       "</div>"
      ],
      "text/plain": [
       "       ID_PRODUCT  DEPOSIT_PRICE  PRICE_INSERTION  SELLER_REVENUE  COMMISSION  \\\n",
       "0        22309750     200.000000       200.000000      130.050000   22.950000   \n",
       "1        31835049     450.000000       450.000000      321.440000   70.560000   \n",
       "2        18862602     181.476005       181.476005      134.426700   16.131200   \n",
       "3        17864241     120.000000       120.000000       80.000000   15.000000   \n",
       "4         8575889     500.000000       500.000000      340.000000   60.000000   \n",
       "...           ...            ...              ...             ...         ...   \n",
       "26994     1146382    1390.000000       786.000000      460.000000  185.000000   \n",
       "26995    10283363      28.335301        28.335301        3.305785   15.112161   \n",
       "26996    28827912     105.000000       105.000000       74.700000   15.300000   \n",
       "26997     4275748     349.000000       349.000000      198.000000   50.316200   \n",
       "26998      464763      54.000000        54.000000       30.000000   16.000000   \n",
       "\n",
       "       ID_SELLER          DATE_DEPOSIT        DATE_PUBLISHED  \\\n",
       "0          48600  2022-04-08T06:30:00Z  2022-04-08T06:50:44Z   \n",
       "1        6086821  2023-03-20T15:22:11Z  2023-03-20T20:05:52Z   \n",
       "2        8954252  2021-10-28T14:21:12Z  2021-10-28T14:32:08Z   \n",
       "3        6820882  2021-09-06T14:56:32Z  2021-09-06T16:03:39Z   \n",
       "4        6416456  2019-10-29T17:05:00Z  2019-10-30T15:30:00Z   \n",
       "...          ...                   ...                   ...   \n",
       "26994    1155198  2014-08-25T11:55:00Z  2014-08-25T19:30:00Z   \n",
       "26995    1791262  2020-05-09T14:07:39Z  2020-05-09T19:33:22Z   \n",
       "26996    6824172  2022-12-02T15:35:00Z  2022-12-02T19:47:03Z   \n",
       "26997    1095194  2017-07-19T12:09:59Z  2017-07-19T18:31:40Z   \n",
       "26998      49223  2012-11-16T16:15:00Z  2012-11-16T16:15:00Z   \n",
       "\n",
       "                  DATE_SOLD DATE_REJECTED  ...  \\\n",
       "0      2023-03-17T11:56:09Z           NaN  ...   \n",
       "1      2023-03-21T11:13:13Z           NaN  ...   \n",
       "2      2021-10-31T10:54:15Z           NaN  ...   \n",
       "3      2021-09-10T21:28:03Z           NaN  ...   \n",
       "4      2020-09-22T13:37:02Z           NaN  ...   \n",
       "...                     ...           ...  ...   \n",
       "26994  2014-09-14T17:35:00Z           NaN  ...   \n",
       "26995  2021-01-28T14:56:47Z           NaN  ...   \n",
       "26996  2022-12-23T21:01:36Z           NaN  ...   \n",
       "26997  2017-07-24T15:25:30Z           NaN  ...   \n",
       "26998  2012-11-16T16:27:05Z           NaN  ...   \n",
       "\n",
       "      DEPOSIT_UTM_CAMPAIGN_NON_PERSISTENT  DEPOSIT_UTM_MEDIUM_NON_PERSISTENT  \\\n",
       "0                                     NaN                                NaN   \n",
       "1                               (not set)                          (not set)   \n",
       "2                                     NaN                                NaN   \n",
       "3                                     NaN                                NaN   \n",
       "4                                     NaN                                NaN   \n",
       "...                                   ...                                ...   \n",
       "26994                                 NaN                                NaN   \n",
       "26995                                 NaN                                NaN   \n",
       "26996                           (not set)                          (not set)   \n",
       "26997                                 NaN                                NaN   \n",
       "26998                                 NaN                                NaN   \n",
       "\n",
       "       DEPOSIT_UTM_SOURCE_NON_PERSISTENT  \\\n",
       "0                                    NaN   \n",
       "1                              (not set)   \n",
       "2                                    NaN   \n",
       "3                                    NaN   \n",
       "4                                    NaN   \n",
       "...                                  ...   \n",
       "26994                                NaN   \n",
       "26995                                NaN   \n",
       "26996                          (not set)   \n",
       "26997                                NaN   \n",
       "26998                                NaN   \n",
       "\n",
       "       DEPOSIT_MARKETING_CHANNEL_NON_PERSISTENT  \\\n",
       "0                                           NaN   \n",
       "1                                        direct   \n",
       "2                                           NaN   \n",
       "3                                           NaN   \n",
       "4                                           NaN   \n",
       "...                                         ...   \n",
       "26994                                       NaN   \n",
       "26995                                       NaN   \n",
       "26996                                    direct   \n",
       "26997                                       NaN   \n",
       "26998                                       NaN   \n",
       "\n",
       "      DEPOSIT_UTM_CAMPAIGN_30D_PERSISTENT DEPOSIT_UTM_MEDIUM_30D_PERSISTENT  \\\n",
       "0                                     NaN                               NaN   \n",
       "1                               (not set)                         (not set)   \n",
       "2                                     NaN                               NaN   \n",
       "3                                     NaN                               NaN   \n",
       "4                                     NaN                               NaN   \n",
       "...                                   ...                               ...   \n",
       "26994                                 NaN                               NaN   \n",
       "26995                                 NaN                               NaN   \n",
       "26996   alert_new_ins_push_pressure_other                              push   \n",
       "26997                                 NaN                               NaN   \n",
       "26998                                 NaN                               NaN   \n",
       "\n",
       "       DEPOSIT_UTM_SOURCE_30D_PERSISTENT  \\\n",
       "0                                    NaN   \n",
       "1                              (not set)   \n",
       "2                                    NaN   \n",
       "3                                    NaN   \n",
       "4                                    NaN   \n",
       "...                                  ...   \n",
       "26994                                NaN   \n",
       "26995                                NaN   \n",
       "26996            vestiairecollective.com   \n",
       "26997                                NaN   \n",
       "26998                                NaN   \n",
       "\n",
       "       DEPOSIT_MARKETING_CHANNEL_30D_PERSISTENT  ID_ORDER  \\\n",
       "0                                           NaN  74484350   \n",
       "1                                        direct  74897907   \n",
       "2                                           NaN  46692633   \n",
       "3                                           NaN  43363101   \n",
       "4                                           NaN  30278689   \n",
       "...                                         ...       ...   \n",
       "26994                                       NaN  13602666   \n",
       "26995                                       NaN  33614125   \n",
       "26996                                  crm_auto  69259024   \n",
       "26997                                       NaN  17662007   \n",
       "26998                                       NaN   3404810   \n",
       "\n",
       "      ID_SELLER_SHIPPING_COUNTRY  \n",
       "0                             74  \n",
       "1                            105  \n",
       "2                             57  \n",
       "3                             81  \n",
       "4                            150  \n",
       "...                          ...  \n",
       "26994                         74  \n",
       "26995                        203  \n",
       "26996                        124  \n",
       "26997                         74  \n",
       "26998                         74  \n",
       "\n",
       "[26999 rows x 220 columns]"
      ]
     },
     "execution_count": 18,
     "metadata": {},
     "output_type": "execute_result"
    }
   ],
   "source": [
    "df2=pd.read_csv('/Users/leenaomrani/Desktop/vestiaire_case/csv_files/DIM_VC_PRD_PRODUCT.csv')\n",
    "df2"
   ]
  },
  {
   "cell_type": "code",
   "execution_count": null,
   "metadata": {},
   "outputs": [
    {
     "data": {
      "text/plain": [
       "['ID_PRODUCT',\n",
       " 'DEPOSIT_PRICE',\n",
       " 'PRICE_INSERTION',\n",
       " 'SELLER_REVENUE',\n",
       " 'COMMISSION',\n",
       " 'ID_SELLER',\n",
       " 'DATE_DEPOSIT',\n",
       " 'DATE_PUBLISHED',\n",
       " 'DATE_SOLD',\n",
       " 'DATE_REJECTED',\n",
       " 'DATE_WITHDRAWN',\n",
       " 'SEVEND_SOLD_STATUS',\n",
       " 'THIRTYD_SOLD_STATUS',\n",
       " 'NINETYD_SOLD_STATUS',\n",
       " 'CURRENT_STATUS',\n",
       " 'STATUS_AFTER_7_DAYS',\n",
       " 'ACCEPTED_BY',\n",
       " 'ID_SUPERUSER_STR',\n",
       " 'CURATION_LEAD_TIME',\n",
       " 'CURATION_HUB',\n",
       " 'CURATION_HUB_SUB',\n",
       " 'ID_MODEL',\n",
       " 'ID_BRAND',\n",
       " 'ID_CATEGORY',\n",
       " 'ID_SUBCATEGORY',\n",
       " 'SUB_SUBCATEGORY',\n",
       " 'SEGMENT',\n",
       " 'UNIVERSE',\n",
       " 'IS_ONLINE',\n",
       " 'ID_SELLER_COUNTRY',\n",
       " 'VINTAGE',\n",
       " 'LIKES',\n",
       " 'WISHES',\n",
       " 'NB_CONSULTATION',\n",
       " 'NBWISH',\n",
       " 'DEPOSIT_DEVICE_BRAND',\n",
       " 'DEPOSIT_DEVICE',\n",
       " 'DEPOSIT_UTM_SOURCE',\n",
       " 'DEPOSIT_UTM_MEDIUM',\n",
       " 'DEPOSIT_CHANNEL',\n",
       " 'IS_PREMIUM_PRODUCT',\n",
       " 'IS_PICKING_REQUEST',\n",
       " 'IS_REFUND_EXTRA',\n",
       " 'RANK_SOLD',\n",
       " 'RANK_ACCEPTED',\n",
       " 'RANK_DEPOSIT',\n",
       " 'RANK_DEPOSIT_DAY',\n",
       " 'RANK_WITHDRAWN',\n",
       " 'RANK_WITHIN_SEGMENT',\n",
       " 'CURATION_SCORE',\n",
       " 'LOVED',\n",
       " 'PRODUCT_NAME',\n",
       " 'IS_REJECTED',\n",
       " 'ID_REJECT_REASON',\n",
       " 'ID_COLOUR',\n",
       " 'ID_MATERIAL',\n",
       " 'ID_MATERIAL_TYPE',\n",
       " 'ID_CONDITION',\n",
       " 'PHOTO_SMALL',\n",
       " 'ID_BI_CATEGORY',\n",
       " 'ID_PAGE',\n",
       " 'NEED_AUTH',\n",
       " 'PRODUCT_DESCRIPTION',\n",
       " 'DEPOSIT_MARKETING_CHANNEL',\n",
       " 'ID_WAREHOUSE',\n",
       " 'IS_RESERVED',\n",
       " 'DEPOSIT_BROWSER',\n",
       " 'FLAG_DIRECT_SHIPPING',\n",
       " 'FLAG_DIRECT_SHIPPING_DEPOSIT_DATE',\n",
       " 'ID_BI_CAT_TREE',\n",
       " 'MMAO_NB',\n",
       " 'MMAO_ACTIVATED',\n",
       " 'ID_PRICE_RANGE_INSERTION',\n",
       " 'ID_PRICE_RANGE_DEPOSIT',\n",
       " 'IS_EXCEPTIONAL',\n",
       " 'ID_PARENT_PRODUCT',\n",
       " 'CURRENCY',\n",
       " 'IS_ACTIVE',\n",
       " 'IS_WITHDRAWN',\n",
       " 'ID_SIZE',\n",
       " 'PHOTO_1',\n",
       " 'PHOTO_2',\n",
       " 'PHOTO_3',\n",
       " 'PHOTO_4',\n",
       " 'PHOTO_5',\n",
       " 'MODEL',\n",
       " 'BRAND',\n",
       " 'CATEGORY',\n",
       " 'SUBCATEGORY',\n",
       " 'COLOUR',\n",
       " 'MATERIAL',\n",
       " 'CONDITION',\n",
       " 'SIZE',\n",
       " 'BI_CATEGORY_MNL',\n",
       " 'BI_SUBCATEGORY',\n",
       " 'BRAND_GROUP',\n",
       " 'BI_BRAND_GROUP',\n",
       " 'BRAND_GROUP_DETAIL',\n",
       " 'BI_SUB_SUBCATEGORY_MNL',\n",
       " 'BI_UNIVERSE_MNL',\n",
       " 'BI_SUBCATEGORY_MNL',\n",
       " 'AGE_ONLINE',\n",
       " 'ID_SELLER_STATE',\n",
       " 'WAREHOUSE_NAME',\n",
       " 'PRICE_RANGE_INSERTION',\n",
       " 'PRICE_RANGE_DEPOSIT',\n",
       " 'FIFTEEND_SOLD_STATUS',\n",
       " 'INSTOCK',\n",
       " 'IS_COUNTERFEIT',\n",
       " 'IS_AUTHENTIC',\n",
       " 'ID_LAST_ACTION',\n",
       " 'IS_CONFORM',\n",
       " 'IS_NON_CONFORM',\n",
       " 'ID_STOCK_LOCATION',\n",
       " 'GEO_1_SELLER',\n",
       " 'GEO_2_SELLER',\n",
       " 'ID_SIZE_TYPE',\n",
       " 'SIZE_TYPE_HEADER',\n",
       " 'SIZE_TYPE_VALUE',\n",
       " 'SIZE_TYPE_NAME',\n",
       " 'IS_VDC_PLUS',\n",
       " 'FAIR_PRICE',\n",
       " 'IS_OVERPRICED',\n",
       " 'DEPOSIT_MARKETING_CHANNEL2',\n",
       " 'DEPOSIT_UTM_CAMPAIGN',\n",
       " 'HS_CODE',\n",
       " 'PRODUCT_REFERENCE',\n",
       " 'IS_HOT_SUPPLY',\n",
       " 'IS_EVERGREEN_SUPPLY',\n",
       " 'IS_WARM_SUPPLY',\n",
       " 'NB_PRICEDROPS',\n",
       " 'US_SUPPLY_TYPE',\n",
       " 'ID_PRICE_RANGE_INSERTION_2',\n",
       " 'ID_PRICE_RANGE_DEPOSIT_2',\n",
       " 'ID_SUB_SUBCATEGORY',\n",
       " 'ID_UNIVERSE',\n",
       " 'IS_SELLER_PAID',\n",
       " 'DATE_SELLER_PAID',\n",
       " 'PREDICTED_PRICE',\n",
       " 'SCORE_RANKING',\n",
       " 'SCORE_PRICE',\n",
       " 'SCORE_DESIRABILITY',\n",
       " 'PRICE_PROBABILITY_30',\n",
       " 'PRICE_PROBABILITY_40',\n",
       " 'PRICE_PROBABILITY_50',\n",
       " 'PRICE_PROBABILITY_60',\n",
       " 'PRICE_PROBABILITY_70',\n",
       " 'PRICE_PROBABILITY_80',\n",
       " 'ASSORTMENT_SCORE',\n",
       " 'REVISION_PHOTO',\n",
       " 'INTERNAL_COMMENT',\n",
       " 'ID_MECHANISM',\n",
       " 'ID_BRACELET',\n",
       " 'ID_BOX',\n",
       " 'NO_IMPORT_EXPORT',\n",
       " 'IS_NEWIN_LIKED_IN_7DAYS',\n",
       " 'IS_NEWIN_WISHLISTED_IN_7DAYS',\n",
       " 'IS_NEWIN_MMAO_IN_7DAYS',\n",
       " 'IS_NEWIN_COMMENTED_IN_7DAYS',\n",
       " 'IS_NEWIN_ATC_IN_7DAYS',\n",
       " 'IS_COUNTERFEIT_CURATION',\n",
       " 'EXCHANGE_RATE',\n",
       " 'DATE_BOUGHT_BY_VC',\n",
       " 'ONED_SOLD_STATUS',\n",
       " 'TWOD_SOLD_STATUS',\n",
       " 'THREED_SOLD_STATUS',\n",
       " 'DEPRECIATED_VALUE',\n",
       " 'CURRENT_PRICE_AT_DEPOSIT_XR',\n",
       " 'IS_JEWELLERY',\n",
       " 'IS_BIJOU',\n",
       " 'ID_PATTERN',\n",
       " 'PATTERN',\n",
       " 'ID_SITE',\n",
       " 'PVP_EURO_BO',\n",
       " 'ID_PRODUCT_UNAVAILABILITY_REASON',\n",
       " 'PRODUCT_UNAVAILABILITY_REASON',\n",
       " 'NEW_BRAND_GROUP',\n",
       " 'ID_PRICE_RANGE_INSERTION_3',\n",
       " 'ID_PRICE_RANGE_DEPOSIT_3',\n",
       " 'CURATOR_TYPE',\n",
       " 'IS_LIVE_OVERPRICED',\n",
       " 'IS_LOVED_AUTO',\n",
       " 'IS_NON_RECEIVED',\n",
       " 'BUSINESS_UNIT',\n",
       " 'LIVE_PRICE_LOCAL_WITH_FX',\n",
       " 'PRICE_BOUGHT_BY_VC',\n",
       " 'IS_ITEM_WHITELISTED',\n",
       " 'RANK_DEPOSIT_OVERALL',\n",
       " 'STOCK',\n",
       " 'ID_PRODUCT_NEXT_DEPOSIT',\n",
       " 'IS_SHIPPED',\n",
       " 'DATE_SHIPPED',\n",
       " 'ID_UNAVAILABILITY_REASON',\n",
       " 'UNAVAILABILITY_REASON',\n",
       " 'PHOTO_MEDIUM',\n",
       " 'PHOTO_LARGE',\n",
       " 'PHOTO_MICRO',\n",
       " 'PHOTO_NANO',\n",
       " 'LAST_LOW_PRICE',\n",
       " 'LIVE_PRICE_ORIGINAL_CURRENCY',\n",
       " 'LIVE_SALE_PRICE',\n",
       " 'LIVE_PRICE',\n",
       " 'IS_BEST_DEAL',\n",
       " 'FLAG_FRAUD',\n",
       " 'FLAG_EXCLUSION_BPERF',\n",
       " 'ID_PRODUCT_RELISTED',\n",
       " 'UPDATEDAT',\n",
       " 'IS_HOT_SUPPLY_PREVIOUS',\n",
       " 'REGIONAL_HOT_SUPPLY',\n",
       " 'IS_TRADESY_MIGRATED',\n",
       " 'DEPOSIT_UTM_CAMPAIGN_NON_PERSISTENT',\n",
       " 'DEPOSIT_UTM_MEDIUM_NON_PERSISTENT',\n",
       " 'DEPOSIT_UTM_SOURCE_NON_PERSISTENT',\n",
       " 'DEPOSIT_MARKETING_CHANNEL_NON_PERSISTENT',\n",
       " 'DEPOSIT_UTM_CAMPAIGN_30D_PERSISTENT',\n",
       " 'DEPOSIT_UTM_MEDIUM_30D_PERSISTENT',\n",
       " 'DEPOSIT_UTM_SOURCE_30D_PERSISTENT',\n",
       " 'DEPOSIT_MARKETING_CHANNEL_30D_PERSISTENT',\n",
       " 'ID_ORDER',\n",
       " 'ID_SELLER_SHIPPING_COUNTRY']"
      ]
     },
     "execution_count": 5,
     "metadata": {},
     "output_type": "execute_result"
    }
   ],
   "source": [
    "df2.columns.to_list()"
   ]
  },
  {
   "cell_type": "code",
   "execution_count": null,
   "metadata": {},
   "outputs": [],
   "source": [
    "df2.to_csv('/Users/leenaomrani/Desktop/vestiaire_case/csv_files/product.csv')"
   ]
  },
  {
   "attachments": {},
   "cell_type": "markdown",
   "metadata": {},
   "source": [
    "## Third Dataset : Order Product Data"
   ]
  },
  {
   "cell_type": "code",
   "execution_count": 29,
   "metadata": {},
   "outputs": [
    {
     "name": "stderr",
     "output_type": "stream",
     "text": [
      "/opt/anaconda3/lib/python3.9/site-packages/IPython/core/interactiveshell.py:3444: DtypeWarning: Columns (55) have mixed types.Specify dtype option on import or set low_memory=False.\n",
      "  exec(code_obj, self.user_global_ns, self.user_ns)\n"
     ]
    },
    {
     "data": {
      "text/html": [
       "<div>\n",
       "<style scoped>\n",
       "    .dataframe tbody tr th:only-of-type {\n",
       "        vertical-align: middle;\n",
       "    }\n",
       "\n",
       "    .dataframe tbody tr th {\n",
       "        vertical-align: top;\n",
       "    }\n",
       "\n",
       "    .dataframe thead th {\n",
       "        text-align: right;\n",
       "    }\n",
       "</style>\n",
       "<table border=\"1\" class=\"dataframe\">\n",
       "  <thead>\n",
       "    <tr style=\"text-align: right;\">\n",
       "      <th></th>\n",
       "      <th>REFRESHEDAT</th>\n",
       "      <th>ID_LINE_ORDER</th>\n",
       "      <th>ID_PRODUCT</th>\n",
       "      <th>ID_ORDER</th>\n",
       "      <th>ID_CATEGORY</th>\n",
       "      <th>ID_SUBCATEGORY</th>\n",
       "      <th>ID_BI_CATEGORY</th>\n",
       "      <th>ID_BI_CAT_TREE</th>\n",
       "      <th>ID_BRAND</th>\n",
       "      <th>ID_MODEL</th>\n",
       "      <th>...</th>\n",
       "      <th>VAT_RATE_DUTIES</th>\n",
       "      <th>VAT_RATE_BUYER_FEE</th>\n",
       "      <th>ORDER_UTM_CAMPAIGN_NON_PERSISTENT</th>\n",
       "      <th>ORDER_UTM_MEDIUM_NON_PERSISTENT</th>\n",
       "      <th>ORDER_UTM_SOURCE_NON_PERSISTENT</th>\n",
       "      <th>ORDER_MARKETING_CHANNEL_NON_PERSISTENT</th>\n",
       "      <th>ORDER_UTM_CAMPAIGN_30D_PERSISTENT</th>\n",
       "      <th>ORDER_UTM_MEDIUM_30D_PERSISTENT</th>\n",
       "      <th>ORDER_UTM_SOURCE_30D_DAYS_PERSISTENT</th>\n",
       "      <th>ORDER_MARKETING_CHANNEL_30D_PERSISTENT</th>\n",
       "    </tr>\n",
       "  </thead>\n",
       "  <tbody>\n",
       "    <tr>\n",
       "      <th>0</th>\n",
       "      <td>2023-04-25T05:45:28+02:00</td>\n",
       "      <td>11184660</td>\n",
       "      <td>4318058</td>\n",
       "      <td>18535051</td>\n",
       "      <td>12.0</td>\n",
       "      <td>137.0</td>\n",
       "      <td>16797</td>\n",
       "      <td>NaN</td>\n",
       "      <td>195</td>\n",
       "      <td>0</td>\n",
       "      <td>...</td>\n",
       "      <td>NaN</td>\n",
       "      <td>NaN</td>\n",
       "      <td>NaN</td>\n",
       "      <td>NaN</td>\n",
       "      <td>NaN</td>\n",
       "      <td>NaN</td>\n",
       "      <td>NaN</td>\n",
       "      <td>NaN</td>\n",
       "      <td>NaN</td>\n",
       "      <td>NaN</td>\n",
       "    </tr>\n",
       "    <tr>\n",
       "      <th>1</th>\n",
       "      <td>2023-04-25T05:45:28+02:00</td>\n",
       "      <td>43120039</td>\n",
       "      <td>28945812</td>\n",
       "      <td>68799972</td>\n",
       "      <td>63.0</td>\n",
       "      <td>592.0</td>\n",
       "      <td>63865</td>\n",
       "      <td>1507.0</td>\n",
       "      <td>14</td>\n",
       "      <td>86</td>\n",
       "      <td>...</td>\n",
       "      <td>0.0</td>\n",
       "      <td>0.0</td>\n",
       "      <td>mmao_prompt_to_likers_cc_push_new</td>\n",
       "      <td>push</td>\n",
       "      <td>vestiairecollective.com</td>\n",
       "      <td>crm_auto</td>\n",
       "      <td>mmao_prompt_to_likers_cc_push_new</td>\n",
       "      <td>push</td>\n",
       "      <td>vestiairecollective.com</td>\n",
       "      <td>crm_auto</td>\n",
       "    </tr>\n",
       "    <tr>\n",
       "      <th>2</th>\n",
       "      <td>2023-04-25T05:45:28+02:00</td>\n",
       "      <td>39687214</td>\n",
       "      <td>24210440</td>\n",
       "      <td>62433719</td>\n",
       "      <td>13.0</td>\n",
       "      <td>84.0</td>\n",
       "      <td>14511</td>\n",
       "      <td>1889.0</td>\n",
       "      <td>2935</td>\n",
       "      <td>397</td>\n",
       "      <td>...</td>\n",
       "      <td>NaN</td>\n",
       "      <td>NaN</td>\n",
       "      <td>(not set)</td>\n",
       "      <td>(not set)</td>\n",
       "      <td>(not set)</td>\n",
       "      <td>direct</td>\n",
       "      <td>mmao3_hurrypurchase_tobuyer</td>\n",
       "      <td>email-auto</td>\n",
       "      <td>vestiairecollective.com</td>\n",
       "      <td>crm_auto</td>\n",
       "    </tr>\n",
       "    <tr>\n",
       "      <th>3</th>\n",
       "      <td>2023-04-25T05:45:28+02:00</td>\n",
       "      <td>38760163</td>\n",
       "      <td>24549281</td>\n",
       "      <td>59929312</td>\n",
       "      <td>141.0</td>\n",
       "      <td>59.0</td>\n",
       "      <td>1460</td>\n",
       "      <td>NaN</td>\n",
       "      <td>2</td>\n",
       "      <td>7883</td>\n",
       "      <td>...</td>\n",
       "      <td>NaN</td>\n",
       "      <td>NaN</td>\n",
       "      <td>alert_new_ins_push</td>\n",
       "      <td>push</td>\n",
       "      <td>vestiairecollective.com</td>\n",
       "      <td>crm_auto</td>\n",
       "      <td>alert_new_ins_push</td>\n",
       "      <td>push</td>\n",
       "      <td>vestiairecollective.com</td>\n",
       "      <td>crm_auto</td>\n",
       "    </tr>\n",
       "    <tr>\n",
       "      <th>4</th>\n",
       "      <td>2023-04-25T05:45:28+02:00</td>\n",
       "      <td>28449850</td>\n",
       "      <td>17025179</td>\n",
       "      <td>42030471</td>\n",
       "      <td>12.0</td>\n",
       "      <td>39.0</td>\n",
       "      <td>16797</td>\n",
       "      <td>NaN</td>\n",
       "      <td>23</td>\n",
       "      <td>0</td>\n",
       "      <td>...</td>\n",
       "      <td>NaN</td>\n",
       "      <td>NaN</td>\n",
       "      <td>NaN</td>\n",
       "      <td>NaN</td>\n",
       "      <td>NaN</td>\n",
       "      <td>NaN</td>\n",
       "      <td>NaN</td>\n",
       "      <td>NaN</td>\n",
       "      <td>NaN</td>\n",
       "      <td>NaN</td>\n",
       "    </tr>\n",
       "    <tr>\n",
       "      <th>...</th>\n",
       "      <td>...</td>\n",
       "      <td>...</td>\n",
       "      <td>...</td>\n",
       "      <td>...</td>\n",
       "      <td>...</td>\n",
       "      <td>...</td>\n",
       "      <td>...</td>\n",
       "      <td>...</td>\n",
       "      <td>...</td>\n",
       "      <td>...</td>\n",
       "      <td>...</td>\n",
       "      <td>...</td>\n",
       "      <td>...</td>\n",
       "      <td>...</td>\n",
       "      <td>...</td>\n",
       "      <td>...</td>\n",
       "      <td>...</td>\n",
       "      <td>...</td>\n",
       "      <td>...</td>\n",
       "      <td>...</td>\n",
       "      <td>...</td>\n",
       "    </tr>\n",
       "    <tr>\n",
       "      <th>26994</th>\n",
       "      <td>2023-04-25T05:45:28+02:00</td>\n",
       "      <td>22841191</td>\n",
       "      <td>13020633</td>\n",
       "      <td>32658370</td>\n",
       "      <td>63.0</td>\n",
       "      <td>596.0</td>\n",
       "      <td>63865</td>\n",
       "      <td>1549.0</td>\n",
       "      <td>648</td>\n",
       "      <td>0</td>\n",
       "      <td>...</td>\n",
       "      <td>NaN</td>\n",
       "      <td>NaN</td>\n",
       "      <td>NaN</td>\n",
       "      <td>NaN</td>\n",
       "      <td>NaN</td>\n",
       "      <td>NaN</td>\n",
       "      <td>NaN</td>\n",
       "      <td>NaN</td>\n",
       "      <td>NaN</td>\n",
       "      <td>NaN</td>\n",
       "    </tr>\n",
       "    <tr>\n",
       "      <th>26995</th>\n",
       "      <td>2023-04-25T05:45:28+02:00</td>\n",
       "      <td>33796344</td>\n",
       "      <td>20906763</td>\n",
       "      <td>51760793</td>\n",
       "      <td>14.0</td>\n",
       "      <td>55.0</td>\n",
       "      <td>14609</td>\n",
       "      <td>NaN</td>\n",
       "      <td>14</td>\n",
       "      <td>0</td>\n",
       "      <td>...</td>\n",
       "      <td>NaN</td>\n",
       "      <td>NaN</td>\n",
       "      <td>NaN</td>\n",
       "      <td>NaN</td>\n",
       "      <td>NaN</td>\n",
       "      <td>NaN</td>\n",
       "      <td>NaN</td>\n",
       "      <td>NaN</td>\n",
       "      <td>NaN</td>\n",
       "      <td>NaN</td>\n",
       "    </tr>\n",
       "    <tr>\n",
       "      <th>26996</th>\n",
       "      <td>2023-04-25T05:45:28+02:00</td>\n",
       "      <td>17825732</td>\n",
       "      <td>9632658</td>\n",
       "      <td>24623167</td>\n",
       "      <td>141.0</td>\n",
       "      <td>59.0</td>\n",
       "      <td>1460</td>\n",
       "      <td>NaN</td>\n",
       "      <td>10</td>\n",
       "      <td>0</td>\n",
       "      <td>...</td>\n",
       "      <td>NaN</td>\n",
       "      <td>NaN</td>\n",
       "      <td>NaN</td>\n",
       "      <td>NaN</td>\n",
       "      <td>NaN</td>\n",
       "      <td>NaN</td>\n",
       "      <td>NaN</td>\n",
       "      <td>NaN</td>\n",
       "      <td>NaN</td>\n",
       "      <td>NaN</td>\n",
       "    </tr>\n",
       "    <tr>\n",
       "      <th>26997</th>\n",
       "      <td>2023-04-25T05:45:28+02:00</td>\n",
       "      <td>19960876</td>\n",
       "      <td>10836769</td>\n",
       "      <td>27814172</td>\n",
       "      <td>63.0</td>\n",
       "      <td>595.0</td>\n",
       "      <td>63865</td>\n",
       "      <td>1585.0</td>\n",
       "      <td>6</td>\n",
       "      <td>0</td>\n",
       "      <td>...</td>\n",
       "      <td>NaN</td>\n",
       "      <td>NaN</td>\n",
       "      <td>NaN</td>\n",
       "      <td>NaN</td>\n",
       "      <td>NaN</td>\n",
       "      <td>NaN</td>\n",
       "      <td>NaN</td>\n",
       "      <td>NaN</td>\n",
       "      <td>NaN</td>\n",
       "      <td>NaN</td>\n",
       "    </tr>\n",
       "    <tr>\n",
       "      <th>26998</th>\n",
       "      <td>2023-04-25T05:45:28+02:00</td>\n",
       "      <td>27212038</td>\n",
       "      <td>16256498</td>\n",
       "      <td>38877399</td>\n",
       "      <td>141.0</td>\n",
       "      <td>59.0</td>\n",
       "      <td>1460</td>\n",
       "      <td>NaN</td>\n",
       "      <td>10</td>\n",
       "      <td>0</td>\n",
       "      <td>...</td>\n",
       "      <td>NaN</td>\n",
       "      <td>NaN</td>\n",
       "      <td>NaN</td>\n",
       "      <td>NaN</td>\n",
       "      <td>NaN</td>\n",
       "      <td>NaN</td>\n",
       "      <td>NaN</td>\n",
       "      <td>NaN</td>\n",
       "      <td>NaN</td>\n",
       "      <td>NaN</td>\n",
       "    </tr>\n",
       "  </tbody>\n",
       "</table>\n",
       "<p>26999 rows × 204 columns</p>\n",
       "</div>"
      ],
      "text/plain": [
       "                     REFRESHEDAT  ID_LINE_ORDER  ID_PRODUCT  ID_ORDER  \\\n",
       "0      2023-04-25T05:45:28+02:00       11184660     4318058  18535051   \n",
       "1      2023-04-25T05:45:28+02:00       43120039    28945812  68799972   \n",
       "2      2023-04-25T05:45:28+02:00       39687214    24210440  62433719   \n",
       "3      2023-04-25T05:45:28+02:00       38760163    24549281  59929312   \n",
       "4      2023-04-25T05:45:28+02:00       28449850    17025179  42030471   \n",
       "...                          ...            ...         ...       ...   \n",
       "26994  2023-04-25T05:45:28+02:00       22841191    13020633  32658370   \n",
       "26995  2023-04-25T05:45:28+02:00       33796344    20906763  51760793   \n",
       "26996  2023-04-25T05:45:28+02:00       17825732     9632658  24623167   \n",
       "26997  2023-04-25T05:45:28+02:00       19960876    10836769  27814172   \n",
       "26998  2023-04-25T05:45:28+02:00       27212038    16256498  38877399   \n",
       "\n",
       "       ID_CATEGORY  ID_SUBCATEGORY  ID_BI_CATEGORY  ID_BI_CAT_TREE  ID_BRAND  \\\n",
       "0             12.0           137.0           16797             NaN       195   \n",
       "1             63.0           592.0           63865          1507.0        14   \n",
       "2             13.0            84.0           14511          1889.0      2935   \n",
       "3            141.0            59.0            1460             NaN         2   \n",
       "4             12.0            39.0           16797             NaN        23   \n",
       "...            ...             ...             ...             ...       ...   \n",
       "26994         63.0           596.0           63865          1549.0       648   \n",
       "26995         14.0            55.0           14609             NaN        14   \n",
       "26996        141.0            59.0            1460             NaN        10   \n",
       "26997         63.0           595.0           63865          1585.0         6   \n",
       "26998        141.0            59.0            1460             NaN        10   \n",
       "\n",
       "       ID_MODEL  ...  VAT_RATE_DUTIES  VAT_RATE_BUYER_FEE  \\\n",
       "0             0  ...              NaN                 NaN   \n",
       "1            86  ...              0.0                 0.0   \n",
       "2           397  ...              NaN                 NaN   \n",
       "3          7883  ...              NaN                 NaN   \n",
       "4             0  ...              NaN                 NaN   \n",
       "...         ...  ...              ...                 ...   \n",
       "26994         0  ...              NaN                 NaN   \n",
       "26995         0  ...              NaN                 NaN   \n",
       "26996         0  ...              NaN                 NaN   \n",
       "26997         0  ...              NaN                 NaN   \n",
       "26998         0  ...              NaN                 NaN   \n",
       "\n",
       "       ORDER_UTM_CAMPAIGN_NON_PERSISTENT ORDER_UTM_MEDIUM_NON_PERSISTENT  \\\n",
       "0                                    NaN                             NaN   \n",
       "1      mmao_prompt_to_likers_cc_push_new                            push   \n",
       "2                              (not set)                       (not set)   \n",
       "3                     alert_new_ins_push                            push   \n",
       "4                                    NaN                             NaN   \n",
       "...                                  ...                             ...   \n",
       "26994                                NaN                             NaN   \n",
       "26995                                NaN                             NaN   \n",
       "26996                                NaN                             NaN   \n",
       "26997                                NaN                             NaN   \n",
       "26998                                NaN                             NaN   \n",
       "\n",
       "      ORDER_UTM_SOURCE_NON_PERSISTENT ORDER_MARKETING_CHANNEL_NON_PERSISTENT  \\\n",
       "0                                 NaN                                    NaN   \n",
       "1             vestiairecollective.com                               crm_auto   \n",
       "2                           (not set)                                 direct   \n",
       "3             vestiairecollective.com                               crm_auto   \n",
       "4                                 NaN                                    NaN   \n",
       "...                               ...                                    ...   \n",
       "26994                             NaN                                    NaN   \n",
       "26995                             NaN                                    NaN   \n",
       "26996                             NaN                                    NaN   \n",
       "26997                             NaN                                    NaN   \n",
       "26998                             NaN                                    NaN   \n",
       "\n",
       "       ORDER_UTM_CAMPAIGN_30D_PERSISTENT ORDER_UTM_MEDIUM_30D_PERSISTENT  \\\n",
       "0                                    NaN                             NaN   \n",
       "1      mmao_prompt_to_likers_cc_push_new                            push   \n",
       "2            mmao3_hurrypurchase_tobuyer                      email-auto   \n",
       "3                     alert_new_ins_push                            push   \n",
       "4                                    NaN                             NaN   \n",
       "...                                  ...                             ...   \n",
       "26994                                NaN                             NaN   \n",
       "26995                                NaN                             NaN   \n",
       "26996                                NaN                             NaN   \n",
       "26997                                NaN                             NaN   \n",
       "26998                                NaN                             NaN   \n",
       "\n",
       "      ORDER_UTM_SOURCE_30D_DAYS_PERSISTENT  \\\n",
       "0                                      NaN   \n",
       "1                  vestiairecollective.com   \n",
       "2                  vestiairecollective.com   \n",
       "3                  vestiairecollective.com   \n",
       "4                                      NaN   \n",
       "...                                    ...   \n",
       "26994                                  NaN   \n",
       "26995                                  NaN   \n",
       "26996                                  NaN   \n",
       "26997                                  NaN   \n",
       "26998                                  NaN   \n",
       "\n",
       "      ORDER_MARKETING_CHANNEL_30D_PERSISTENT  \n",
       "0                                        NaN  \n",
       "1                                   crm_auto  \n",
       "2                                   crm_auto  \n",
       "3                                   crm_auto  \n",
       "4                                        NaN  \n",
       "...                                      ...  \n",
       "26994                                    NaN  \n",
       "26995                                    NaN  \n",
       "26996                                    NaN  \n",
       "26997                                    NaN  \n",
       "26998                                    NaN  \n",
       "\n",
       "[26999 rows x 204 columns]"
      ]
     },
     "execution_count": 29,
     "metadata": {},
     "output_type": "execute_result"
    }
   ],
   "source": [
    "df3=pd.read_csv('/Users/leenaomrani/Desktop/vestiaire_case/Dataset 3/FCT_VC_SLS_ORDER_PRODUCT.csv')\n",
    "df3"
   ]
  },
  {
   "cell_type": "code",
   "execution_count": 30,
   "metadata": {},
   "outputs": [
    {
     "data": {
      "text/plain": [
       "0        False\n",
       "1        False\n",
       "2        False\n",
       "3        False\n",
       "4        False\n",
       "         ...  \n",
       "26994    False\n",
       "26995    False\n",
       "26996    False\n",
       "26997    False\n",
       "26998    False\n",
       "Name: ID_LINE_ORDER, Length: 26999, dtype: bool"
      ]
     },
     "execution_count": 30,
     "metadata": {},
     "output_type": "execute_result"
    }
   ],
   "source": [
    "is_duplicate = df3['ID_LINE_ORDER'].duplicated()\n",
    "is_duplicate\n"
   ]
  },
  {
   "cell_type": "code",
   "execution_count": 31,
   "metadata": {},
   "outputs": [
    {
     "data": {
      "text/plain": [
       "0        False\n",
       "1        False\n",
       "2        False\n",
       "3        False\n",
       "4        False\n",
       "         ...  \n",
       "26994    False\n",
       "26995    False\n",
       "26996    False\n",
       "26997    False\n",
       "26998    False\n",
       "Length: 26999, dtype: bool"
      ]
     },
     "execution_count": 31,
     "metadata": {},
     "output_type": "execute_result"
    }
   ],
   "source": [
    "is_similar = df3['ID_LINE_ORDER'] == df3['ID_ORDER']\n",
    "is_similar\n"
   ]
  },
  {
   "cell_type": "code",
   "execution_count": 32,
   "metadata": {},
   "outputs": [],
   "source": [
    "df3['ID_CATEGORY'] = df3['ID_CATEGORY'].astype(str).str.rstrip('.0')\n",
    "df3['CATEGORY'] = df3['CATEGORY'].astype(str).str.rstrip('.0')\n",
    "\n"
   ]
  },
  {
   "cell_type": "code",
   "execution_count": 33,
   "metadata": {},
   "outputs": [
    {
     "name": "stdout",
     "output_type": "stream",
     "text": [
      "      ID_CATEGORY     CATEGORY\n",
      "0              12     clothing\n",
      "1              63    jewellery\n",
      "2              13        shoes\n",
      "3             141         bags\n",
      "4              12     clothing\n",
      "...           ...          ...\n",
      "26994          63    jewellery\n",
      "26995          14  accessories\n",
      "26996         141         bags\n",
      "26997          63    jewellery\n",
      "26998         141         bags\n",
      "\n",
      "[26999 rows x 2 columns]\n"
     ]
    }
   ],
   "source": [
    "column1 = df3['ID_CATEGORY']\n",
    "column2 = df3['CATEGORY']\n",
    "\n",
    "# Concatenate the columns horizontally\n",
    "result = pd.concat([column1, column2], axis=1)\n",
    "\n",
    "# Print the result\n",
    "print(result)\n",
    "#WE CAN SEE THAT EVERY CATEGORY IS ASSSIGNED TO AN ID ."
   ]
  },
  {
   "cell_type": "code",
   "execution_count": 34,
   "metadata": {},
   "outputs": [
    {
     "name": "stdout",
     "output_type": "stream",
     "text": [
      "               CATEGORY ID_CATEGORY\n",
      "0           accessories          14\n",
      "1         art & culture         823\n",
      "2                  baby           9\n",
      "3                  bags         141\n",
      "4                  boys           8\n",
      "5              clothing          12\n",
      "6   design & decoration         805\n",
      "7                 girls           7\n",
      "8             high-tech         811\n",
      "9             jewellery          63\n",
      "10                  nan         nan\n",
      "11      pet accessories         812\n",
      "12                shoes          13\n",
      "13      sport & leisure          81\n"
     ]
    }
   ],
   "source": [
    "category_mapping = df3.groupby('CATEGORY')['ID_CATEGORY'].first().reset_index()\n",
    "print(category_mapping)\n",
    "#thirteen categories :) "
   ]
  },
  {
   "cell_type": "code",
   "execution_count": 35,
   "metadata": {},
   "outputs": [
    {
     "name": "stdout",
     "output_type": "stream",
     "text": [
      "     SUBCATEGORY  ID_SUBCATEGORY\n",
      "0    accessories           819.0\n",
      "1    ankle boots           511.0\n",
      "2            art           826.0\n",
      "3      backpacks           526.0\n",
      "4     bag charms           602.0\n",
      "..           ...             ...\n",
      "78   travel bags           527.0\n",
      "79  trench coats           610.0\n",
      "80      trousers            71.0\n",
      "81       wallets           599.0\n",
      "82       watches           164.0\n",
      "\n",
      "[83 rows x 2 columns]\n"
     ]
    }
   ],
   "source": [
    "category_mapping = df3.groupby('SUBCATEGORY')['ID_SUBCATEGORY'].first().reset_index()\n",
    "print(category_mapping)"
   ]
  },
  {
   "attachments": {},
   "cell_type": "markdown",
   "metadata": {},
   "source": [
    "### MOST ORDERS PER CATEGORY "
   ]
  },
  {
   "cell_type": "code",
   "execution_count": 36,
   "metadata": {},
   "outputs": [
    {
     "name": "stdout",
     "output_type": "stream",
     "text": [
      "   ID_CATEGORY  ID_ORDER\n",
      "0           12      9175\n",
      "3          141      5291\n",
      "1           13      5272\n",
      "2           14      3056\n",
      "4           63      1952\n",
      "13         nan       295\n",
      "5            7       201\n",
      "7          805       159\n",
      "6            8       140\n",
      "9          811        29\n",
      "11         823        26\n",
      "10         812         9\n",
      "8           81         6\n",
      "12           9         1\n"
     ]
    }
   ],
   "source": [
    "orders_by_category = df3.groupby('ID_CATEGORY')['ID_ORDER'].nunique().reset_index()\n",
    "\n",
    "# Sort the data in descending order based on the number of orders\n",
    "orders_by_category = orders_by_category.sort_values('ID_ORDER', ascending=False)\n",
    "\n",
    "# Print the categories driving the most orders\n",
    "print(orders_by_category)"
   ]
  },
  {
   "attachments": {},
   "cell_type": "markdown",
   "metadata": {},
   "source": [
    "### MOST GMV GENERATED PER CATEGORY\n"
   ]
  },
  {
   "cell_type": "code",
   "execution_count": 37,
   "metadata": {},
   "outputs": [
    {
     "name": "stdout",
     "output_type": "stream",
     "text": [
      "   ID_CATEGORY           GMV\n",
      "3          141  3.695092e+06\n",
      "0           12  1.773225e+06\n",
      "1           13  1.113805e+06\n",
      "2           14  7.009561e+05\n",
      "4           63  6.316711e+05\n",
      "7          805  3.032818e+04\n",
      "5            7  1.426886e+04\n",
      "6            8  8.841644e+03\n",
      "9          811  7.292067e+03\n",
      "13         nan  5.984483e+03\n",
      "11         823  5.156161e+03\n",
      "10         812  3.155605e+03\n",
      "8           81  1.312326e+03\n",
      "12           9  2.800000e+01\n"
     ]
    }
   ],
   "source": [
    "# Group by 'id_category' and sum the 'gmv' to get the total GMV per category\n",
    "gmv_by_category = df3.groupby('ID_CATEGORY')['GMV'].sum().reset_index()\n",
    "\n",
    "# Sort the data in descending order based on the total GMV\n",
    "gmv_by_category = gmv_by_category.sort_values('GMV', ascending=False)\n",
    "\n",
    "# Print the categories driving the most GMV\n",
    "print(gmv_by_category)"
   ]
  },
  {
   "cell_type": "code",
   "execution_count": 38,
   "metadata": {},
   "outputs": [
    {
     "ename": "KeyError",
     "evalue": "'GMV'",
     "output_type": "error",
     "traceback": [
      "\u001b[0;31m---------------------------------------------------------------------------\u001b[0m",
      "\u001b[0;31mKeyError\u001b[0m                                  Traceback (most recent call last)",
      "\u001b[0;32m/opt/anaconda3/lib/python3.9/site-packages/pandas/core/indexes/base.py\u001b[0m in \u001b[0;36mget_loc\u001b[0;34m(self, key, method, tolerance)\u001b[0m\n\u001b[1;32m   3360\u001b[0m             \u001b[0;32mtry\u001b[0m\u001b[0;34m:\u001b[0m\u001b[0;34m\u001b[0m\u001b[0;34m\u001b[0m\u001b[0m\n\u001b[0;32m-> 3361\u001b[0;31m                 \u001b[0;32mreturn\u001b[0m \u001b[0mself\u001b[0m\u001b[0;34m.\u001b[0m\u001b[0m_engine\u001b[0m\u001b[0;34m.\u001b[0m\u001b[0mget_loc\u001b[0m\u001b[0;34m(\u001b[0m\u001b[0mcasted_key\u001b[0m\u001b[0;34m)\u001b[0m\u001b[0;34m\u001b[0m\u001b[0;34m\u001b[0m\u001b[0m\n\u001b[0m\u001b[1;32m   3362\u001b[0m             \u001b[0;32mexcept\u001b[0m \u001b[0mKeyError\u001b[0m \u001b[0;32mas\u001b[0m \u001b[0merr\u001b[0m\u001b[0;34m:\u001b[0m\u001b[0;34m\u001b[0m\u001b[0;34m\u001b[0m\u001b[0m\n",
      "\u001b[0;32m/opt/anaconda3/lib/python3.9/site-packages/pandas/_libs/index.pyx\u001b[0m in \u001b[0;36mpandas._libs.index.IndexEngine.get_loc\u001b[0;34m()\u001b[0m\n",
      "\u001b[0;32m/opt/anaconda3/lib/python3.9/site-packages/pandas/_libs/index.pyx\u001b[0m in \u001b[0;36mpandas._libs.index.IndexEngine.get_loc\u001b[0;34m()\u001b[0m\n",
      "\u001b[0;32mpandas/_libs/hashtable_class_helper.pxi\u001b[0m in \u001b[0;36mpandas._libs.hashtable.PyObjectHashTable.get_item\u001b[0;34m()\u001b[0m\n",
      "\u001b[0;32mpandas/_libs/hashtable_class_helper.pxi\u001b[0m in \u001b[0;36mpandas._libs.hashtable.PyObjectHashTable.get_item\u001b[0;34m()\u001b[0m\n",
      "\u001b[0;31mKeyError\u001b[0m: 'GMV'",
      "\nThe above exception was the direct cause of the following exception:\n",
      "\u001b[0;31mKeyError\u001b[0m                                  Traceback (most recent call last)",
      "\u001b[0;32m/var/folders/qn/mtl559_57tn77j5y4wb_w49c0000gn/T/ipykernel_26958/4016732553.py\u001b[0m in \u001b[0;36m<module>\u001b[0;34m\u001b[0m\n\u001b[0;32m----> 1\u001b[0;31m \u001b[0mdf\u001b[0m\u001b[0;34m[\u001b[0m\u001b[0;34m'GMV'\u001b[0m\u001b[0;34m]\u001b[0m \u001b[0;34m=\u001b[0m \u001b[0mdf\u001b[0m\u001b[0;34m[\u001b[0m\u001b[0;34m'GMV'\u001b[0m\u001b[0;34m]\u001b[0m\u001b[0;34m.\u001b[0m\u001b[0mapply\u001b[0m\u001b[0;34m(\u001b[0m\u001b[0;32mlambda\u001b[0m \u001b[0mx\u001b[0m\u001b[0;34m:\u001b[0m \u001b[0mformat\u001b[0m\u001b[0;34m(\u001b[0m\u001b[0mx\u001b[0m\u001b[0;34m,\u001b[0m \u001b[0;34m'f'\u001b[0m\u001b[0;34m)\u001b[0m\u001b[0;34m)\u001b[0m\u001b[0;34m\u001b[0m\u001b[0;34m\u001b[0m\u001b[0m\n\u001b[0m",
      "\u001b[0;32m/opt/anaconda3/lib/python3.9/site-packages/pandas/core/frame.py\u001b[0m in \u001b[0;36m__getitem__\u001b[0;34m(self, key)\u001b[0m\n\u001b[1;32m   3456\u001b[0m             \u001b[0;32mif\u001b[0m \u001b[0mself\u001b[0m\u001b[0;34m.\u001b[0m\u001b[0mcolumns\u001b[0m\u001b[0;34m.\u001b[0m\u001b[0mnlevels\u001b[0m \u001b[0;34m>\u001b[0m \u001b[0;36m1\u001b[0m\u001b[0;34m:\u001b[0m\u001b[0;34m\u001b[0m\u001b[0;34m\u001b[0m\u001b[0m\n\u001b[1;32m   3457\u001b[0m                 \u001b[0;32mreturn\u001b[0m \u001b[0mself\u001b[0m\u001b[0;34m.\u001b[0m\u001b[0m_getitem_multilevel\u001b[0m\u001b[0;34m(\u001b[0m\u001b[0mkey\u001b[0m\u001b[0;34m)\u001b[0m\u001b[0;34m\u001b[0m\u001b[0;34m\u001b[0m\u001b[0m\n\u001b[0;32m-> 3458\u001b[0;31m             \u001b[0mindexer\u001b[0m \u001b[0;34m=\u001b[0m \u001b[0mself\u001b[0m\u001b[0;34m.\u001b[0m\u001b[0mcolumns\u001b[0m\u001b[0;34m.\u001b[0m\u001b[0mget_loc\u001b[0m\u001b[0;34m(\u001b[0m\u001b[0mkey\u001b[0m\u001b[0;34m)\u001b[0m\u001b[0;34m\u001b[0m\u001b[0;34m\u001b[0m\u001b[0m\n\u001b[0m\u001b[1;32m   3459\u001b[0m             \u001b[0;32mif\u001b[0m \u001b[0mis_integer\u001b[0m\u001b[0;34m(\u001b[0m\u001b[0mindexer\u001b[0m\u001b[0;34m)\u001b[0m\u001b[0;34m:\u001b[0m\u001b[0;34m\u001b[0m\u001b[0;34m\u001b[0m\u001b[0m\n\u001b[1;32m   3460\u001b[0m                 \u001b[0mindexer\u001b[0m \u001b[0;34m=\u001b[0m \u001b[0;34m[\u001b[0m\u001b[0mindexer\u001b[0m\u001b[0;34m]\u001b[0m\u001b[0;34m\u001b[0m\u001b[0;34m\u001b[0m\u001b[0m\n",
      "\u001b[0;32m/opt/anaconda3/lib/python3.9/site-packages/pandas/core/indexes/base.py\u001b[0m in \u001b[0;36mget_loc\u001b[0;34m(self, key, method, tolerance)\u001b[0m\n\u001b[1;32m   3361\u001b[0m                 \u001b[0;32mreturn\u001b[0m \u001b[0mself\u001b[0m\u001b[0;34m.\u001b[0m\u001b[0m_engine\u001b[0m\u001b[0;34m.\u001b[0m\u001b[0mget_loc\u001b[0m\u001b[0;34m(\u001b[0m\u001b[0mcasted_key\u001b[0m\u001b[0;34m)\u001b[0m\u001b[0;34m\u001b[0m\u001b[0;34m\u001b[0m\u001b[0m\n\u001b[1;32m   3362\u001b[0m             \u001b[0;32mexcept\u001b[0m \u001b[0mKeyError\u001b[0m \u001b[0;32mas\u001b[0m \u001b[0merr\u001b[0m\u001b[0;34m:\u001b[0m\u001b[0;34m\u001b[0m\u001b[0;34m\u001b[0m\u001b[0m\n\u001b[0;32m-> 3363\u001b[0;31m                 \u001b[0;32mraise\u001b[0m \u001b[0mKeyError\u001b[0m\u001b[0;34m(\u001b[0m\u001b[0mkey\u001b[0m\u001b[0;34m)\u001b[0m \u001b[0;32mfrom\u001b[0m \u001b[0merr\u001b[0m\u001b[0;34m\u001b[0m\u001b[0;34m\u001b[0m\u001b[0m\n\u001b[0m\u001b[1;32m   3364\u001b[0m \u001b[0;34m\u001b[0m\u001b[0m\n\u001b[1;32m   3365\u001b[0m         \u001b[0;32mif\u001b[0m \u001b[0mis_scalar\u001b[0m\u001b[0;34m(\u001b[0m\u001b[0mkey\u001b[0m\u001b[0;34m)\u001b[0m \u001b[0;32mand\u001b[0m \u001b[0misna\u001b[0m\u001b[0;34m(\u001b[0m\u001b[0mkey\u001b[0m\u001b[0;34m)\u001b[0m \u001b[0;32mand\u001b[0m \u001b[0;32mnot\u001b[0m \u001b[0mself\u001b[0m\u001b[0;34m.\u001b[0m\u001b[0mhasnans\u001b[0m\u001b[0;34m:\u001b[0m\u001b[0;34m\u001b[0m\u001b[0;34m\u001b[0m\u001b[0m\n",
      "\u001b[0;31mKeyError\u001b[0m: 'GMV'"
     ]
    }
   ],
   "source": [
    "df['GMV'] = df['GMV'].apply(lambda x: format(x, 'f'))\n"
   ]
  },
  {
   "cell_type": "code",
   "execution_count": 39,
   "metadata": {},
   "outputs": [],
   "source": [
    "column_names = df3.columns.tolist()\n"
   ]
  },
  {
   "cell_type": "code",
   "execution_count": 40,
   "metadata": {},
   "outputs": [
    {
     "name": "stdout",
     "output_type": "stream",
     "text": [
      "['REFRESHEDAT', 'ID_LINE_ORDER', 'ID_PRODUCT', 'ID_ORDER', 'ID_CATEGORY', 'ID_SUBCATEGORY', 'ID_BI_CATEGORY', 'ID_BI_CAT_TREE', 'ID_BRAND', 'ID_MODEL', 'ID_COLOUR', 'ID_CONDITION', 'BRAND', 'BRAND_GROUP', 'BRAND_GROUP_DETAIL', 'BI_BRAND_GROUP', 'MODEL', 'CATEGORY', 'SUBCATEGORY', 'SUB_SUBCATEGORY', 'CURATION_HUB', 'BRAND_GROUP_CURATION', 'UNIVERSE', 'COLOUR', 'MATERIAL', 'CONDITION', 'BI_SUBCATEGORY', 'BI_CATEGORY_MNL', 'BI_SUBCATEGORY_MNL', 'BI_SUB_SUBCATEGORY_MNL', 'BI_UNIVERSE_MNL', 'DEPOSIT_PRICE', 'INSERTION_PRICE', 'PRICE_SOLD_GMV', 'PRICE_SOLD', 'NB_ITEMS', 'DISCOUNT_AMOUNT_GMV', 'DISCOUNT_AMOUNT', 'DISCOUNT_AMOUNT_EXCL_VAT', 'DELIVERY_PRICE_GMV', 'DELIVERY_PRICE', 'DELIVERY_PRICE_EXCL_VAT', 'DUTIES_GMV', 'DUTIES', 'DUTIES_EXCL_VAT', 'COMMISSION_TTC', 'ID_COUNTRY_DES', 'ID_STATE_DES', 'DATE_INVOICE', 'DATE_SOLD', 'DATE_DEPOSIT', 'DATE_PUBLISHED', 'ID_PAYMENT_TYPE', 'PAYMENT_TYPE', 'ID_BUYER', 'IS_NEW_BUYER', 'WAS_PREMIUM', 'RANK_BUYER', 'ORDER_DEVICE', 'ORDER_CHANNEL', 'ORDER_DEVICE_BRAND', 'ORDER_UTM_CAMPAIGN', 'ORDER_UTM_MEDIUM', 'ORDER_UTM_SOURCE', 'DEPOSIT_UTM_CAMPAIGN', 'DEPOSIT_UTM_MEDIUM', 'DEPOSIT_UTM_SOURCE', 'DEPOSIT_CHANNEL', 'DEPOSIT_DEVICE', 'DEPOSIT_DEVICE_BRAND', 'RANK_DEPOSIT', 'ID_SELLER', 'IS_NEW_SELLER', 'ID_SELLER_COUNTRY', 'ID_SELLER_STATE', 'PURE_PREMIUM', 'RANK_WITHIN_SEGMENT', 'PRODUCT_NAME', 'SEGMENT', 'DATE_PAYMENT', 'VINTAGE', 'PRODUCT_CURRENCY', 'IS_PREMIUM_PRODUCT', 'IS_PICKING_REQUEST', 'IS_REFUND_EXTRA', 'LOVED', 'RANK_SOLD', 'DATE_RECEIVED', 'MMAO_NB', 'GMV', 'ORDER_VALUE_RANGE', 'CURATION_SCORE', 'IS_COMPLIANT', 'IS_COUNTERFEIT', 'HAS_PURCHASED_TWICE', 'ID_MATERIAL', 'ID_MATERIAL_TYPE', 'PHOTO_SMALL', 'NPS_BUYER_SCORE', 'NPS_SELLER_SCORE', 'NPS_BUYER_DATE', 'NPS_SELLER_DATE', 'ID_WAREHOUSE', 'NB_DAYS_SINCE_LAST_PURCHASE', 'BUYER_FEE_GMV', 'BUYER_FEE', 'BUYER_FEE_EXCL_VAT', 'ID_PAGE', 'IS_AUTHENTIFIED', 'SELLER_REVENUE', 'MARKETPLACE_REVENUE_INCL_VAT', 'MARKETPLACE_REVENUE_EXCL_VAT', 'ORDER_CURRENCY', 'PRICE_SOLD_ORIGINAL', 'HAS_DUTIES', 'ORDER_MARKETING_CHANNEL', 'ACCEPTED_BY', 'ID_PRICE_RANGE_SOLD', 'ID_PRICE_RANGE_SOLD_2', 'FLAG_DIRECT_SHIPPING', 'WAS_DS_ELIGIBLE', 'LOWEST_CATALOG_PRICE', 'MMAO_PRICE_DROP', 'IS_EXCEPTIONAL', 'IS_DUPLICATE_ORDER', 'ID_ORDER_STATUS', 'ORDER_STATUS', 'IS_APPINSTALL', 'FXMARKUP_EXCL_VAT', 'FXMARKUP_REVENUE', 'FXMARKUP_VAT', 'FXMARKUP_CURRENCY', 'PRICE_SOLD_EXCL_FXMARKUP_REVENUE', 'ID_PAYMENT_PARTNER', 'ID_SITE', 'AMOUNT_PAID_WITH_WALLET', 'ONE_CLICK_PAYMENT', 'CARD_BRAND', 'ID_PRODUCT_NEXT_DEPOSIT', 'ID_WAREHOUSE_SEND_IN', 'IS_VDC_PLUS', 'ORDER_MARKETING_CHANNEL2', 'IS_HOT_SUPPLY', 'IS_HOT_SUPPLY_PREVIOUS', 'IS_EVERGREEN_SUPPLY', 'ASSORTMENT_SCORE', 'FLAG_SOLD_MMAO', 'NO_IMPORT_EXPORT', 'SELLER_BADGE', 'GMV_EXCL_VAT', 'FULFILLMENT_GMV', 'FULFILLMENT_REVENUE', 'CURRENCY_CHANGE', 'ID_PRICE_RANGE_SOLD_3', 'BUSINESS_UNIT', 'FLAG_PRICE_DROP', 'IS_LOVED_AUTO', 'ORDER_SOURCE_CITY', 'ORDER_DESTINATION_CITY', 'MARKETPLACE_REVENUE', 'IS_PICKUP_SELECTED', 'FLAG_PICKUP_CHECKOUT', 'FLAG_EXCLUDE_ORDER', 'SALES_TAX_VALUE', 'PC2_BUSINESS_UNIT', 'FLAG_USER_HAD_MYSIZE_SETUP', 'SHIPPING_REVENUE', 'DUTIES_REVENUE', 'BUYER_FEE_REVENUE', 'VOUCHER_REVENUE', 'RANK_BUYER_ORDER', 'ID_ORDER_PREVIOUS_ORDER', 'DATE_INVOICE_PREVIOUS_ORDER', 'BUYER_TYPE', 'FLAG_FRAUD', 'FLAG_EXCLUSION_BPERF', 'REVENUE_BUSINESS_MODEL', 'BUYER_RECEIVABLES', 'REVENUE_ENTITY', 'SELLER_REVENUE_PAYMENT_DATE', 'AUSTRALIAN_VAT_EUR', 'AUSTRALIAN_VAT_AUD', 'UNITED_KINGDOM_IMPORT_VAT_EUR', 'UNITED_KINGDOM_IMPORT_VAT_GBP', 'MARKETPLACE_REVENUE_PAYMENT_DATE_EXCL_VAT', 'MARKETPLACE_REVENUE_PAYMENT_DATE_INCL_VAT', 'MARKETPLACE_REVENUE_PAYMENT_DATE', 'VAT_COUNTRY_SHIPPING', 'VAT_COUNTRY_SELLER_FEE', 'VAT_COUNTRY_DUTIES', 'VAT_COUNTRY_BUYER_FEE', 'FLAG_BUG_SALE', 'VAT_RATE_SHIPPING_FEE', 'VAT_RATE_SELLER_FEE', 'VAT_RATE_DUTIES', 'VAT_RATE_BUYER_FEE', 'ORDER_UTM_CAMPAIGN_NON_PERSISTENT', 'ORDER_UTM_MEDIUM_NON_PERSISTENT', 'ORDER_UTM_SOURCE_NON_PERSISTENT', 'ORDER_MARKETING_CHANNEL_NON_PERSISTENT', 'ORDER_UTM_CAMPAIGN_30D_PERSISTENT', 'ORDER_UTM_MEDIUM_30D_PERSISTENT', 'ORDER_UTM_SOURCE_30D_DAYS_PERSISTENT', 'ORDER_MARKETING_CHANNEL_30D_PERSISTENT']\n"
     ]
    }
   ],
   "source": [
    "print(column_names)"
   ]
  },
  {
   "cell_type": "code",
   "execution_count": 41,
   "metadata": {},
   "outputs": [],
   "source": [
    "def convert_to_ymd(date_string):\n",
    "    try:\n",
    "        datetime_obj = datetime.strptime(date_string, \"%Y-%m-%dT%H:%M:%SZ\")\n",
    "        formatted_date = datetime_obj.strftime(\"%Y-%m-%d\")\n",
    "        return formatted_date\n",
    "    except ValueError:\n",
    "        return date_string"
   ]
  },
  {
   "cell_type": "code",
   "execution_count": 42,
   "metadata": {},
   "outputs": [],
   "source": [
    "df3['REFRESHEDAT']=df3['REFRESHEDAT'].apply(convert_to_ymd)"
   ]
  },
  {
   "cell_type": "code",
   "execution_count": 43,
   "metadata": {},
   "outputs": [],
   "source": [
    "columns_to_delete =[ 'ID_PAYMENT_TYPE', 'PAYMENT_TYPE', 'ID_MATERIAL', 'ID_MATERIAL_TYPE', 'PHOTO_SMALL']\n",
    "df3=df3.drop(columns=columns_to_delete)"
   ]
  },
  {
   "cell_type": "code",
   "execution_count": 44,
   "metadata": {},
   "outputs": [
    {
     "data": {
      "text/html": [
       "<div>\n",
       "<style scoped>\n",
       "    .dataframe tbody tr th:only-of-type {\n",
       "        vertical-align: middle;\n",
       "    }\n",
       "\n",
       "    .dataframe tbody tr th {\n",
       "        vertical-align: top;\n",
       "    }\n",
       "\n",
       "    .dataframe thead th {\n",
       "        text-align: right;\n",
       "    }\n",
       "</style>\n",
       "<table border=\"1\" class=\"dataframe\">\n",
       "  <thead>\n",
       "    <tr style=\"text-align: right;\">\n",
       "      <th></th>\n",
       "      <th>REFRESHEDAT</th>\n",
       "      <th>ID_LINE_ORDER</th>\n",
       "      <th>ID_PRODUCT</th>\n",
       "      <th>ID_ORDER</th>\n",
       "      <th>ID_CATEGORY</th>\n",
       "      <th>ID_SUBCATEGORY</th>\n",
       "      <th>ID_BI_CATEGORY</th>\n",
       "      <th>ID_BI_CAT_TREE</th>\n",
       "      <th>ID_BRAND</th>\n",
       "      <th>ID_MODEL</th>\n",
       "      <th>...</th>\n",
       "      <th>VAT_RATE_DUTIES</th>\n",
       "      <th>VAT_RATE_BUYER_FEE</th>\n",
       "      <th>ORDER_UTM_CAMPAIGN_NON_PERSISTENT</th>\n",
       "      <th>ORDER_UTM_MEDIUM_NON_PERSISTENT</th>\n",
       "      <th>ORDER_UTM_SOURCE_NON_PERSISTENT</th>\n",
       "      <th>ORDER_MARKETING_CHANNEL_NON_PERSISTENT</th>\n",
       "      <th>ORDER_UTM_CAMPAIGN_30D_PERSISTENT</th>\n",
       "      <th>ORDER_UTM_MEDIUM_30D_PERSISTENT</th>\n",
       "      <th>ORDER_UTM_SOURCE_30D_DAYS_PERSISTENT</th>\n",
       "      <th>ORDER_MARKETING_CHANNEL_30D_PERSISTENT</th>\n",
       "    </tr>\n",
       "  </thead>\n",
       "  <tbody>\n",
       "    <tr>\n",
       "      <th>0</th>\n",
       "      <td>2023-04-25T05:45:28+02:00</td>\n",
       "      <td>11184660</td>\n",
       "      <td>4318058</td>\n",
       "      <td>18535051</td>\n",
       "      <td>12</td>\n",
       "      <td>137.0</td>\n",
       "      <td>16797</td>\n",
       "      <td>NaN</td>\n",
       "      <td>195</td>\n",
       "      <td>0</td>\n",
       "      <td>...</td>\n",
       "      <td>NaN</td>\n",
       "      <td>NaN</td>\n",
       "      <td>NaN</td>\n",
       "      <td>NaN</td>\n",
       "      <td>NaN</td>\n",
       "      <td>NaN</td>\n",
       "      <td>NaN</td>\n",
       "      <td>NaN</td>\n",
       "      <td>NaN</td>\n",
       "      <td>NaN</td>\n",
       "    </tr>\n",
       "    <tr>\n",
       "      <th>1</th>\n",
       "      <td>2023-04-25T05:45:28+02:00</td>\n",
       "      <td>43120039</td>\n",
       "      <td>28945812</td>\n",
       "      <td>68799972</td>\n",
       "      <td>63</td>\n",
       "      <td>592.0</td>\n",
       "      <td>63865</td>\n",
       "      <td>1507.0</td>\n",
       "      <td>14</td>\n",
       "      <td>86</td>\n",
       "      <td>...</td>\n",
       "      <td>0.0</td>\n",
       "      <td>0.0</td>\n",
       "      <td>mmao_prompt_to_likers_cc_push_new</td>\n",
       "      <td>push</td>\n",
       "      <td>vestiairecollective.com</td>\n",
       "      <td>crm_auto</td>\n",
       "      <td>mmao_prompt_to_likers_cc_push_new</td>\n",
       "      <td>push</td>\n",
       "      <td>vestiairecollective.com</td>\n",
       "      <td>crm_auto</td>\n",
       "    </tr>\n",
       "    <tr>\n",
       "      <th>2</th>\n",
       "      <td>2023-04-25T05:45:28+02:00</td>\n",
       "      <td>39687214</td>\n",
       "      <td>24210440</td>\n",
       "      <td>62433719</td>\n",
       "      <td>13</td>\n",
       "      <td>84.0</td>\n",
       "      <td>14511</td>\n",
       "      <td>1889.0</td>\n",
       "      <td>2935</td>\n",
       "      <td>397</td>\n",
       "      <td>...</td>\n",
       "      <td>NaN</td>\n",
       "      <td>NaN</td>\n",
       "      <td>(not set)</td>\n",
       "      <td>(not set)</td>\n",
       "      <td>(not set)</td>\n",
       "      <td>direct</td>\n",
       "      <td>mmao3_hurrypurchase_tobuyer</td>\n",
       "      <td>email-auto</td>\n",
       "      <td>vestiairecollective.com</td>\n",
       "      <td>crm_auto</td>\n",
       "    </tr>\n",
       "    <tr>\n",
       "      <th>3</th>\n",
       "      <td>2023-04-25T05:45:28+02:00</td>\n",
       "      <td>38760163</td>\n",
       "      <td>24549281</td>\n",
       "      <td>59929312</td>\n",
       "      <td>141</td>\n",
       "      <td>59.0</td>\n",
       "      <td>1460</td>\n",
       "      <td>NaN</td>\n",
       "      <td>2</td>\n",
       "      <td>7883</td>\n",
       "      <td>...</td>\n",
       "      <td>NaN</td>\n",
       "      <td>NaN</td>\n",
       "      <td>alert_new_ins_push</td>\n",
       "      <td>push</td>\n",
       "      <td>vestiairecollective.com</td>\n",
       "      <td>crm_auto</td>\n",
       "      <td>alert_new_ins_push</td>\n",
       "      <td>push</td>\n",
       "      <td>vestiairecollective.com</td>\n",
       "      <td>crm_auto</td>\n",
       "    </tr>\n",
       "    <tr>\n",
       "      <th>4</th>\n",
       "      <td>2023-04-25T05:45:28+02:00</td>\n",
       "      <td>28449850</td>\n",
       "      <td>17025179</td>\n",
       "      <td>42030471</td>\n",
       "      <td>12</td>\n",
       "      <td>39.0</td>\n",
       "      <td>16797</td>\n",
       "      <td>NaN</td>\n",
       "      <td>23</td>\n",
       "      <td>0</td>\n",
       "      <td>...</td>\n",
       "      <td>NaN</td>\n",
       "      <td>NaN</td>\n",
       "      <td>NaN</td>\n",
       "      <td>NaN</td>\n",
       "      <td>NaN</td>\n",
       "      <td>NaN</td>\n",
       "      <td>NaN</td>\n",
       "      <td>NaN</td>\n",
       "      <td>NaN</td>\n",
       "      <td>NaN</td>\n",
       "    </tr>\n",
       "    <tr>\n",
       "      <th>...</th>\n",
       "      <td>...</td>\n",
       "      <td>...</td>\n",
       "      <td>...</td>\n",
       "      <td>...</td>\n",
       "      <td>...</td>\n",
       "      <td>...</td>\n",
       "      <td>...</td>\n",
       "      <td>...</td>\n",
       "      <td>...</td>\n",
       "      <td>...</td>\n",
       "      <td>...</td>\n",
       "      <td>...</td>\n",
       "      <td>...</td>\n",
       "      <td>...</td>\n",
       "      <td>...</td>\n",
       "      <td>...</td>\n",
       "      <td>...</td>\n",
       "      <td>...</td>\n",
       "      <td>...</td>\n",
       "      <td>...</td>\n",
       "      <td>...</td>\n",
       "    </tr>\n",
       "    <tr>\n",
       "      <th>26994</th>\n",
       "      <td>2023-04-25T05:45:28+02:00</td>\n",
       "      <td>22841191</td>\n",
       "      <td>13020633</td>\n",
       "      <td>32658370</td>\n",
       "      <td>63</td>\n",
       "      <td>596.0</td>\n",
       "      <td>63865</td>\n",
       "      <td>1549.0</td>\n",
       "      <td>648</td>\n",
       "      <td>0</td>\n",
       "      <td>...</td>\n",
       "      <td>NaN</td>\n",
       "      <td>NaN</td>\n",
       "      <td>NaN</td>\n",
       "      <td>NaN</td>\n",
       "      <td>NaN</td>\n",
       "      <td>NaN</td>\n",
       "      <td>NaN</td>\n",
       "      <td>NaN</td>\n",
       "      <td>NaN</td>\n",
       "      <td>NaN</td>\n",
       "    </tr>\n",
       "    <tr>\n",
       "      <th>26995</th>\n",
       "      <td>2023-04-25T05:45:28+02:00</td>\n",
       "      <td>33796344</td>\n",
       "      <td>20906763</td>\n",
       "      <td>51760793</td>\n",
       "      <td>14</td>\n",
       "      <td>55.0</td>\n",
       "      <td>14609</td>\n",
       "      <td>NaN</td>\n",
       "      <td>14</td>\n",
       "      <td>0</td>\n",
       "      <td>...</td>\n",
       "      <td>NaN</td>\n",
       "      <td>NaN</td>\n",
       "      <td>NaN</td>\n",
       "      <td>NaN</td>\n",
       "      <td>NaN</td>\n",
       "      <td>NaN</td>\n",
       "      <td>NaN</td>\n",
       "      <td>NaN</td>\n",
       "      <td>NaN</td>\n",
       "      <td>NaN</td>\n",
       "    </tr>\n",
       "    <tr>\n",
       "      <th>26996</th>\n",
       "      <td>2023-04-25T05:45:28+02:00</td>\n",
       "      <td>17825732</td>\n",
       "      <td>9632658</td>\n",
       "      <td>24623167</td>\n",
       "      <td>141</td>\n",
       "      <td>59.0</td>\n",
       "      <td>1460</td>\n",
       "      <td>NaN</td>\n",
       "      <td>10</td>\n",
       "      <td>0</td>\n",
       "      <td>...</td>\n",
       "      <td>NaN</td>\n",
       "      <td>NaN</td>\n",
       "      <td>NaN</td>\n",
       "      <td>NaN</td>\n",
       "      <td>NaN</td>\n",
       "      <td>NaN</td>\n",
       "      <td>NaN</td>\n",
       "      <td>NaN</td>\n",
       "      <td>NaN</td>\n",
       "      <td>NaN</td>\n",
       "    </tr>\n",
       "    <tr>\n",
       "      <th>26997</th>\n",
       "      <td>2023-04-25T05:45:28+02:00</td>\n",
       "      <td>19960876</td>\n",
       "      <td>10836769</td>\n",
       "      <td>27814172</td>\n",
       "      <td>63</td>\n",
       "      <td>595.0</td>\n",
       "      <td>63865</td>\n",
       "      <td>1585.0</td>\n",
       "      <td>6</td>\n",
       "      <td>0</td>\n",
       "      <td>...</td>\n",
       "      <td>NaN</td>\n",
       "      <td>NaN</td>\n",
       "      <td>NaN</td>\n",
       "      <td>NaN</td>\n",
       "      <td>NaN</td>\n",
       "      <td>NaN</td>\n",
       "      <td>NaN</td>\n",
       "      <td>NaN</td>\n",
       "      <td>NaN</td>\n",
       "      <td>NaN</td>\n",
       "    </tr>\n",
       "    <tr>\n",
       "      <th>26998</th>\n",
       "      <td>2023-04-25T05:45:28+02:00</td>\n",
       "      <td>27212038</td>\n",
       "      <td>16256498</td>\n",
       "      <td>38877399</td>\n",
       "      <td>141</td>\n",
       "      <td>59.0</td>\n",
       "      <td>1460</td>\n",
       "      <td>NaN</td>\n",
       "      <td>10</td>\n",
       "      <td>0</td>\n",
       "      <td>...</td>\n",
       "      <td>NaN</td>\n",
       "      <td>NaN</td>\n",
       "      <td>NaN</td>\n",
       "      <td>NaN</td>\n",
       "      <td>NaN</td>\n",
       "      <td>NaN</td>\n",
       "      <td>NaN</td>\n",
       "      <td>NaN</td>\n",
       "      <td>NaN</td>\n",
       "      <td>NaN</td>\n",
       "    </tr>\n",
       "  </tbody>\n",
       "</table>\n",
       "<p>26999 rows × 199 columns</p>\n",
       "</div>"
      ],
      "text/plain": [
       "                     REFRESHEDAT  ID_LINE_ORDER  ID_PRODUCT  ID_ORDER  \\\n",
       "0      2023-04-25T05:45:28+02:00       11184660     4318058  18535051   \n",
       "1      2023-04-25T05:45:28+02:00       43120039    28945812  68799972   \n",
       "2      2023-04-25T05:45:28+02:00       39687214    24210440  62433719   \n",
       "3      2023-04-25T05:45:28+02:00       38760163    24549281  59929312   \n",
       "4      2023-04-25T05:45:28+02:00       28449850    17025179  42030471   \n",
       "...                          ...            ...         ...       ...   \n",
       "26994  2023-04-25T05:45:28+02:00       22841191    13020633  32658370   \n",
       "26995  2023-04-25T05:45:28+02:00       33796344    20906763  51760793   \n",
       "26996  2023-04-25T05:45:28+02:00       17825732     9632658  24623167   \n",
       "26997  2023-04-25T05:45:28+02:00       19960876    10836769  27814172   \n",
       "26998  2023-04-25T05:45:28+02:00       27212038    16256498  38877399   \n",
       "\n",
       "      ID_CATEGORY  ID_SUBCATEGORY  ID_BI_CATEGORY  ID_BI_CAT_TREE  ID_BRAND  \\\n",
       "0              12           137.0           16797             NaN       195   \n",
       "1              63           592.0           63865          1507.0        14   \n",
       "2              13            84.0           14511          1889.0      2935   \n",
       "3             141            59.0            1460             NaN         2   \n",
       "4              12            39.0           16797             NaN        23   \n",
       "...           ...             ...             ...             ...       ...   \n",
       "26994          63           596.0           63865          1549.0       648   \n",
       "26995          14            55.0           14609             NaN        14   \n",
       "26996         141            59.0            1460             NaN        10   \n",
       "26997          63           595.0           63865          1585.0         6   \n",
       "26998         141            59.0            1460             NaN        10   \n",
       "\n",
       "       ID_MODEL  ...  VAT_RATE_DUTIES  VAT_RATE_BUYER_FEE  \\\n",
       "0             0  ...              NaN                 NaN   \n",
       "1            86  ...              0.0                 0.0   \n",
       "2           397  ...              NaN                 NaN   \n",
       "3          7883  ...              NaN                 NaN   \n",
       "4             0  ...              NaN                 NaN   \n",
       "...         ...  ...              ...                 ...   \n",
       "26994         0  ...              NaN                 NaN   \n",
       "26995         0  ...              NaN                 NaN   \n",
       "26996         0  ...              NaN                 NaN   \n",
       "26997         0  ...              NaN                 NaN   \n",
       "26998         0  ...              NaN                 NaN   \n",
       "\n",
       "       ORDER_UTM_CAMPAIGN_NON_PERSISTENT ORDER_UTM_MEDIUM_NON_PERSISTENT  \\\n",
       "0                                    NaN                             NaN   \n",
       "1      mmao_prompt_to_likers_cc_push_new                            push   \n",
       "2                              (not set)                       (not set)   \n",
       "3                     alert_new_ins_push                            push   \n",
       "4                                    NaN                             NaN   \n",
       "...                                  ...                             ...   \n",
       "26994                                NaN                             NaN   \n",
       "26995                                NaN                             NaN   \n",
       "26996                                NaN                             NaN   \n",
       "26997                                NaN                             NaN   \n",
       "26998                                NaN                             NaN   \n",
       "\n",
       "      ORDER_UTM_SOURCE_NON_PERSISTENT ORDER_MARKETING_CHANNEL_NON_PERSISTENT  \\\n",
       "0                                 NaN                                    NaN   \n",
       "1             vestiairecollective.com                               crm_auto   \n",
       "2                           (not set)                                 direct   \n",
       "3             vestiairecollective.com                               crm_auto   \n",
       "4                                 NaN                                    NaN   \n",
       "...                               ...                                    ...   \n",
       "26994                             NaN                                    NaN   \n",
       "26995                             NaN                                    NaN   \n",
       "26996                             NaN                                    NaN   \n",
       "26997                             NaN                                    NaN   \n",
       "26998                             NaN                                    NaN   \n",
       "\n",
       "       ORDER_UTM_CAMPAIGN_30D_PERSISTENT ORDER_UTM_MEDIUM_30D_PERSISTENT  \\\n",
       "0                                    NaN                             NaN   \n",
       "1      mmao_prompt_to_likers_cc_push_new                            push   \n",
       "2            mmao3_hurrypurchase_tobuyer                      email-auto   \n",
       "3                     alert_new_ins_push                            push   \n",
       "4                                    NaN                             NaN   \n",
       "...                                  ...                             ...   \n",
       "26994                                NaN                             NaN   \n",
       "26995                                NaN                             NaN   \n",
       "26996                                NaN                             NaN   \n",
       "26997                                NaN                             NaN   \n",
       "26998                                NaN                             NaN   \n",
       "\n",
       "      ORDER_UTM_SOURCE_30D_DAYS_PERSISTENT  \\\n",
       "0                                      NaN   \n",
       "1                  vestiairecollective.com   \n",
       "2                  vestiairecollective.com   \n",
       "3                  vestiairecollective.com   \n",
       "4                                      NaN   \n",
       "...                                    ...   \n",
       "26994                                  NaN   \n",
       "26995                                  NaN   \n",
       "26996                                  NaN   \n",
       "26997                                  NaN   \n",
       "26998                                  NaN   \n",
       "\n",
       "      ORDER_MARKETING_CHANNEL_30D_PERSISTENT  \n",
       "0                                        NaN  \n",
       "1                                   crm_auto  \n",
       "2                                   crm_auto  \n",
       "3                                   crm_auto  \n",
       "4                                        NaN  \n",
       "...                                      ...  \n",
       "26994                                    NaN  \n",
       "26995                                    NaN  \n",
       "26996                                    NaN  \n",
       "26997                                    NaN  \n",
       "26998                                    NaN  \n",
       "\n",
       "[26999 rows x 199 columns]"
      ]
     },
     "execution_count": 44,
     "metadata": {},
     "output_type": "execute_result"
    }
   ],
   "source": [
    "df3"
   ]
  },
  {
   "attachments": {},
   "cell_type": "markdown",
   "metadata": {},
   "source": [
    "## Fourth Dataset : Country Data "
   ]
  },
  {
   "cell_type": "code",
   "execution_count": 45,
   "metadata": {},
   "outputs": [
    {
     "data": {
      "text/html": [
       "<div>\n",
       "<style scoped>\n",
       "    .dataframe tbody tr th:only-of-type {\n",
       "        vertical-align: middle;\n",
       "    }\n",
       "\n",
       "    .dataframe tbody tr th {\n",
       "        vertical-align: top;\n",
       "    }\n",
       "\n",
       "    .dataframe thead th {\n",
       "        text-align: right;\n",
       "    }\n",
       "</style>\n",
       "<table border=\"1\" class=\"dataframe\">\n",
       "  <thead>\n",
       "    <tr style=\"text-align: right;\">\n",
       "      <th></th>\n",
       "      <th>ID_COUNTRY</th>\n",
       "      <th>REGION</th>\n",
       "      <th>COUNTRY</th>\n",
       "      <th>ID_SITE</th>\n",
       "      <th>ISO3166_2</th>\n",
       "      <th>GEO_1</th>\n",
       "      <th>GEO_2</th>\n",
       "      <th>FINANCIAL_REGIONS</th>\n",
       "      <th>COUNTRY_GA</th>\n",
       "      <th>IS_SCHENGEN</th>\n",
       "      <th>TAX_ZONE</th>\n",
       "      <th>GEO_3</th>\n",
       "      <th>ISO3166_2_ADJUST</th>\n",
       "      <th>GEO_1_BIS</th>\n",
       "      <th>LOCAL_TIMEZONE</th>\n",
       "      <th>LONGITUDE</th>\n",
       "      <th>LATITUDE</th>\n",
       "      <th>PHONE_CODE</th>\n",
       "    </tr>\n",
       "  </thead>\n",
       "  <tbody>\n",
       "    <tr>\n",
       "      <th>0</th>\n",
       "      <td>0</td>\n",
       "      <td>UNKNOWN</td>\n",
       "      <td>UNKNOWN</td>\n",
       "      <td>NaN</td>\n",
       "      <td>NaN</td>\n",
       "      <td>GLOBAL</td>\n",
       "      <td>GLOBAL</td>\n",
       "      <td>UNKNOWN</td>\n",
       "      <td>UNKNOWN</td>\n",
       "      <td>False</td>\n",
       "      <td>UNKNOWN</td>\n",
       "      <td>GLOBAL</td>\n",
       "      <td>NaN</td>\n",
       "      <td>ROW</td>\n",
       "      <td>UTC</td>\n",
       "      <td>NaN</td>\n",
       "      <td>NaN</td>\n",
       "      <td>NaN</td>\n",
       "    </tr>\n",
       "    <tr>\n",
       "      <th>1</th>\n",
       "      <td>112</td>\n",
       "      <td>APAC</td>\n",
       "      <td>Korea (Democratic People’s Republic of)</td>\n",
       "      <td>5.0</td>\n",
       "      <td>KV</td>\n",
       "      <td>APAC</td>\n",
       "      <td>ROAPAC</td>\n",
       "      <td>APAC</td>\n",
       "      <td>North Korea</td>\n",
       "      <td>False</td>\n",
       "      <td>Korea (Democratic People’s Republic of)</td>\n",
       "      <td>ROAPAC</td>\n",
       "      <td>KV</td>\n",
       "      <td>ROW</td>\n",
       "      <td>Asia/Seoul</td>\n",
       "      <td>NaN</td>\n",
       "      <td>NaN</td>\n",
       "      <td>NaN</td>\n",
       "    </tr>\n",
       "    <tr>\n",
       "      <th>2</th>\n",
       "      <td>249</td>\n",
       "      <td>EMEA</td>\n",
       "      <td>Canary Islands</td>\n",
       "      <td>12.0</td>\n",
       "      <td>CS</td>\n",
       "      <td>EMEA</td>\n",
       "      <td>SOE</td>\n",
       "      <td>EMEA</td>\n",
       "      <td>Canary Islands</td>\n",
       "      <td>False</td>\n",
       "      <td>Canary Islands</td>\n",
       "      <td>Spain</td>\n",
       "      <td>IC</td>\n",
       "      <td>EUROPE_2</td>\n",
       "      <td>UTC</td>\n",
       "      <td>NaN</td>\n",
       "      <td>NaN</td>\n",
       "      <td>NaN</td>\n",
       "    </tr>\n",
       "    <tr>\n",
       "      <th>3</th>\n",
       "      <td>151</td>\n",
       "      <td>AMER</td>\n",
       "      <td>Netherlands Antilles</td>\n",
       "      <td>5.0</td>\n",
       "      <td>AN</td>\n",
       "      <td>AMERICAS</td>\n",
       "      <td>ROAMS</td>\n",
       "      <td>AMERICAS</td>\n",
       "      <td>Caribbean Netherlands</td>\n",
       "      <td>False</td>\n",
       "      <td>Netherlands Antilles</td>\n",
       "      <td>ROAMS</td>\n",
       "      <td>AN</td>\n",
       "      <td>ROW</td>\n",
       "      <td>UTC</td>\n",
       "      <td>-69.060087</td>\n",
       "      <td>12.226079</td>\n",
       "      <td>NaN</td>\n",
       "    </tr>\n",
       "    <tr>\n",
       "      <th>4</th>\n",
       "      <td>243</td>\n",
       "      <td>AMER</td>\n",
       "      <td>Saint Barthélemy</td>\n",
       "      <td>5.0</td>\n",
       "      <td>BL</td>\n",
       "      <td>AMERICAS</td>\n",
       "      <td>ROAMS</td>\n",
       "      <td>AMERICAS</td>\n",
       "      <td>St. Barthélemy</td>\n",
       "      <td>False</td>\n",
       "      <td>Saint Barthélemy</td>\n",
       "      <td>ROAMS</td>\n",
       "      <td>BL</td>\n",
       "      <td>ROW</td>\n",
       "      <td>America/St_Barthelemy</td>\n",
       "      <td>NaN</td>\n",
       "      <td>NaN</td>\n",
       "      <td>590.0</td>\n",
       "    </tr>\n",
       "    <tr>\n",
       "      <th>...</th>\n",
       "      <td>...</td>\n",
       "      <td>...</td>\n",
       "      <td>...</td>\n",
       "      <td>...</td>\n",
       "      <td>...</td>\n",
       "      <td>...</td>\n",
       "      <td>...</td>\n",
       "      <td>...</td>\n",
       "      <td>...</td>\n",
       "      <td>...</td>\n",
       "      <td>...</td>\n",
       "      <td>...</td>\n",
       "      <td>...</td>\n",
       "      <td>...</td>\n",
       "      <td>...</td>\n",
       "      <td>...</td>\n",
       "      <td>...</td>\n",
       "      <td>...</td>\n",
       "    </tr>\n",
       "    <tr>\n",
       "      <th>240</th>\n",
       "      <td>127</td>\n",
       "      <td>EMEA</td>\n",
       "      <td>Madagascar</td>\n",
       "      <td>5.0</td>\n",
       "      <td>MG</td>\n",
       "      <td>EMEA</td>\n",
       "      <td>ROE</td>\n",
       "      <td>EMEA</td>\n",
       "      <td>Madagascar</td>\n",
       "      <td>False</td>\n",
       "      <td>Madagascar</td>\n",
       "      <td>ROMEA</td>\n",
       "      <td>MG</td>\n",
       "      <td>ROW</td>\n",
       "      <td>Indian/Antananarivo</td>\n",
       "      <td>46.869107</td>\n",
       "      <td>-18.766947</td>\n",
       "      <td>261.0</td>\n",
       "    </tr>\n",
       "    <tr>\n",
       "      <th>241</th>\n",
       "      <td>63</td>\n",
       "      <td>EMEA</td>\n",
       "      <td>Egypt</td>\n",
       "      <td>5.0</td>\n",
       "      <td>EG</td>\n",
       "      <td>EMEA</td>\n",
       "      <td>ROE</td>\n",
       "      <td>EMEA</td>\n",
       "      <td>Egypt</td>\n",
       "      <td>False</td>\n",
       "      <td>Egypt</td>\n",
       "      <td>ROMEA</td>\n",
       "      <td>EG</td>\n",
       "      <td>ROW</td>\n",
       "      <td>Africa/Cairo</td>\n",
       "      <td>30.802498</td>\n",
       "      <td>26.820553</td>\n",
       "      <td>20.0</td>\n",
       "    </tr>\n",
       "    <tr>\n",
       "      <th>242</th>\n",
       "      <td>128</td>\n",
       "      <td>EMEA</td>\n",
       "      <td>Malawi</td>\n",
       "      <td>5.0</td>\n",
       "      <td>MW</td>\n",
       "      <td>EMEA</td>\n",
       "      <td>ROE</td>\n",
       "      <td>EMEA</td>\n",
       "      <td>Malawi</td>\n",
       "      <td>False</td>\n",
       "      <td>Malawi</td>\n",
       "      <td>ROMEA</td>\n",
       "      <td>MW</td>\n",
       "      <td>ROW</td>\n",
       "      <td>Africa/Blantyre</td>\n",
       "      <td>34.301525</td>\n",
       "      <td>-13.254308</td>\n",
       "      <td>265.0</td>\n",
       "    </tr>\n",
       "    <tr>\n",
       "      <th>243</th>\n",
       "      <td>192</td>\n",
       "      <td>EMEA</td>\n",
       "      <td>Somalia</td>\n",
       "      <td>5.0</td>\n",
       "      <td>SO</td>\n",
       "      <td>EMEA</td>\n",
       "      <td>ROE</td>\n",
       "      <td>EMEA</td>\n",
       "      <td>Somalia</td>\n",
       "      <td>False</td>\n",
       "      <td>Somalia</td>\n",
       "      <td>ROMEA</td>\n",
       "      <td>SO</td>\n",
       "      <td>ROW</td>\n",
       "      <td>Africa/Mogadishu</td>\n",
       "      <td>46.199616</td>\n",
       "      <td>5.152149</td>\n",
       "      <td>252.0</td>\n",
       "    </tr>\n",
       "    <tr>\n",
       "      <th>244</th>\n",
       "      <td>225</td>\n",
       "      <td>AMER</td>\n",
       "      <td>Uruguay</td>\n",
       "      <td>5.0</td>\n",
       "      <td>UY</td>\n",
       "      <td>AMERICAS</td>\n",
       "      <td>ROAMS</td>\n",
       "      <td>AMERICAS</td>\n",
       "      <td>Uruguay</td>\n",
       "      <td>False</td>\n",
       "      <td>Uruguay</td>\n",
       "      <td>ROAMS</td>\n",
       "      <td>UY</td>\n",
       "      <td>ROW</td>\n",
       "      <td>America/Montevideo</td>\n",
       "      <td>-55.765835</td>\n",
       "      <td>-32.522779</td>\n",
       "      <td>598.0</td>\n",
       "    </tr>\n",
       "  </tbody>\n",
       "</table>\n",
       "<p>245 rows × 18 columns</p>\n",
       "</div>"
      ],
      "text/plain": [
       "     ID_COUNTRY   REGION                                  COUNTRY  ID_SITE  \\\n",
       "0             0  UNKNOWN                                  UNKNOWN      NaN   \n",
       "1           112     APAC  Korea (Democratic People’s Republic of)      5.0   \n",
       "2           249     EMEA                           Canary Islands     12.0   \n",
       "3           151     AMER                     Netherlands Antilles      5.0   \n",
       "4           243     AMER                         Saint Barthélemy      5.0   \n",
       "..          ...      ...                                      ...      ...   \n",
       "240         127     EMEA                               Madagascar      5.0   \n",
       "241          63     EMEA                                    Egypt      5.0   \n",
       "242         128     EMEA                                   Malawi      5.0   \n",
       "243         192     EMEA                                  Somalia      5.0   \n",
       "244         225     AMER                                  Uruguay      5.0   \n",
       "\n",
       "    ISO3166_2     GEO_1   GEO_2 FINANCIAL_REGIONS             COUNTRY_GA  \\\n",
       "0         NaN    GLOBAL  GLOBAL           UNKNOWN                UNKNOWN   \n",
       "1          KV      APAC  ROAPAC              APAC            North Korea   \n",
       "2          CS      EMEA     SOE              EMEA         Canary Islands   \n",
       "3          AN  AMERICAS   ROAMS          AMERICAS  Caribbean Netherlands   \n",
       "4          BL  AMERICAS   ROAMS          AMERICAS         St. Barthélemy   \n",
       "..        ...       ...     ...               ...                    ...   \n",
       "240        MG      EMEA     ROE              EMEA             Madagascar   \n",
       "241        EG      EMEA     ROE              EMEA                  Egypt   \n",
       "242        MW      EMEA     ROE              EMEA                 Malawi   \n",
       "243        SO      EMEA     ROE              EMEA                Somalia   \n",
       "244        UY  AMERICAS   ROAMS          AMERICAS                Uruguay   \n",
       "\n",
       "     IS_SCHENGEN                                 TAX_ZONE   GEO_3  \\\n",
       "0          False                                  UNKNOWN  GLOBAL   \n",
       "1          False  Korea (Democratic People’s Republic of)  ROAPAC   \n",
       "2          False                           Canary Islands   Spain   \n",
       "3          False                     Netherlands Antilles   ROAMS   \n",
       "4          False                         Saint Barthélemy   ROAMS   \n",
       "..           ...                                      ...     ...   \n",
       "240        False                               Madagascar   ROMEA   \n",
       "241        False                                    Egypt   ROMEA   \n",
       "242        False                                   Malawi   ROMEA   \n",
       "243        False                                  Somalia   ROMEA   \n",
       "244        False                                  Uruguay   ROAMS   \n",
       "\n",
       "    ISO3166_2_ADJUST GEO_1_BIS         LOCAL_TIMEZONE  LONGITUDE   LATITUDE  \\\n",
       "0                NaN       ROW                    UTC        NaN        NaN   \n",
       "1                 KV       ROW             Asia/Seoul        NaN        NaN   \n",
       "2                 IC  EUROPE_2                    UTC        NaN        NaN   \n",
       "3                 AN       ROW                    UTC -69.060087  12.226079   \n",
       "4                 BL       ROW  America/St_Barthelemy        NaN        NaN   \n",
       "..               ...       ...                    ...        ...        ...   \n",
       "240               MG       ROW    Indian/Antananarivo  46.869107 -18.766947   \n",
       "241               EG       ROW           Africa/Cairo  30.802498  26.820553   \n",
       "242               MW       ROW        Africa/Blantyre  34.301525 -13.254308   \n",
       "243               SO       ROW       Africa/Mogadishu  46.199616   5.152149   \n",
       "244               UY       ROW     America/Montevideo -55.765835 -32.522779   \n",
       "\n",
       "     PHONE_CODE  \n",
       "0           NaN  \n",
       "1           NaN  \n",
       "2           NaN  \n",
       "3           NaN  \n",
       "4         590.0  \n",
       "..          ...  \n",
       "240       261.0  \n",
       "241        20.0  \n",
       "242       265.0  \n",
       "243       252.0  \n",
       "244       598.0  \n",
       "\n",
       "[245 rows x 18 columns]"
      ]
     },
     "execution_count": 45,
     "metadata": {},
     "output_type": "execute_result"
    }
   ],
   "source": [
    "df4=pd.read_csv('/Users/leenaomrani/Desktop/vestiaire_case/Dataset 3/DIM_VC_GEO_COUNTRY.csv')\n",
    "df4"
   ]
  },
  {
   "cell_type": "code",
   "execution_count": 46,
   "metadata": {},
   "outputs": [
    {
     "name": "stdout",
     "output_type": "stream",
     "text": [
      "                     REFRESHEDAT  ID_LINE_ORDER  ID_PRODUCT  ID_ORDER  \\\n",
      "0      2023-04-25T05:45:28+02:00       11184660     4318058  18535051   \n",
      "1      2023-04-25T05:45:28+02:00       28449850    17025179  42030471   \n",
      "2      2023-04-25T05:45:28+02:00       45317965    30597272  72823202   \n",
      "3      2023-04-25T05:45:28+02:00       47110399    29584850  75852681   \n",
      "4      2023-04-25T05:45:28+02:00       17300623     9253777  24407099   \n",
      "...                          ...            ...         ...       ...   \n",
      "26994  2023-04-25T05:45:28+02:00       21065349     9699419  30424825   \n",
      "26995  2023-04-25T05:45:28+02:00       43531939    29034495  69254117   \n",
      "26996  2023-04-25T05:45:28+02:00        2107137     1133065  13720533   \n",
      "26997  2023-04-25T05:45:28+02:00        5673328     1767589  16966623   \n",
      "26998  2023-04-25T05:45:28+02:00        7098548     1839965  17417690   \n",
      "\n",
      "      ID_CATEGORY  ID_SUBCATEGORY  ID_BI_CATEGORY  ID_BI_CAT_TREE  ID_BRAND  \\\n",
      "0              12           137.0           16797             NaN       195   \n",
      "1              12            39.0           16797             NaN        23   \n",
      "2             141            59.0            1460             NaN        99   \n",
      "3              13           511.0           14511             NaN         9   \n",
      "4             141            59.0            1460             NaN       252   \n",
      "...           ...             ...             ...             ...       ...   \n",
      "26994          12            39.0            2480             NaN      5495   \n",
      "26995          13           507.0            2662           652.0         2   \n",
      "26996          13           510.0           14511          1752.0        60   \n",
      "26997          13           511.0           14511             NaN        58   \n",
      "26998          63           598.0           63865          1525.0        50   \n",
      "\n",
      "       ID_MODEL  ...  COUNTRY_GA  IS_SCHENGEN  TAX_ZONE           GEO_3  \\\n",
      "0             0  ...      France         True    Europe          France   \n",
      "1             0  ...      France         True    Europe          France   \n",
      "2          3950  ...      France         True    Europe          France   \n",
      "3             0  ...      France         True    Europe          France   \n",
      "4             0  ...      France         True    Europe          France   \n",
      "...         ...  ...         ...          ...       ...             ...   \n",
      "26994         0  ...    Thailand        False  Thailand           ROSEA   \n",
      "26995         0  ...    Thailand        False  Thailand           ROSEA   \n",
      "26996         0  ...      Jersey        False    Jersey  United Kingdom   \n",
      "26997         0  ...      Jersey        False    Jersey  United Kingdom   \n",
      "26998         0  ...      Jersey        False    Jersey  United Kingdom   \n",
      "\n",
      "      ISO3166_2_ADJUST GEO_1_BIS LOCAL_TIMEZONE   LONGITUDE   LATITUDE  \\\n",
      "0                   FR  EUROPE_1   Europe/Paris    2.213749  46.227638   \n",
      "1                   FR  EUROPE_1   Europe/Paris    2.213749  46.227638   \n",
      "2                   FR  EUROPE_1   Europe/Paris    2.213749  46.227638   \n",
      "3                   FR  EUROPE_1   Europe/Paris    2.213749  46.227638   \n",
      "4                   FR  EUROPE_1   Europe/Paris    2.213749  46.227638   \n",
      "...                ...       ...            ...         ...        ...   \n",
      "26994               TH       ROW   Asia/Bangkok  100.992541  15.870032   \n",
      "26995               TH       ROW   Asia/Bangkok  100.992541  15.870032   \n",
      "26996               JE  EUROPE_1  Europe/Jersey   -2.131250  49.214439   \n",
      "26997               JE  EUROPE_1  Europe/Jersey   -2.131250  49.214439   \n",
      "26998               JE  EUROPE_1  Europe/Jersey   -2.131250  49.214439   \n",
      "\n",
      "      PHONE_CODE  \n",
      "0           33.0  \n",
      "1           33.0  \n",
      "2           33.0  \n",
      "3           33.0  \n",
      "4           33.0  \n",
      "...          ...  \n",
      "26994       66.0  \n",
      "26995       66.0  \n",
      "26996       44.0  \n",
      "26997       44.0  \n",
      "26998       44.0  \n",
      "\n",
      "[26999 rows x 217 columns]\n"
     ]
    }
   ],
   "source": [
    "merged_df = pd.merge(df3, df4, left_on='ID_COUNTRY_DES', right_on='ID_COUNTRY')\n",
    "\n",
    "# Print the merged DataFrame\n",
    "print(merged_df)"
   ]
  },
  {
   "cell_type": "code",
   "execution_count": 47,
   "metadata": {},
   "outputs": [
    {
     "name": "stderr",
     "output_type": "stream",
     "text": [
      "/opt/anaconda3/lib/python3.9/site-packages/IPython/core/interactiveshell.py:3444: DtypeWarning: Columns (44,45) have mixed types.Specify dtype option on import or set low_memory=False.\n",
      "  exec(code_obj, self.user_global_ns, self.user_ns)\n"
     ]
    },
    {
     "data": {
      "text/html": [
       "<div>\n",
       "<style scoped>\n",
       "    .dataframe tbody tr th:only-of-type {\n",
       "        vertical-align: middle;\n",
       "    }\n",
       "\n",
       "    .dataframe tbody tr th {\n",
       "        vertical-align: top;\n",
       "    }\n",
       "\n",
       "    .dataframe thead th {\n",
       "        text-align: right;\n",
       "    }\n",
       "</style>\n",
       "<table border=\"1\" class=\"dataframe\">\n",
       "  <thead>\n",
       "    <tr style=\"text-align: right;\">\n",
       "      <th></th>\n",
       "      <th>Unnamed: 0</th>\n",
       "      <th>ID_CUSTOMER</th>\n",
       "      <th>ID_GENDER</th>\n",
       "      <th>DATE_NEW_BUYER</th>\n",
       "      <th>DATE_NEW_SELLER</th>\n",
       "      <th>DATE_CREATION</th>\n",
       "      <th>DATE_INACTIVE</th>\n",
       "      <th>DATE_LAST_LOGIN</th>\n",
       "      <th>ID_COUNTRY</th>\n",
       "      <th>DEVICE_BRAND</th>\n",
       "      <th>...</th>\n",
       "      <th>COUNTRY_GA</th>\n",
       "      <th>IS_SCHENGEN</th>\n",
       "      <th>TAX_ZONE</th>\n",
       "      <th>GEO_3</th>\n",
       "      <th>ISO3166_2_ADJUST</th>\n",
       "      <th>GEO_1_BIS</th>\n",
       "      <th>LOCAL_TIMEZONE</th>\n",
       "      <th>LONGITUDE</th>\n",
       "      <th>LATITUDE</th>\n",
       "      <th>PHONE_CODE</th>\n",
       "    </tr>\n",
       "  </thead>\n",
       "  <tbody>\n",
       "    <tr>\n",
       "      <th>0</th>\n",
       "      <td>0</td>\n",
       "      <td>17257021</td>\n",
       "      <td>2</td>\n",
       "      <td>NaN</td>\n",
       "      <td>NaN</td>\n",
       "      <td>2022-06-27T16:52:12Z</td>\n",
       "      <td>NaN</td>\n",
       "      <td>2022-06-27T16:52:13Z</td>\n",
       "      <td>74</td>\n",
       "      <td>other</td>\n",
       "      <td>...</td>\n",
       "      <td>France</td>\n",
       "      <td>True</td>\n",
       "      <td>Europe</td>\n",
       "      <td>France</td>\n",
       "      <td>FR</td>\n",
       "      <td>EUROPE_1</td>\n",
       "      <td>Europe/Paris</td>\n",
       "      <td>2.213749</td>\n",
       "      <td>46.227638</td>\n",
       "      <td>33.0</td>\n",
       "    </tr>\n",
       "    <tr>\n",
       "      <th>1</th>\n",
       "      <td>1</td>\n",
       "      <td>14268557</td>\n",
       "      <td>0</td>\n",
       "      <td>NaN</td>\n",
       "      <td>NaN</td>\n",
       "      <td>2021-10-21T20:11:19Z</td>\n",
       "      <td>NaN</td>\n",
       "      <td>2021-10-21T20:11:20Z</td>\n",
       "      <td>74</td>\n",
       "      <td>iOS</td>\n",
       "      <td>...</td>\n",
       "      <td>France</td>\n",
       "      <td>True</td>\n",
       "      <td>Europe</td>\n",
       "      <td>France</td>\n",
       "      <td>FR</td>\n",
       "      <td>EUROPE_1</td>\n",
       "      <td>Europe/Paris</td>\n",
       "      <td>2.213749</td>\n",
       "      <td>46.227638</td>\n",
       "      <td>33.0</td>\n",
       "    </tr>\n",
       "    <tr>\n",
       "      <th>2</th>\n",
       "      <td>2</td>\n",
       "      <td>10069713</td>\n",
       "      <td>3</td>\n",
       "      <td>NaN</td>\n",
       "      <td>NaN</td>\n",
       "      <td>2020-07-10T00:02:32Z</td>\n",
       "      <td>NaN</td>\n",
       "      <td>2020-07-10T08:36:25Z</td>\n",
       "      <td>74</td>\n",
       "      <td>iOS</td>\n",
       "      <td>...</td>\n",
       "      <td>France</td>\n",
       "      <td>True</td>\n",
       "      <td>Europe</td>\n",
       "      <td>France</td>\n",
       "      <td>FR</td>\n",
       "      <td>EUROPE_1</td>\n",
       "      <td>Europe/Paris</td>\n",
       "      <td>2.213749</td>\n",
       "      <td>46.227638</td>\n",
       "      <td>33.0</td>\n",
       "    </tr>\n",
       "    <tr>\n",
       "      <th>3</th>\n",
       "      <td>3</td>\n",
       "      <td>7979024</td>\n",
       "      <td>1</td>\n",
       "      <td>2019-01-11 00:00:00</td>\n",
       "      <td>2019-05-12 00:00:00</td>\n",
       "      <td>2019-01-11T11:41:54Z</td>\n",
       "      <td>2019-08-12T14:53:05Z</td>\n",
       "      <td>2019-08-12T14:51:34Z</td>\n",
       "      <td>74</td>\n",
       "      <td>iOS</td>\n",
       "      <td>...</td>\n",
       "      <td>France</td>\n",
       "      <td>True</td>\n",
       "      <td>Europe</td>\n",
       "      <td>France</td>\n",
       "      <td>FR</td>\n",
       "      <td>EUROPE_1</td>\n",
       "      <td>Europe/Paris</td>\n",
       "      <td>2.213749</td>\n",
       "      <td>46.227638</td>\n",
       "      <td>33.0</td>\n",
       "    </tr>\n",
       "    <tr>\n",
       "      <th>4</th>\n",
       "      <td>4</td>\n",
       "      <td>13079091</td>\n",
       "      <td>2</td>\n",
       "      <td>NaN</td>\n",
       "      <td>NaN</td>\n",
       "      <td>2021-06-22T23:16:14Z</td>\n",
       "      <td>NaN</td>\n",
       "      <td>2021-07-13T21:57:36Z</td>\n",
       "      <td>74</td>\n",
       "      <td>iOS</td>\n",
       "      <td>...</td>\n",
       "      <td>France</td>\n",
       "      <td>True</td>\n",
       "      <td>Europe</td>\n",
       "      <td>France</td>\n",
       "      <td>FR</td>\n",
       "      <td>EUROPE_1</td>\n",
       "      <td>Europe/Paris</td>\n",
       "      <td>2.213749</td>\n",
       "      <td>46.227638</td>\n",
       "      <td>33.0</td>\n",
       "    </tr>\n",
       "    <tr>\n",
       "      <th>...</th>\n",
       "      <td>...</td>\n",
       "      <td>...</td>\n",
       "      <td>...</td>\n",
       "      <td>...</td>\n",
       "      <td>...</td>\n",
       "      <td>...</td>\n",
       "      <td>...</td>\n",
       "      <td>...</td>\n",
       "      <td>...</td>\n",
       "      <td>...</td>\n",
       "      <td>...</td>\n",
       "      <td>...</td>\n",
       "      <td>...</td>\n",
       "      <td>...</td>\n",
       "      <td>...</td>\n",
       "      <td>...</td>\n",
       "      <td>...</td>\n",
       "      <td>...</td>\n",
       "      <td>...</td>\n",
       "      <td>...</td>\n",
       "      <td>...</td>\n",
       "    </tr>\n",
       "    <tr>\n",
       "      <th>19935</th>\n",
       "      <td>19935</td>\n",
       "      <td>13117946</td>\n",
       "      <td>2</td>\n",
       "      <td>NaN</td>\n",
       "      <td>NaN</td>\n",
       "      <td>2021-06-27T17:11:56Z</td>\n",
       "      <td>NaN</td>\n",
       "      <td>2021-06-27T17:11:58Z</td>\n",
       "      <td>131</td>\n",
       "      <td>iOS</td>\n",
       "      <td>...</td>\n",
       "      <td>Mali</td>\n",
       "      <td>False</td>\n",
       "      <td>Mali</td>\n",
       "      <td>ROMEA</td>\n",
       "      <td>ML</td>\n",
       "      <td>ROW</td>\n",
       "      <td>Africa/Bamako</td>\n",
       "      <td>-3.996166</td>\n",
       "      <td>17.570692</td>\n",
       "      <td>223.0</td>\n",
       "    </tr>\n",
       "    <tr>\n",
       "      <th>19936</th>\n",
       "      <td>19936</td>\n",
       "      <td>12522847</td>\n",
       "      <td>0</td>\n",
       "      <td>NaN</td>\n",
       "      <td>NaN</td>\n",
       "      <td>2021-05-02T20:31:38Z</td>\n",
       "      <td>NaN</td>\n",
       "      <td>2021-05-02T20:31:40Z</td>\n",
       "      <td>82</td>\n",
       "      <td>iOS</td>\n",
       "      <td>...</td>\n",
       "      <td>Ghana</td>\n",
       "      <td>False</td>\n",
       "      <td>Ghana</td>\n",
       "      <td>ROMEA</td>\n",
       "      <td>GH</td>\n",
       "      <td>ROW</td>\n",
       "      <td>Africa/Accra</td>\n",
       "      <td>-1.023194</td>\n",
       "      <td>7.946527</td>\n",
       "      <td>233.0</td>\n",
       "    </tr>\n",
       "    <tr>\n",
       "      <th>19937</th>\n",
       "      <td>19937</td>\n",
       "      <td>8519671</td>\n",
       "      <td>1</td>\n",
       "      <td>NaN</td>\n",
       "      <td>NaN</td>\n",
       "      <td>2019-06-29T20:49:36Z</td>\n",
       "      <td>NaN</td>\n",
       "      <td>2019-06-29T20:50:31Z</td>\n",
       "      <td>219</td>\n",
       "      <td>other</td>\n",
       "      <td>...</td>\n",
       "      <td>Uganda</td>\n",
       "      <td>False</td>\n",
       "      <td>Uganda</td>\n",
       "      <td>ROMEA</td>\n",
       "      <td>UG</td>\n",
       "      <td>ROW</td>\n",
       "      <td>Africa/Kampala</td>\n",
       "      <td>32.290275</td>\n",
       "      <td>1.373333</td>\n",
       "      <td>256.0</td>\n",
       "    </tr>\n",
       "    <tr>\n",
       "      <th>19938</th>\n",
       "      <td>19938</td>\n",
       "      <td>20925258</td>\n",
       "      <td>2</td>\n",
       "      <td>NaN</td>\n",
       "      <td>NaN</td>\n",
       "      <td>2023-04-22T03:54:27Z</td>\n",
       "      <td>NaN</td>\n",
       "      <td>2023-04-23T00:57:53Z</td>\n",
       "      <td>106</td>\n",
       "      <td>iOS</td>\n",
       "      <td>...</td>\n",
       "      <td>Jamaica</td>\n",
       "      <td>False</td>\n",
       "      <td>Jamaica</td>\n",
       "      <td>ROAMS</td>\n",
       "      <td>JM</td>\n",
       "      <td>ROW</td>\n",
       "      <td>America/Jamaica</td>\n",
       "      <td>-77.297508</td>\n",
       "      <td>18.109581</td>\n",
       "      <td>1876.0</td>\n",
       "    </tr>\n",
       "    <tr>\n",
       "      <th>19939</th>\n",
       "      <td>19939</td>\n",
       "      <td>18515513</td>\n",
       "      <td>2</td>\n",
       "      <td>NaN</td>\n",
       "      <td>NaN</td>\n",
       "      <td>2022-11-09T04:34:27Z</td>\n",
       "      <td>NaN</td>\n",
       "      <td>2023-02-28T02:47:46Z</td>\n",
       "      <td>95</td>\n",
       "      <td>iOS</td>\n",
       "      <td>...</td>\n",
       "      <td>Honduras</td>\n",
       "      <td>False</td>\n",
       "      <td>Honduras</td>\n",
       "      <td>ROAMS</td>\n",
       "      <td>HN</td>\n",
       "      <td>ROW</td>\n",
       "      <td>America/Tegucigalpa</td>\n",
       "      <td>-86.241905</td>\n",
       "      <td>15.199999</td>\n",
       "      <td>504.0</td>\n",
       "    </tr>\n",
       "  </tbody>\n",
       "</table>\n",
       "<p>19940 rows × 127 columns</p>\n",
       "</div>"
      ],
      "text/plain": [
       "       Unnamed: 0  ID_CUSTOMER  ID_GENDER       DATE_NEW_BUYER  \\\n",
       "0               0     17257021          2                  NaN   \n",
       "1               1     14268557          0                  NaN   \n",
       "2               2     10069713          3                  NaN   \n",
       "3               3      7979024          1  2019-01-11 00:00:00   \n",
       "4               4     13079091          2                  NaN   \n",
       "...           ...          ...        ...                  ...   \n",
       "19935       19935     13117946          2                  NaN   \n",
       "19936       19936     12522847          0                  NaN   \n",
       "19937       19937      8519671          1                  NaN   \n",
       "19938       19938     20925258          2                  NaN   \n",
       "19939       19939     18515513          2                  NaN   \n",
       "\n",
       "           DATE_NEW_SELLER         DATE_CREATION         DATE_INACTIVE  \\\n",
       "0                      NaN  2022-06-27T16:52:12Z                   NaN   \n",
       "1                      NaN  2021-10-21T20:11:19Z                   NaN   \n",
       "2                      NaN  2020-07-10T00:02:32Z                   NaN   \n",
       "3      2019-05-12 00:00:00  2019-01-11T11:41:54Z  2019-08-12T14:53:05Z   \n",
       "4                      NaN  2021-06-22T23:16:14Z                   NaN   \n",
       "...                    ...                   ...                   ...   \n",
       "19935                  NaN  2021-06-27T17:11:56Z                   NaN   \n",
       "19936                  NaN  2021-05-02T20:31:38Z                   NaN   \n",
       "19937                  NaN  2019-06-29T20:49:36Z                   NaN   \n",
       "19938                  NaN  2023-04-22T03:54:27Z                   NaN   \n",
       "19939                  NaN  2022-11-09T04:34:27Z                   NaN   \n",
       "\n",
       "            DATE_LAST_LOGIN  ID_COUNTRY DEVICE_BRAND  ... COUNTRY_GA  \\\n",
       "0      2022-06-27T16:52:13Z          74        other  ...     France   \n",
       "1      2021-10-21T20:11:20Z          74          iOS  ...     France   \n",
       "2      2020-07-10T08:36:25Z          74          iOS  ...     France   \n",
       "3      2019-08-12T14:51:34Z          74          iOS  ...     France   \n",
       "4      2021-07-13T21:57:36Z          74          iOS  ...     France   \n",
       "...                     ...         ...          ...  ...        ...   \n",
       "19935  2021-06-27T17:11:58Z         131          iOS  ...       Mali   \n",
       "19936  2021-05-02T20:31:40Z          82          iOS  ...      Ghana   \n",
       "19937  2019-06-29T20:50:31Z         219        other  ...     Uganda   \n",
       "19938  2023-04-23T00:57:53Z         106          iOS  ...    Jamaica   \n",
       "19939  2023-02-28T02:47:46Z          95          iOS  ...   Honduras   \n",
       "\n",
       "      IS_SCHENGEN  TAX_ZONE   GEO_3  ISO3166_2_ADJUST  GEO_1_BIS  \\\n",
       "0            True    Europe  France                FR   EUROPE_1   \n",
       "1            True    Europe  France                FR   EUROPE_1   \n",
       "2            True    Europe  France                FR   EUROPE_1   \n",
       "3            True    Europe  France                FR   EUROPE_1   \n",
       "4            True    Europe  France                FR   EUROPE_1   \n",
       "...           ...       ...     ...               ...        ...   \n",
       "19935       False      Mali   ROMEA                ML        ROW   \n",
       "19936       False     Ghana   ROMEA                GH        ROW   \n",
       "19937       False    Uganda   ROMEA                UG        ROW   \n",
       "19938       False   Jamaica   ROAMS                JM        ROW   \n",
       "19939       False  Honduras   ROAMS                HN        ROW   \n",
       "\n",
       "            LOCAL_TIMEZONE  LONGITUDE   LATITUDE  PHONE_CODE  \n",
       "0             Europe/Paris   2.213749  46.227638        33.0  \n",
       "1             Europe/Paris   2.213749  46.227638        33.0  \n",
       "2             Europe/Paris   2.213749  46.227638        33.0  \n",
       "3             Europe/Paris   2.213749  46.227638        33.0  \n",
       "4             Europe/Paris   2.213749  46.227638        33.0  \n",
       "...                    ...        ...        ...         ...  \n",
       "19935        Africa/Bamako  -3.996166  17.570692       223.0  \n",
       "19936         Africa/Accra  -1.023194   7.946527       233.0  \n",
       "19937       Africa/Kampala  32.290275   1.373333       256.0  \n",
       "19938      America/Jamaica -77.297508  18.109581      1876.0  \n",
       "19939  America/Tegucigalpa -86.241905  15.199999       504.0  \n",
       "\n",
       "[19940 rows x 127 columns]"
      ]
     },
     "execution_count": 47,
     "metadata": {},
     "output_type": "execute_result"
    }
   ],
   "source": [
    "MERGED_DF=pd.read_csv('/Users/leenaomrani/Desktop/vestiaire_case/csv_files/merged_df.csv')\n",
    "MERGED_DF"
   ]
  },
  {
   "cell_type": "code",
   "execution_count": 48,
   "metadata": {},
   "outputs": [
    {
     "data": {
      "text/plain": [
       "<bound method IndexOpsMixin.tolist of Index(['REFRESHEDAT', 'ID_LINE_ORDER', 'ID_PRODUCT', 'ID_ORDER', 'ID_CATEGORY',\n",
       "       'ID_SUBCATEGORY', 'ID_BI_CATEGORY', 'ID_BI_CAT_TREE', 'ID_BRAND',\n",
       "       'ID_MODEL',\n",
       "       ...\n",
       "       'COUNTRY_GA', 'IS_SCHENGEN', 'TAX_ZONE', 'GEO_3', 'ISO3166_2_ADJUST',\n",
       "       'GEO_1_BIS', 'LOCAL_TIMEZONE', 'LONGITUDE', 'LATITUDE', 'PHONE_CODE'],\n",
       "      dtype='object', length=217)>"
      ]
     },
     "execution_count": 48,
     "metadata": {},
     "output_type": "execute_result"
    }
   ],
   "source": [
    "merged_df.columns.to_list"
   ]
  },
  {
   "cell_type": "code",
   "execution_count": 49,
   "metadata": {},
   "outputs": [
    {
     "name": "stdout",
     "output_type": "stream",
     "text": [
      "       ID_COUNTRY  ID_COUNTRY_DES\n",
      "0              74              74\n",
      "1              74              74\n",
      "2              74              74\n",
      "3              74              74\n",
      "4              74              74\n",
      "...           ...             ...\n",
      "26994         209             209\n",
      "26995         209             209\n",
      "26996         245             245\n",
      "26997         245             245\n",
      "26998         245             245\n",
      "\n",
      "[26999 rows x 2 columns]\n"
     ]
    }
   ],
   "source": [
    "selected_columns=['ID_COUNTRY','ID_COUNTRY_DES']\n",
    "\n",
    "print(merged_df[selected_columns])"
   ]
  },
  {
   "cell_type": "code",
   "execution_count": 50,
   "metadata": {},
   "outputs": [
    {
     "data": {
      "text/html": [
       "<div>\n",
       "<style scoped>\n",
       "    .dataframe tbody tr th:only-of-type {\n",
       "        vertical-align: middle;\n",
       "    }\n",
       "\n",
       "    .dataframe tbody tr th {\n",
       "        vertical-align: top;\n",
       "    }\n",
       "\n",
       "    .dataframe thead th {\n",
       "        text-align: right;\n",
       "    }\n",
       "</style>\n",
       "<table border=\"1\" class=\"dataframe\">\n",
       "  <thead>\n",
       "    <tr style=\"text-align: right;\">\n",
       "      <th></th>\n",
       "      <th>REFRESHEDAT</th>\n",
       "      <th>ID_LINE_ORDER</th>\n",
       "      <th>ID_PRODUCT</th>\n",
       "      <th>ID_ORDER</th>\n",
       "      <th>ID_CATEGORY</th>\n",
       "      <th>ID_SUBCATEGORY</th>\n",
       "      <th>ID_BI_CATEGORY</th>\n",
       "      <th>ID_BI_CAT_TREE</th>\n",
       "      <th>ID_BRAND</th>\n",
       "      <th>ID_MODEL</th>\n",
       "      <th>...</th>\n",
       "      <th>COUNTRY_GA</th>\n",
       "      <th>IS_SCHENGEN</th>\n",
       "      <th>TAX_ZONE</th>\n",
       "      <th>GEO_3</th>\n",
       "      <th>ISO3166_2_ADJUST</th>\n",
       "      <th>GEO_1_BIS</th>\n",
       "      <th>LOCAL_TIMEZONE</th>\n",
       "      <th>LONGITUDE</th>\n",
       "      <th>LATITUDE</th>\n",
       "      <th>PHONE_CODE</th>\n",
       "    </tr>\n",
       "  </thead>\n",
       "  <tbody>\n",
       "    <tr>\n",
       "      <th>0</th>\n",
       "      <td>2023-04-25T05:45:28+02:00</td>\n",
       "      <td>11184660</td>\n",
       "      <td>4318058</td>\n",
       "      <td>18535051</td>\n",
       "      <td>12</td>\n",
       "      <td>137.0</td>\n",
       "      <td>16797</td>\n",
       "      <td>NaN</td>\n",
       "      <td>195</td>\n",
       "      <td>0</td>\n",
       "      <td>...</td>\n",
       "      <td>France</td>\n",
       "      <td>True</td>\n",
       "      <td>Europe</td>\n",
       "      <td>France</td>\n",
       "      <td>FR</td>\n",
       "      <td>EUROPE_1</td>\n",
       "      <td>Europe/Paris</td>\n",
       "      <td>2.213749</td>\n",
       "      <td>46.227638</td>\n",
       "      <td>33.0</td>\n",
       "    </tr>\n",
       "    <tr>\n",
       "      <th>1</th>\n",
       "      <td>2023-04-25T05:45:28+02:00</td>\n",
       "      <td>28449850</td>\n",
       "      <td>17025179</td>\n",
       "      <td>42030471</td>\n",
       "      <td>12</td>\n",
       "      <td>39.0</td>\n",
       "      <td>16797</td>\n",
       "      <td>NaN</td>\n",
       "      <td>23</td>\n",
       "      <td>0</td>\n",
       "      <td>...</td>\n",
       "      <td>France</td>\n",
       "      <td>True</td>\n",
       "      <td>Europe</td>\n",
       "      <td>France</td>\n",
       "      <td>FR</td>\n",
       "      <td>EUROPE_1</td>\n",
       "      <td>Europe/Paris</td>\n",
       "      <td>2.213749</td>\n",
       "      <td>46.227638</td>\n",
       "      <td>33.0</td>\n",
       "    </tr>\n",
       "    <tr>\n",
       "      <th>2</th>\n",
       "      <td>2023-04-25T05:45:28+02:00</td>\n",
       "      <td>45317965</td>\n",
       "      <td>30597272</td>\n",
       "      <td>72823202</td>\n",
       "      <td>141</td>\n",
       "      <td>59.0</td>\n",
       "      <td>1460</td>\n",
       "      <td>NaN</td>\n",
       "      <td>99</td>\n",
       "      <td>3950</td>\n",
       "      <td>...</td>\n",
       "      <td>France</td>\n",
       "      <td>True</td>\n",
       "      <td>Europe</td>\n",
       "      <td>France</td>\n",
       "      <td>FR</td>\n",
       "      <td>EUROPE_1</td>\n",
       "      <td>Europe/Paris</td>\n",
       "      <td>2.213749</td>\n",
       "      <td>46.227638</td>\n",
       "      <td>33.0</td>\n",
       "    </tr>\n",
       "    <tr>\n",
       "      <th>3</th>\n",
       "      <td>2023-04-25T05:45:28+02:00</td>\n",
       "      <td>47110399</td>\n",
       "      <td>29584850</td>\n",
       "      <td>75852681</td>\n",
       "      <td>13</td>\n",
       "      <td>511.0</td>\n",
       "      <td>14511</td>\n",
       "      <td>NaN</td>\n",
       "      <td>9</td>\n",
       "      <td>0</td>\n",
       "      <td>...</td>\n",
       "      <td>France</td>\n",
       "      <td>True</td>\n",
       "      <td>Europe</td>\n",
       "      <td>France</td>\n",
       "      <td>FR</td>\n",
       "      <td>EUROPE_1</td>\n",
       "      <td>Europe/Paris</td>\n",
       "      <td>2.213749</td>\n",
       "      <td>46.227638</td>\n",
       "      <td>33.0</td>\n",
       "    </tr>\n",
       "    <tr>\n",
       "      <th>4</th>\n",
       "      <td>2023-04-25T05:45:28+02:00</td>\n",
       "      <td>17300623</td>\n",
       "      <td>9253777</td>\n",
       "      <td>24407099</td>\n",
       "      <td>141</td>\n",
       "      <td>59.0</td>\n",
       "      <td>1460</td>\n",
       "      <td>NaN</td>\n",
       "      <td>252</td>\n",
       "      <td>0</td>\n",
       "      <td>...</td>\n",
       "      <td>France</td>\n",
       "      <td>True</td>\n",
       "      <td>Europe</td>\n",
       "      <td>France</td>\n",
       "      <td>FR</td>\n",
       "      <td>EUROPE_1</td>\n",
       "      <td>Europe/Paris</td>\n",
       "      <td>2.213749</td>\n",
       "      <td>46.227638</td>\n",
       "      <td>33.0</td>\n",
       "    </tr>\n",
       "    <tr>\n",
       "      <th>...</th>\n",
       "      <td>...</td>\n",
       "      <td>...</td>\n",
       "      <td>...</td>\n",
       "      <td>...</td>\n",
       "      <td>...</td>\n",
       "      <td>...</td>\n",
       "      <td>...</td>\n",
       "      <td>...</td>\n",
       "      <td>...</td>\n",
       "      <td>...</td>\n",
       "      <td>...</td>\n",
       "      <td>...</td>\n",
       "      <td>...</td>\n",
       "      <td>...</td>\n",
       "      <td>...</td>\n",
       "      <td>...</td>\n",
       "      <td>...</td>\n",
       "      <td>...</td>\n",
       "      <td>...</td>\n",
       "      <td>...</td>\n",
       "      <td>...</td>\n",
       "    </tr>\n",
       "    <tr>\n",
       "      <th>26994</th>\n",
       "      <td>2023-04-25T05:45:28+02:00</td>\n",
       "      <td>21065349</td>\n",
       "      <td>9699419</td>\n",
       "      <td>30424825</td>\n",
       "      <td>12</td>\n",
       "      <td>39.0</td>\n",
       "      <td>2480</td>\n",
       "      <td>NaN</td>\n",
       "      <td>5495</td>\n",
       "      <td>0</td>\n",
       "      <td>...</td>\n",
       "      <td>Thailand</td>\n",
       "      <td>False</td>\n",
       "      <td>Thailand</td>\n",
       "      <td>ROSEA</td>\n",
       "      <td>TH</td>\n",
       "      <td>ROW</td>\n",
       "      <td>Asia/Bangkok</td>\n",
       "      <td>100.992541</td>\n",
       "      <td>15.870032</td>\n",
       "      <td>66.0</td>\n",
       "    </tr>\n",
       "    <tr>\n",
       "      <th>26995</th>\n",
       "      <td>2023-04-25T05:45:28+02:00</td>\n",
       "      <td>43531939</td>\n",
       "      <td>29034495</td>\n",
       "      <td>69254117</td>\n",
       "      <td>13</td>\n",
       "      <td>507.0</td>\n",
       "      <td>2662</td>\n",
       "      <td>652.0</td>\n",
       "      <td>2</td>\n",
       "      <td>0</td>\n",
       "      <td>...</td>\n",
       "      <td>Thailand</td>\n",
       "      <td>False</td>\n",
       "      <td>Thailand</td>\n",
       "      <td>ROSEA</td>\n",
       "      <td>TH</td>\n",
       "      <td>ROW</td>\n",
       "      <td>Asia/Bangkok</td>\n",
       "      <td>100.992541</td>\n",
       "      <td>15.870032</td>\n",
       "      <td>66.0</td>\n",
       "    </tr>\n",
       "    <tr>\n",
       "      <th>26996</th>\n",
       "      <td>2023-04-25T05:45:28+02:00</td>\n",
       "      <td>2107137</td>\n",
       "      <td>1133065</td>\n",
       "      <td>13720533</td>\n",
       "      <td>13</td>\n",
       "      <td>510.0</td>\n",
       "      <td>14511</td>\n",
       "      <td>1752.0</td>\n",
       "      <td>60</td>\n",
       "      <td>0</td>\n",
       "      <td>...</td>\n",
       "      <td>Jersey</td>\n",
       "      <td>False</td>\n",
       "      <td>Jersey</td>\n",
       "      <td>United Kingdom</td>\n",
       "      <td>JE</td>\n",
       "      <td>EUROPE_1</td>\n",
       "      <td>Europe/Jersey</td>\n",
       "      <td>-2.131250</td>\n",
       "      <td>49.214439</td>\n",
       "      <td>44.0</td>\n",
       "    </tr>\n",
       "    <tr>\n",
       "      <th>26997</th>\n",
       "      <td>2023-04-25T05:45:28+02:00</td>\n",
       "      <td>5673328</td>\n",
       "      <td>1767589</td>\n",
       "      <td>16966623</td>\n",
       "      <td>13</td>\n",
       "      <td>511.0</td>\n",
       "      <td>14511</td>\n",
       "      <td>NaN</td>\n",
       "      <td>58</td>\n",
       "      <td>0</td>\n",
       "      <td>...</td>\n",
       "      <td>Jersey</td>\n",
       "      <td>False</td>\n",
       "      <td>Jersey</td>\n",
       "      <td>United Kingdom</td>\n",
       "      <td>JE</td>\n",
       "      <td>EUROPE_1</td>\n",
       "      <td>Europe/Jersey</td>\n",
       "      <td>-2.131250</td>\n",
       "      <td>49.214439</td>\n",
       "      <td>44.0</td>\n",
       "    </tr>\n",
       "    <tr>\n",
       "      <th>26998</th>\n",
       "      <td>2023-04-25T05:45:28+02:00</td>\n",
       "      <td>7098548</td>\n",
       "      <td>1839965</td>\n",
       "      <td>17417690</td>\n",
       "      <td>63</td>\n",
       "      <td>598.0</td>\n",
       "      <td>63865</td>\n",
       "      <td>1525.0</td>\n",
       "      <td>50</td>\n",
       "      <td>0</td>\n",
       "      <td>...</td>\n",
       "      <td>Jersey</td>\n",
       "      <td>False</td>\n",
       "      <td>Jersey</td>\n",
       "      <td>United Kingdom</td>\n",
       "      <td>JE</td>\n",
       "      <td>EUROPE_1</td>\n",
       "      <td>Europe/Jersey</td>\n",
       "      <td>-2.131250</td>\n",
       "      <td>49.214439</td>\n",
       "      <td>44.0</td>\n",
       "    </tr>\n",
       "  </tbody>\n",
       "</table>\n",
       "<p>26999 rows × 217 columns</p>\n",
       "</div>"
      ],
      "text/plain": [
       "                     REFRESHEDAT  ID_LINE_ORDER  ID_PRODUCT  ID_ORDER  \\\n",
       "0      2023-04-25T05:45:28+02:00       11184660     4318058  18535051   \n",
       "1      2023-04-25T05:45:28+02:00       28449850    17025179  42030471   \n",
       "2      2023-04-25T05:45:28+02:00       45317965    30597272  72823202   \n",
       "3      2023-04-25T05:45:28+02:00       47110399    29584850  75852681   \n",
       "4      2023-04-25T05:45:28+02:00       17300623     9253777  24407099   \n",
       "...                          ...            ...         ...       ...   \n",
       "26994  2023-04-25T05:45:28+02:00       21065349     9699419  30424825   \n",
       "26995  2023-04-25T05:45:28+02:00       43531939    29034495  69254117   \n",
       "26996  2023-04-25T05:45:28+02:00        2107137     1133065  13720533   \n",
       "26997  2023-04-25T05:45:28+02:00        5673328     1767589  16966623   \n",
       "26998  2023-04-25T05:45:28+02:00        7098548     1839965  17417690   \n",
       "\n",
       "      ID_CATEGORY  ID_SUBCATEGORY  ID_BI_CATEGORY  ID_BI_CAT_TREE  ID_BRAND  \\\n",
       "0              12           137.0           16797             NaN       195   \n",
       "1              12            39.0           16797             NaN        23   \n",
       "2             141            59.0            1460             NaN        99   \n",
       "3              13           511.0           14511             NaN         9   \n",
       "4             141            59.0            1460             NaN       252   \n",
       "...           ...             ...             ...             ...       ...   \n",
       "26994          12            39.0            2480             NaN      5495   \n",
       "26995          13           507.0            2662           652.0         2   \n",
       "26996          13           510.0           14511          1752.0        60   \n",
       "26997          13           511.0           14511             NaN        58   \n",
       "26998          63           598.0           63865          1525.0        50   \n",
       "\n",
       "       ID_MODEL  ...  COUNTRY_GA  IS_SCHENGEN  TAX_ZONE           GEO_3  \\\n",
       "0             0  ...      France         True    Europe          France   \n",
       "1             0  ...      France         True    Europe          France   \n",
       "2          3950  ...      France         True    Europe          France   \n",
       "3             0  ...      France         True    Europe          France   \n",
       "4             0  ...      France         True    Europe          France   \n",
       "...         ...  ...         ...          ...       ...             ...   \n",
       "26994         0  ...    Thailand        False  Thailand           ROSEA   \n",
       "26995         0  ...    Thailand        False  Thailand           ROSEA   \n",
       "26996         0  ...      Jersey        False    Jersey  United Kingdom   \n",
       "26997         0  ...      Jersey        False    Jersey  United Kingdom   \n",
       "26998         0  ...      Jersey        False    Jersey  United Kingdom   \n",
       "\n",
       "      ISO3166_2_ADJUST GEO_1_BIS LOCAL_TIMEZONE   LONGITUDE   LATITUDE  \\\n",
       "0                   FR  EUROPE_1   Europe/Paris    2.213749  46.227638   \n",
       "1                   FR  EUROPE_1   Europe/Paris    2.213749  46.227638   \n",
       "2                   FR  EUROPE_1   Europe/Paris    2.213749  46.227638   \n",
       "3                   FR  EUROPE_1   Europe/Paris    2.213749  46.227638   \n",
       "4                   FR  EUROPE_1   Europe/Paris    2.213749  46.227638   \n",
       "...                ...       ...            ...         ...        ...   \n",
       "26994               TH       ROW   Asia/Bangkok  100.992541  15.870032   \n",
       "26995               TH       ROW   Asia/Bangkok  100.992541  15.870032   \n",
       "26996               JE  EUROPE_1  Europe/Jersey   -2.131250  49.214439   \n",
       "26997               JE  EUROPE_1  Europe/Jersey   -2.131250  49.214439   \n",
       "26998               JE  EUROPE_1  Europe/Jersey   -2.131250  49.214439   \n",
       "\n",
       "      PHONE_CODE  \n",
       "0           33.0  \n",
       "1           33.0  \n",
       "2           33.0  \n",
       "3           33.0  \n",
       "4           33.0  \n",
       "...          ...  \n",
       "26994       66.0  \n",
       "26995       66.0  \n",
       "26996       44.0  \n",
       "26997       44.0  \n",
       "26998       44.0  \n",
       "\n",
       "[26999 rows x 217 columns]"
      ]
     },
     "execution_count": 50,
     "metadata": {},
     "output_type": "execute_result"
    }
   ],
   "source": [
    "merged_df"
   ]
  },
  {
   "cell_type": "code",
   "execution_count": 51,
   "metadata": {},
   "outputs": [
    {
     "name": "stdout",
     "output_type": "stream",
     "text": [
      "                     REFRESHEDAT  ID_LINE_ORDER  ID_PRODUCT  ID_ORDER  \\\n",
      "0      2023-04-25T05:45:28+02:00       11184660     4318058  18535051   \n",
      "1      2023-04-25T05:45:28+02:00       28449850    17025179  42030471   \n",
      "2      2023-04-25T05:45:28+02:00       45317965    30597272  72823202   \n",
      "3      2023-04-25T05:45:28+02:00       47110399    29584850  75852681   \n",
      "4      2023-04-25T05:45:28+02:00       17300623     9253777  24407099   \n",
      "...                          ...            ...         ...       ...   \n",
      "26994  2023-04-25T05:45:28+02:00       21065349     9699419  30424825   \n",
      "26995  2023-04-25T05:45:28+02:00       43531939    29034495  69254117   \n",
      "26996  2023-04-25T05:45:28+02:00        2107137     1133065  13720533   \n",
      "26997  2023-04-25T05:45:28+02:00        5673328     1767589  16966623   \n",
      "26998  2023-04-25T05:45:28+02:00        7098548     1839965  17417690   \n",
      "\n",
      "      ID_CATEGORY  ID_SUBCATEGORY  ID_BI_CATEGORY  ID_BI_CAT_TREE  ID_BRAND  \\\n",
      "0              12           137.0           16797             NaN       195   \n",
      "1              12            39.0           16797             NaN        23   \n",
      "2             141            59.0            1460             NaN        99   \n",
      "3              13           511.0           14511             NaN         9   \n",
      "4             141            59.0            1460             NaN       252   \n",
      "...           ...             ...             ...             ...       ...   \n",
      "26994          12            39.0            2480             NaN      5495   \n",
      "26995          13           507.0            2662           652.0         2   \n",
      "26996          13           510.0           14511          1752.0        60   \n",
      "26997          13           511.0           14511             NaN        58   \n",
      "26998          63           598.0           63865          1525.0        50   \n",
      "\n",
      "       ID_MODEL  ...  COUNTRY_GA  IS_SCHENGEN  TAX_ZONE           GEO_3  \\\n",
      "0             0  ...      France         True    Europe          France   \n",
      "1             0  ...      France         True    Europe          France   \n",
      "2          3950  ...      France         True    Europe          France   \n",
      "3             0  ...      France         True    Europe          France   \n",
      "4             0  ...      France         True    Europe          France   \n",
      "...         ...  ...         ...          ...       ...             ...   \n",
      "26994         0  ...    Thailand        False  Thailand           ROSEA   \n",
      "26995         0  ...    Thailand        False  Thailand           ROSEA   \n",
      "26996         0  ...      Jersey        False    Jersey  United Kingdom   \n",
      "26997         0  ...      Jersey        False    Jersey  United Kingdom   \n",
      "26998         0  ...      Jersey        False    Jersey  United Kingdom   \n",
      "\n",
      "      ISO3166_2_ADJUST GEO_1_BIS LOCAL_TIMEZONE   LONGITUDE   LATITUDE  \\\n",
      "0                   FR  EUROPE_1   Europe/Paris    2.213749  46.227638   \n",
      "1                   FR  EUROPE_1   Europe/Paris    2.213749  46.227638   \n",
      "2                   FR  EUROPE_1   Europe/Paris    2.213749  46.227638   \n",
      "3                   FR  EUROPE_1   Europe/Paris    2.213749  46.227638   \n",
      "4                   FR  EUROPE_1   Europe/Paris    2.213749  46.227638   \n",
      "...                ...       ...            ...         ...        ...   \n",
      "26994               TH       ROW   Asia/Bangkok  100.992541  15.870032   \n",
      "26995               TH       ROW   Asia/Bangkok  100.992541  15.870032   \n",
      "26996               JE  EUROPE_1  Europe/Jersey   -2.131250  49.214439   \n",
      "26997               JE  EUROPE_1  Europe/Jersey   -2.131250  49.214439   \n",
      "26998               JE  EUROPE_1  Europe/Jersey   -2.131250  49.214439   \n",
      "\n",
      "      PHONE_CODE  \n",
      "0           33.0  \n",
      "1           33.0  \n",
      "2           33.0  \n",
      "3           33.0  \n",
      "4           33.0  \n",
      "...          ...  \n",
      "26994       66.0  \n",
      "26995       66.0  \n",
      "26996       44.0  \n",
      "26997       44.0  \n",
      "26998       44.0  \n",
      "\n",
      "[26999 rows x 217 columns]\n"
     ]
    }
   ],
   "source": [
    "import pandas as pd\n",
    "from datetime import datetime\n",
    "\n",
    "# Assuming you have a DataFrame with a column named 'refreshed_at'\n",
    "# and it contains floating-point values representing datetime\n",
    "\n",
    "# Convert the column to string type\n",
    "merged_df['DATE_PAYMENT'] = merged_df['DATE_PAYMENT'].astype(str)\n",
    "\n",
    "# Define a function to convert datetime strings to 'year month date' format\n",
    "def format_datetime(datetime_str):\n",
    "    if datetime_str != 'nan':\n",
    "      datetime_obj = datetime.strptime(datetime_str, \"%Y-%m-%dT%H:%M:%SZ\")\n",
    "      return datetime_obj.strftime('%Y %B %d')\n",
    "    else : \n",
    "       return datetime_str\n",
    "\n",
    "# Apply the function to the 'refreshed_at' column\n",
    "merged_df['DATE_PAYMENT'] = merged_df['DATE_PAYMENT'].apply(format_datetime)\n",
    "\n",
    "# Print the updated DataFrame\n",
    "print(merged_df)"
   ]
  },
  {
   "cell_type": "code",
   "execution_count": 52,
   "metadata": {},
   "outputs": [],
   "source": [
    "r=merged_df.columns.tolist()"
   ]
  },
  {
   "cell_type": "code",
   "execution_count": 53,
   "metadata": {},
   "outputs": [
    {
     "name": "stdout",
     "output_type": "stream",
     "text": [
      "['REFRESHEDAT', 'ID_LINE_ORDER', 'ID_PRODUCT', 'ID_ORDER', 'ID_CATEGORY', 'ID_SUBCATEGORY', 'ID_BI_CATEGORY', 'ID_BI_CAT_TREE', 'ID_BRAND', 'ID_MODEL', 'ID_COLOUR', 'ID_CONDITION', 'BRAND', 'BRAND_GROUP', 'BRAND_GROUP_DETAIL', 'BI_BRAND_GROUP', 'MODEL', 'CATEGORY', 'SUBCATEGORY', 'SUB_SUBCATEGORY', 'CURATION_HUB', 'BRAND_GROUP_CURATION', 'UNIVERSE', 'COLOUR', 'MATERIAL', 'CONDITION', 'BI_SUBCATEGORY', 'BI_CATEGORY_MNL', 'BI_SUBCATEGORY_MNL', 'BI_SUB_SUBCATEGORY_MNL', 'BI_UNIVERSE_MNL', 'DEPOSIT_PRICE', 'INSERTION_PRICE', 'PRICE_SOLD_GMV', 'PRICE_SOLD', 'NB_ITEMS', 'DISCOUNT_AMOUNT_GMV', 'DISCOUNT_AMOUNT', 'DISCOUNT_AMOUNT_EXCL_VAT', 'DELIVERY_PRICE_GMV', 'DELIVERY_PRICE', 'DELIVERY_PRICE_EXCL_VAT', 'DUTIES_GMV', 'DUTIES', 'DUTIES_EXCL_VAT', 'COMMISSION_TTC', 'ID_COUNTRY_DES', 'ID_STATE_DES', 'DATE_INVOICE', 'DATE_SOLD', 'DATE_DEPOSIT', 'DATE_PUBLISHED', 'ID_BUYER', 'IS_NEW_BUYER', 'WAS_PREMIUM', 'RANK_BUYER', 'ORDER_DEVICE', 'ORDER_CHANNEL', 'ORDER_DEVICE_BRAND', 'ORDER_UTM_CAMPAIGN', 'ORDER_UTM_MEDIUM', 'ORDER_UTM_SOURCE', 'DEPOSIT_UTM_CAMPAIGN', 'DEPOSIT_UTM_MEDIUM', 'DEPOSIT_UTM_SOURCE', 'DEPOSIT_CHANNEL', 'DEPOSIT_DEVICE', 'DEPOSIT_DEVICE_BRAND', 'RANK_DEPOSIT', 'ID_SELLER', 'IS_NEW_SELLER', 'ID_SELLER_COUNTRY', 'ID_SELLER_STATE', 'PURE_PREMIUM', 'RANK_WITHIN_SEGMENT', 'PRODUCT_NAME', 'SEGMENT', 'DATE_PAYMENT', 'VINTAGE', 'PRODUCT_CURRENCY', 'IS_PREMIUM_PRODUCT', 'IS_PICKING_REQUEST', 'IS_REFUND_EXTRA', 'LOVED', 'RANK_SOLD', 'DATE_RECEIVED', 'MMAO_NB', 'GMV', 'ORDER_VALUE_RANGE', 'CURATION_SCORE', 'IS_COMPLIANT', 'IS_COUNTERFEIT', 'HAS_PURCHASED_TWICE', 'NPS_BUYER_SCORE', 'NPS_SELLER_SCORE', 'NPS_BUYER_DATE', 'NPS_SELLER_DATE', 'ID_WAREHOUSE', 'NB_DAYS_SINCE_LAST_PURCHASE', 'BUYER_FEE_GMV', 'BUYER_FEE', 'BUYER_FEE_EXCL_VAT', 'ID_PAGE', 'IS_AUTHENTIFIED', 'SELLER_REVENUE', 'MARKETPLACE_REVENUE_INCL_VAT', 'MARKETPLACE_REVENUE_EXCL_VAT', 'ORDER_CURRENCY', 'PRICE_SOLD_ORIGINAL', 'HAS_DUTIES', 'ORDER_MARKETING_CHANNEL', 'ACCEPTED_BY', 'ID_PRICE_RANGE_SOLD', 'ID_PRICE_RANGE_SOLD_2', 'FLAG_DIRECT_SHIPPING', 'WAS_DS_ELIGIBLE', 'LOWEST_CATALOG_PRICE', 'MMAO_PRICE_DROP', 'IS_EXCEPTIONAL', 'IS_DUPLICATE_ORDER', 'ID_ORDER_STATUS', 'ORDER_STATUS', 'IS_APPINSTALL', 'FXMARKUP_EXCL_VAT', 'FXMARKUP_REVENUE', 'FXMARKUP_VAT', 'FXMARKUP_CURRENCY', 'PRICE_SOLD_EXCL_FXMARKUP_REVENUE', 'ID_PAYMENT_PARTNER', 'ID_SITE_x', 'AMOUNT_PAID_WITH_WALLET', 'ONE_CLICK_PAYMENT', 'CARD_BRAND', 'ID_PRODUCT_NEXT_DEPOSIT', 'ID_WAREHOUSE_SEND_IN', 'IS_VDC_PLUS', 'ORDER_MARKETING_CHANNEL2', 'IS_HOT_SUPPLY', 'IS_HOT_SUPPLY_PREVIOUS', 'IS_EVERGREEN_SUPPLY', 'ASSORTMENT_SCORE', 'FLAG_SOLD_MMAO', 'NO_IMPORT_EXPORT', 'SELLER_BADGE', 'GMV_EXCL_VAT', 'FULFILLMENT_GMV', 'FULFILLMENT_REVENUE', 'CURRENCY_CHANGE', 'ID_PRICE_RANGE_SOLD_3', 'BUSINESS_UNIT', 'FLAG_PRICE_DROP', 'IS_LOVED_AUTO', 'ORDER_SOURCE_CITY', 'ORDER_DESTINATION_CITY', 'MARKETPLACE_REVENUE', 'IS_PICKUP_SELECTED', 'FLAG_PICKUP_CHECKOUT', 'FLAG_EXCLUDE_ORDER', 'SALES_TAX_VALUE', 'PC2_BUSINESS_UNIT', 'FLAG_USER_HAD_MYSIZE_SETUP', 'SHIPPING_REVENUE', 'DUTIES_REVENUE', 'BUYER_FEE_REVENUE', 'VOUCHER_REVENUE', 'RANK_BUYER_ORDER', 'ID_ORDER_PREVIOUS_ORDER', 'DATE_INVOICE_PREVIOUS_ORDER', 'BUYER_TYPE', 'FLAG_FRAUD', 'FLAG_EXCLUSION_BPERF', 'REVENUE_BUSINESS_MODEL', 'BUYER_RECEIVABLES', 'REVENUE_ENTITY', 'SELLER_REVENUE_PAYMENT_DATE', 'AUSTRALIAN_VAT_EUR', 'AUSTRALIAN_VAT_AUD', 'UNITED_KINGDOM_IMPORT_VAT_EUR', 'UNITED_KINGDOM_IMPORT_VAT_GBP', 'MARKETPLACE_REVENUE_PAYMENT_DATE_EXCL_VAT', 'MARKETPLACE_REVENUE_PAYMENT_DATE_INCL_VAT', 'MARKETPLACE_REVENUE_PAYMENT_DATE', 'VAT_COUNTRY_SHIPPING', 'VAT_COUNTRY_SELLER_FEE', 'VAT_COUNTRY_DUTIES', 'VAT_COUNTRY_BUYER_FEE', 'FLAG_BUG_SALE', 'VAT_RATE_SHIPPING_FEE', 'VAT_RATE_SELLER_FEE', 'VAT_RATE_DUTIES', 'VAT_RATE_BUYER_FEE', 'ORDER_UTM_CAMPAIGN_NON_PERSISTENT', 'ORDER_UTM_MEDIUM_NON_PERSISTENT', 'ORDER_UTM_SOURCE_NON_PERSISTENT', 'ORDER_MARKETING_CHANNEL_NON_PERSISTENT', 'ORDER_UTM_CAMPAIGN_30D_PERSISTENT', 'ORDER_UTM_MEDIUM_30D_PERSISTENT', 'ORDER_UTM_SOURCE_30D_DAYS_PERSISTENT', 'ORDER_MARKETING_CHANNEL_30D_PERSISTENT', 'ID_COUNTRY', 'REGION', 'COUNTRY', 'ID_SITE_y', 'ISO3166_2', 'GEO_1', 'GEO_2', 'FINANCIAL_REGIONS', 'COUNTRY_GA', 'IS_SCHENGEN', 'TAX_ZONE', 'GEO_3', 'ISO3166_2_ADJUST', 'GEO_1_BIS', 'LOCAL_TIMEZONE', 'LONGITUDE', 'LATITUDE', 'PHONE_CODE']\n"
     ]
    }
   ],
   "source": [
    "print(r)"
   ]
  },
  {
   "cell_type": "code",
   "execution_count": 54,
   "metadata": {},
   "outputs": [],
   "source": [
    "selected_columns = ['ID_COUNTRY','ID_COUNTRY_DES','GMV','DATE_PAYMENT','COUNTRY']\n"
   ]
  },
  {
   "cell_type": "code",
   "execution_count": 55,
   "metadata": {},
   "outputs": [],
   "source": [
    "temporary_table = merged_df[selected_columns].copy()\n"
   ]
  },
  {
   "cell_type": "code",
   "execution_count": 56,
   "metadata": {},
   "outputs": [
    {
     "name": "stdout",
     "output_type": "stream",
     "text": [
      "       ID_COUNTRY  ID_COUNTRY_DES         GMV       DATE_PAYMENT   COUNTRY\n",
      "0              74              74   52.225000       2018 June 24    France\n",
      "1              74              74   80.000000       2021 July 14    France\n",
      "2              74              74   59.900000   2023 February 20    France\n",
      "3              74              74  302.009400      2023 April 10    France\n",
      "4              74              74  172.560000   2020 February 03    France\n",
      "...           ...             ...         ...                ...       ...\n",
      "26994         209             209  165.042058  2020 September 19  Thailand\n",
      "26995         209             209  353.644991   2022 December 26  Thailand\n",
      "26996         245             245   47.272263  2014 September 30    Jersey\n",
      "26997         245             245  190.551129    2016 October 13    Jersey\n",
      "26998         245             245  148.445993      2017 April 01    Jersey\n",
      "\n",
      "[26999 rows x 5 columns]\n"
     ]
    }
   ],
   "source": [
    "print(temporary_table)"
   ]
  },
  {
   "cell_type": "code",
   "execution_count": 57,
   "metadata": {},
   "outputs": [
    {
     "data": {
      "text/html": [
       "<div>\n",
       "<style scoped>\n",
       "    .dataframe tbody tr th:only-of-type {\n",
       "        vertical-align: middle;\n",
       "    }\n",
       "\n",
       "    .dataframe tbody tr th {\n",
       "        vertical-align: top;\n",
       "    }\n",
       "\n",
       "    .dataframe thead th {\n",
       "        text-align: right;\n",
       "    }\n",
       "</style>\n",
       "<table border=\"1\" class=\"dataframe\">\n",
       "  <thead>\n",
       "    <tr style=\"text-align: right;\">\n",
       "      <th></th>\n",
       "      <th>ID_COUNTRY</th>\n",
       "      <th>ID_COUNTRY_DES</th>\n",
       "      <th>GMV</th>\n",
       "      <th>DATE_PAYMENT</th>\n",
       "      <th>COUNTRY</th>\n",
       "    </tr>\n",
       "  </thead>\n",
       "  <tbody>\n",
       "    <tr>\n",
       "      <th>0</th>\n",
       "      <td>74</td>\n",
       "      <td>74</td>\n",
       "      <td>52.225000</td>\n",
       "      <td>2018 June 24</td>\n",
       "      <td>France</td>\n",
       "    </tr>\n",
       "    <tr>\n",
       "      <th>1</th>\n",
       "      <td>74</td>\n",
       "      <td>74</td>\n",
       "      <td>80.000000</td>\n",
       "      <td>2021 July 14</td>\n",
       "      <td>France</td>\n",
       "    </tr>\n",
       "    <tr>\n",
       "      <th>2</th>\n",
       "      <td>74</td>\n",
       "      <td>74</td>\n",
       "      <td>59.900000</td>\n",
       "      <td>2023 February 20</td>\n",
       "      <td>France</td>\n",
       "    </tr>\n",
       "    <tr>\n",
       "      <th>3</th>\n",
       "      <td>74</td>\n",
       "      <td>74</td>\n",
       "      <td>302.009400</td>\n",
       "      <td>2023 April 10</td>\n",
       "      <td>France</td>\n",
       "    </tr>\n",
       "    <tr>\n",
       "      <th>4</th>\n",
       "      <td>74</td>\n",
       "      <td>74</td>\n",
       "      <td>172.560000</td>\n",
       "      <td>2020 February 03</td>\n",
       "      <td>France</td>\n",
       "    </tr>\n",
       "    <tr>\n",
       "      <th>...</th>\n",
       "      <td>...</td>\n",
       "      <td>...</td>\n",
       "      <td>...</td>\n",
       "      <td>...</td>\n",
       "      <td>...</td>\n",
       "    </tr>\n",
       "    <tr>\n",
       "      <th>26994</th>\n",
       "      <td>209</td>\n",
       "      <td>209</td>\n",
       "      <td>165.042058</td>\n",
       "      <td>2020 September 19</td>\n",
       "      <td>Thailand</td>\n",
       "    </tr>\n",
       "    <tr>\n",
       "      <th>26995</th>\n",
       "      <td>209</td>\n",
       "      <td>209</td>\n",
       "      <td>353.644991</td>\n",
       "      <td>2022 December 26</td>\n",
       "      <td>Thailand</td>\n",
       "    </tr>\n",
       "    <tr>\n",
       "      <th>26996</th>\n",
       "      <td>245</td>\n",
       "      <td>245</td>\n",
       "      <td>47.272263</td>\n",
       "      <td>2014 September 30</td>\n",
       "      <td>Jersey</td>\n",
       "    </tr>\n",
       "    <tr>\n",
       "      <th>26997</th>\n",
       "      <td>245</td>\n",
       "      <td>245</td>\n",
       "      <td>190.551129</td>\n",
       "      <td>2016 October 13</td>\n",
       "      <td>Jersey</td>\n",
       "    </tr>\n",
       "    <tr>\n",
       "      <th>26998</th>\n",
       "      <td>245</td>\n",
       "      <td>245</td>\n",
       "      <td>148.445993</td>\n",
       "      <td>2017 April 01</td>\n",
       "      <td>Jersey</td>\n",
       "    </tr>\n",
       "  </tbody>\n",
       "</table>\n",
       "<p>26999 rows × 5 columns</p>\n",
       "</div>"
      ],
      "text/plain": [
       "       ID_COUNTRY  ID_COUNTRY_DES         GMV       DATE_PAYMENT   COUNTRY\n",
       "0              74              74   52.225000       2018 June 24    France\n",
       "1              74              74   80.000000       2021 July 14    France\n",
       "2              74              74   59.900000   2023 February 20    France\n",
       "3              74              74  302.009400      2023 April 10    France\n",
       "4              74              74  172.560000   2020 February 03    France\n",
       "...           ...             ...         ...                ...       ...\n",
       "26994         209             209  165.042058  2020 September 19  Thailand\n",
       "26995         209             209  353.644991   2022 December 26  Thailand\n",
       "26996         245             245   47.272263  2014 September 30    Jersey\n",
       "26997         245             245  190.551129    2016 October 13    Jersey\n",
       "26998         245             245  148.445993      2017 April 01    Jersey\n",
       "\n",
       "[26999 rows x 5 columns]"
      ]
     },
     "execution_count": 57,
     "metadata": {},
     "output_type": "execute_result"
    }
   ],
   "source": [
    "temporary_table"
   ]
  },
  {
   "cell_type": "code",
   "execution_count": 58,
   "metadata": {},
   "outputs": [
    {
     "name": "stdout",
     "output_type": "stream",
     "text": [
      "       ID_COUNTRY  ID_COUNTRY_DES         GMV DATE_PAYMENT   COUNTRY  \\\n",
      "0              74              74   52.225000   2018-06-24    France   \n",
      "1              74              74   80.000000   2021-07-14    France   \n",
      "2              74              74   59.900000   2023-02-20    France   \n",
      "3              74              74  302.009400   2023-04-10    France   \n",
      "4              74              74  172.560000   2020-02-03    France   \n",
      "...           ...             ...         ...          ...       ...   \n",
      "26994         209             209  165.042058   2020-09-19  Thailand   \n",
      "26995         209             209  353.644991   2022-12-26  Thailand   \n",
      "26996         245             245   47.272263   2014-09-30    Jersey   \n",
      "26997         245             245  190.551129   2016-10-13    Jersey   \n",
      "26998         245             245  148.445993   2017-04-01    Jersey   \n",
      "\n",
      "         GMV 2022  \n",
      "0             NaN  \n",
      "1             NaN  \n",
      "2             NaN  \n",
      "3             NaN  \n",
      "4             NaN  \n",
      "...           ...  \n",
      "26994         NaN  \n",
      "26995  353.644991  \n",
      "26996         NaN  \n",
      "26997         NaN  \n",
      "26998         NaN  \n",
      "\n",
      "[26999 rows x 6 columns]\n"
     ]
    }
   ],
   "source": [
    "temporary_table['DATE_PAYMENT'] = pd.to_datetime(temporary_table['DATE_PAYMENT'])\n",
    "temporary_table['GMV 2022'] = temporary_table.loc[temporary_table['DATE_PAYMENT'].dt.year == 2022, 'GMV']\n",
    "\n",
    "# Print the updated temporary_table DataFrame\n",
    "print(temporary_table)"
   ]
  },
  {
   "cell_type": "markdown",
   "metadata": {},
   "source": []
  },
  {
   "cell_type": "code",
   "execution_count": 59,
   "metadata": {},
   "outputs": [
    {
     "name": "stdout",
     "output_type": "stream",
     "text": [
      "    ID_COUNTRY  ID_COUNTRY_DES         COUNTRY            GMV\n",
      "50         223             223   United States  331623.160804\n",
      "12          74              74          France  294391.336511\n",
      "13          81              81         Germany  206812.037534\n",
      "19         105             105           Italy  151011.623939\n",
      "49         222             222  United Kingdom  113920.782297\n",
      "43         195             195           Spain  108200.365991\n",
      "1           14              14         Austria   61314.923629\n",
      "44         203             203          Sweden   59122.997647\n",
      "0           13              13       Australia   48766.991469\n",
      "15          96              96       Hong Kong   46689.491656\n",
      "9           57              57         Denmark   45322.611800\n",
      "39         188             188       Singapore   45308.022153\n",
      "35         171             171        Portugal   38290.243071\n",
      "30         150             150     Netherlands   34791.440515\n",
      "11          72              72         Finland   32661.908837\n",
      "45         204             204     Switzerland   26209.751533\n",
      "37         175             175         Romania   21930.986005\n",
      "2           21              21         Belgium   21084.989843\n",
      "14          84              84          Greece   17669.367371\n",
      "8           56              56  Czech Republic   12929.615023\n"
     ]
    }
   ],
   "source": [
    "temporary_table['DATE_PAYMENT'] = pd.to_datetime(temporary_table['DATE_PAYMENT'])\n",
    "\n",
    "# Filter the data for the year 2022\n",
    "temporary_table_2022 = temporary_table[temporary_table['DATE_PAYMENT'].dt.year == 2022]\n",
    "\n",
    "# Group the data by country and calculate the total GMV\n",
    "gmv_by_country = temporary_table_2022.groupby(['ID_COUNTRY','ID_COUNTRY_DES','COUNTRY'])['GMV'].sum().reset_index()\n",
    "\n",
    "# Sort the data in descending order based on GMV\n",
    "sorted_gmv = gmv_by_country.sort_values('GMV', ascending=False)\n",
    "\n",
    "# Select the top countries with the highest GMV\n",
    "top_countries = sorted_gmv.head(20)  # Selecting the top 10 countries\n",
    "\n",
    "# Print the top countries\n",
    "print(top_countries)\n"
   ]
  },
  {
   "cell_type": "code",
   "execution_count": 60,
   "metadata": {},
   "outputs": [
    {
     "name": "stdout",
     "output_type": "stream",
     "text": [
      "    ID_COUNTRY  ID_COUNTRY_DES         COUNTRY       GMV 2022\n",
      "50         223             223   United States  331623.160804\n",
      "12          74              74          France  294391.336511\n",
      "13          81              81         Germany  206812.037534\n",
      "19         105             105           Italy  151011.623939\n",
      "49         222             222  United Kingdom  113920.782297\n",
      "43         195             195           Spain  108200.365991\n",
      "1           14              14         Austria   61314.923629\n",
      "44         203             203          Sweden   59122.997647\n",
      "0           13              13       Australia   48766.991469\n",
      "15          96              96       Hong Kong   46689.491656\n",
      "9           57              57         Denmark   45322.611800\n",
      "39         188             188       Singapore   45308.022153\n",
      "35         171             171        Portugal   38290.243071\n",
      "30         150             150     Netherlands   34791.440515\n",
      "11          72              72         Finland   32661.908837\n",
      "45         204             204     Switzerland   26209.751533\n",
      "37         175             175         Romania   21930.986005\n",
      "2           21              21         Belgium   21084.989843\n",
      "14          84              84          Greece   17669.367371\n",
      "8           56              56  Czech Republic   12929.615023\n"
     ]
    }
   ],
   "source": [
    "top_countries = top_countries.rename(columns={'GMV': 'GMV 2022'})\n",
    "\n",
    "# Print the updated top_countries DataFrame\n",
    "print(top_countries)"
   ]
  },
  {
   "cell_type": "code",
   "execution_count": 61,
   "metadata": {},
   "outputs": [
    {
     "data": {
      "text/html": [
       "<div>\n",
       "<style scoped>\n",
       "    .dataframe tbody tr th:only-of-type {\n",
       "        vertical-align: middle;\n",
       "    }\n",
       "\n",
       "    .dataframe tbody tr th {\n",
       "        vertical-align: top;\n",
       "    }\n",
       "\n",
       "    .dataframe thead th {\n",
       "        text-align: right;\n",
       "    }\n",
       "</style>\n",
       "<table border=\"1\" class=\"dataframe\">\n",
       "  <thead>\n",
       "    <tr style=\"text-align: right;\">\n",
       "      <th></th>\n",
       "      <th>ID_COUNTRY</th>\n",
       "      <th>ID_COUNTRY_DES</th>\n",
       "      <th>COUNTRY</th>\n",
       "      <th>GMV 2022</th>\n",
       "    </tr>\n",
       "  </thead>\n",
       "  <tbody>\n",
       "    <tr>\n",
       "      <th>50</th>\n",
       "      <td>223</td>\n",
       "      <td>223</td>\n",
       "      <td>United States</td>\n",
       "      <td>331623.160804</td>\n",
       "    </tr>\n",
       "    <tr>\n",
       "      <th>12</th>\n",
       "      <td>74</td>\n",
       "      <td>74</td>\n",
       "      <td>France</td>\n",
       "      <td>294391.336511</td>\n",
       "    </tr>\n",
       "    <tr>\n",
       "      <th>13</th>\n",
       "      <td>81</td>\n",
       "      <td>81</td>\n",
       "      <td>Germany</td>\n",
       "      <td>206812.037534</td>\n",
       "    </tr>\n",
       "    <tr>\n",
       "      <th>19</th>\n",
       "      <td>105</td>\n",
       "      <td>105</td>\n",
       "      <td>Italy</td>\n",
       "      <td>151011.623939</td>\n",
       "    </tr>\n",
       "    <tr>\n",
       "      <th>49</th>\n",
       "      <td>222</td>\n",
       "      <td>222</td>\n",
       "      <td>United Kingdom</td>\n",
       "      <td>113920.782297</td>\n",
       "    </tr>\n",
       "    <tr>\n",
       "      <th>43</th>\n",
       "      <td>195</td>\n",
       "      <td>195</td>\n",
       "      <td>Spain</td>\n",
       "      <td>108200.365991</td>\n",
       "    </tr>\n",
       "    <tr>\n",
       "      <th>1</th>\n",
       "      <td>14</td>\n",
       "      <td>14</td>\n",
       "      <td>Austria</td>\n",
       "      <td>61314.923629</td>\n",
       "    </tr>\n",
       "    <tr>\n",
       "      <th>44</th>\n",
       "      <td>203</td>\n",
       "      <td>203</td>\n",
       "      <td>Sweden</td>\n",
       "      <td>59122.997647</td>\n",
       "    </tr>\n",
       "    <tr>\n",
       "      <th>0</th>\n",
       "      <td>13</td>\n",
       "      <td>13</td>\n",
       "      <td>Australia</td>\n",
       "      <td>48766.991469</td>\n",
       "    </tr>\n",
       "    <tr>\n",
       "      <th>15</th>\n",
       "      <td>96</td>\n",
       "      <td>96</td>\n",
       "      <td>Hong Kong</td>\n",
       "      <td>46689.491656</td>\n",
       "    </tr>\n",
       "    <tr>\n",
       "      <th>9</th>\n",
       "      <td>57</td>\n",
       "      <td>57</td>\n",
       "      <td>Denmark</td>\n",
       "      <td>45322.611800</td>\n",
       "    </tr>\n",
       "    <tr>\n",
       "      <th>39</th>\n",
       "      <td>188</td>\n",
       "      <td>188</td>\n",
       "      <td>Singapore</td>\n",
       "      <td>45308.022153</td>\n",
       "    </tr>\n",
       "    <tr>\n",
       "      <th>35</th>\n",
       "      <td>171</td>\n",
       "      <td>171</td>\n",
       "      <td>Portugal</td>\n",
       "      <td>38290.243071</td>\n",
       "    </tr>\n",
       "    <tr>\n",
       "      <th>30</th>\n",
       "      <td>150</td>\n",
       "      <td>150</td>\n",
       "      <td>Netherlands</td>\n",
       "      <td>34791.440515</td>\n",
       "    </tr>\n",
       "    <tr>\n",
       "      <th>11</th>\n",
       "      <td>72</td>\n",
       "      <td>72</td>\n",
       "      <td>Finland</td>\n",
       "      <td>32661.908837</td>\n",
       "    </tr>\n",
       "    <tr>\n",
       "      <th>45</th>\n",
       "      <td>204</td>\n",
       "      <td>204</td>\n",
       "      <td>Switzerland</td>\n",
       "      <td>26209.751533</td>\n",
       "    </tr>\n",
       "    <tr>\n",
       "      <th>37</th>\n",
       "      <td>175</td>\n",
       "      <td>175</td>\n",
       "      <td>Romania</td>\n",
       "      <td>21930.986005</td>\n",
       "    </tr>\n",
       "    <tr>\n",
       "      <th>2</th>\n",
       "      <td>21</td>\n",
       "      <td>21</td>\n",
       "      <td>Belgium</td>\n",
       "      <td>21084.989843</td>\n",
       "    </tr>\n",
       "    <tr>\n",
       "      <th>14</th>\n",
       "      <td>84</td>\n",
       "      <td>84</td>\n",
       "      <td>Greece</td>\n",
       "      <td>17669.367371</td>\n",
       "    </tr>\n",
       "    <tr>\n",
       "      <th>8</th>\n",
       "      <td>56</td>\n",
       "      <td>56</td>\n",
       "      <td>Czech Republic</td>\n",
       "      <td>12929.615023</td>\n",
       "    </tr>\n",
       "  </tbody>\n",
       "</table>\n",
       "</div>"
      ],
      "text/plain": [
       "    ID_COUNTRY  ID_COUNTRY_DES         COUNTRY       GMV 2022\n",
       "50         223             223   United States  331623.160804\n",
       "12          74              74          France  294391.336511\n",
       "13          81              81         Germany  206812.037534\n",
       "19         105             105           Italy  151011.623939\n",
       "49         222             222  United Kingdom  113920.782297\n",
       "43         195             195           Spain  108200.365991\n",
       "1           14              14         Austria   61314.923629\n",
       "44         203             203          Sweden   59122.997647\n",
       "0           13              13       Australia   48766.991469\n",
       "15          96              96       Hong Kong   46689.491656\n",
       "9           57              57         Denmark   45322.611800\n",
       "39         188             188       Singapore   45308.022153\n",
       "35         171             171        Portugal   38290.243071\n",
       "30         150             150     Netherlands   34791.440515\n",
       "11          72              72         Finland   32661.908837\n",
       "45         204             204     Switzerland   26209.751533\n",
       "37         175             175         Romania   21930.986005\n",
       "2           21              21         Belgium   21084.989843\n",
       "14          84              84          Greece   17669.367371\n",
       "8           56              56  Czech Republic   12929.615023"
      ]
     },
     "execution_count": 61,
     "metadata": {},
     "output_type": "execute_result"
    }
   ],
   "source": [
    "top_countries"
   ]
  },
  {
   "cell_type": "code",
   "execution_count": 62,
   "metadata": {},
   "outputs": [
    {
     "data": {
      "text/html": [
       "<div>\n",
       "<style scoped>\n",
       "    .dataframe tbody tr th:only-of-type {\n",
       "        vertical-align: middle;\n",
       "    }\n",
       "\n",
       "    .dataframe tbody tr th {\n",
       "        vertical-align: top;\n",
       "    }\n",
       "\n",
       "    .dataframe thead th {\n",
       "        text-align: right;\n",
       "    }\n",
       "</style>\n",
       "<table border=\"1\" class=\"dataframe\">\n",
       "  <thead>\n",
       "    <tr style=\"text-align: right;\">\n",
       "      <th></th>\n",
       "      <th>ID_COUNTRY</th>\n",
       "      <th>ID_COUNTRY_DES</th>\n",
       "      <th>GMV</th>\n",
       "      <th>DATE_PAYMENT</th>\n",
       "      <th>COUNTRY</th>\n",
       "      <th>GMV 2022</th>\n",
       "    </tr>\n",
       "  </thead>\n",
       "  <tbody>\n",
       "    <tr>\n",
       "      <th>14</th>\n",
       "      <td>74</td>\n",
       "      <td>74</td>\n",
       "      <td>23.787500</td>\n",
       "      <td>2022-02-16</td>\n",
       "      <td>France</td>\n",
       "      <td>23.787500</td>\n",
       "    </tr>\n",
       "    <tr>\n",
       "      <th>19</th>\n",
       "      <td>74</td>\n",
       "      <td>74</td>\n",
       "      <td>369.900000</td>\n",
       "      <td>2022-09-21</td>\n",
       "      <td>France</td>\n",
       "      <td>369.900000</td>\n",
       "    </tr>\n",
       "    <tr>\n",
       "      <th>28</th>\n",
       "      <td>74</td>\n",
       "      <td>74</td>\n",
       "      <td>818.900000</td>\n",
       "      <td>2022-09-14</td>\n",
       "      <td>France</td>\n",
       "      <td>818.900000</td>\n",
       "    </tr>\n",
       "    <tr>\n",
       "      <th>29</th>\n",
       "      <td>74</td>\n",
       "      <td>74</td>\n",
       "      <td>174.900000</td>\n",
       "      <td>2022-12-15</td>\n",
       "      <td>France</td>\n",
       "      <td>174.900000</td>\n",
       "    </tr>\n",
       "    <tr>\n",
       "      <th>53</th>\n",
       "      <td>74</td>\n",
       "      <td>74</td>\n",
       "      <td>1675.000000</td>\n",
       "      <td>2022-07-14</td>\n",
       "      <td>France</td>\n",
       "      <td>1675.000000</td>\n",
       "    </tr>\n",
       "    <tr>\n",
       "      <th>...</th>\n",
       "      <td>...</td>\n",
       "      <td>...</td>\n",
       "      <td>...</td>\n",
       "      <td>...</td>\n",
       "      <td>...</td>\n",
       "      <td>...</td>\n",
       "    </tr>\n",
       "    <tr>\n",
       "      <th>26977</th>\n",
       "      <td>221</td>\n",
       "      <td>221</td>\n",
       "      <td>352.470000</td>\n",
       "      <td>2022-12-17</td>\n",
       "      <td>United Arab Emirates</td>\n",
       "      <td>352.470000</td>\n",
       "    </tr>\n",
       "    <tr>\n",
       "      <th>26984</th>\n",
       "      <td>168</td>\n",
       "      <td>168</td>\n",
       "      <td>3272.833908</td>\n",
       "      <td>2022-07-12</td>\n",
       "      <td>Philippines</td>\n",
       "      <td>3272.833908</td>\n",
       "    </tr>\n",
       "    <tr>\n",
       "      <th>26987</th>\n",
       "      <td>168</td>\n",
       "      <td>168</td>\n",
       "      <td>5474.341570</td>\n",
       "      <td>2022-07-12</td>\n",
       "      <td>Philippines</td>\n",
       "      <td>5474.341570</td>\n",
       "    </tr>\n",
       "    <tr>\n",
       "      <th>26992</th>\n",
       "      <td>209</td>\n",
       "      <td>209</td>\n",
       "      <td>284.951823</td>\n",
       "      <td>2022-12-18</td>\n",
       "      <td>Thailand</td>\n",
       "      <td>284.951823</td>\n",
       "    </tr>\n",
       "    <tr>\n",
       "      <th>26995</th>\n",
       "      <td>209</td>\n",
       "      <td>209</td>\n",
       "      <td>353.644991</td>\n",
       "      <td>2022-12-26</td>\n",
       "      <td>Thailand</td>\n",
       "      <td>353.644991</td>\n",
       "    </tr>\n",
       "  </tbody>\n",
       "</table>\n",
       "<p>5944 rows × 6 columns</p>\n",
       "</div>"
      ],
      "text/plain": [
       "       ID_COUNTRY  ID_COUNTRY_DES          GMV DATE_PAYMENT  \\\n",
       "14             74              74    23.787500   2022-02-16   \n",
       "19             74              74   369.900000   2022-09-21   \n",
       "28             74              74   818.900000   2022-09-14   \n",
       "29             74              74   174.900000   2022-12-15   \n",
       "53             74              74  1675.000000   2022-07-14   \n",
       "...           ...             ...          ...          ...   \n",
       "26977         221             221   352.470000   2022-12-17   \n",
       "26984         168             168  3272.833908   2022-07-12   \n",
       "26987         168             168  5474.341570   2022-07-12   \n",
       "26992         209             209   284.951823   2022-12-18   \n",
       "26995         209             209   353.644991   2022-12-26   \n",
       "\n",
       "                    COUNTRY     GMV 2022  \n",
       "14                   France    23.787500  \n",
       "19                   France   369.900000  \n",
       "28                   France   818.900000  \n",
       "29                   France   174.900000  \n",
       "53                   France  1675.000000  \n",
       "...                     ...          ...  \n",
       "26977  United Arab Emirates   352.470000  \n",
       "26984           Philippines  3272.833908  \n",
       "26987           Philippines  5474.341570  \n",
       "26992              Thailand   284.951823  \n",
       "26995              Thailand   353.644991  \n",
       "\n",
       "[5944 rows x 6 columns]"
      ]
     },
     "execution_count": 62,
     "metadata": {},
     "output_type": "execute_result"
    }
   ],
   "source": [
    "temporary_table_2022 = temporary_table[temporary_table['DATE_PAYMENT'].dt.year == 2022]\n",
    "temporary_table_2022"
   ]
  },
  {
   "cell_type": "code",
   "execution_count": 63,
   "metadata": {},
   "outputs": [
    {
     "name": "stdout",
     "output_type": "stream",
     "text": [
      "    ID_COUNTRY  ID_COUNTRY_DES         COUNTRY            GMV\n",
      "12          74              74          France  294354.670227\n",
      "51         223             223   United States  178030.624655\n",
      "13          81              81         Germany  168631.576558\n",
      "21         105             105           Italy  163211.283746\n",
      "50         222             222  United Kingdom  112054.125629\n",
      "46         203             203          Sweden   71673.296376\n",
      "0           13              13       Australia   58877.430124\n",
      "45         195             195           Spain   52058.885818\n",
      "6           53              53         Croatia   51007.990730\n",
      "41         188             188       Singapore   38893.805977\n",
      "16          96              96       Hong Kong   35639.925426\n",
      "1           14              14         Austria   35512.206244\n",
      "9           57              57         Denmark   35487.782979\n",
      "11          72              72         Finland   31910.379631\n",
      "33         150             150     Netherlands   31266.401136\n",
      "28         124             124      Luxembourg   26122.311248\n",
      "19         103             103         Ireland   20172.746406\n",
      "39         175             175         Romania   19157.274927\n",
      "17          97              97         Hungary   18500.883981\n",
      "14          84              84          Greece   17843.404492\n"
     ]
    }
   ],
   "source": [
    "temporary_table['DATE_PAYMENT'] = pd.to_datetime(temporary_table['DATE_PAYMENT'])\n",
    "\n",
    "# Filter the data for the year 2022\n",
    "temporary_table_2022 = temporary_table[temporary_table['DATE_PAYMENT'].dt.year == 2021]\n",
    "\n",
    "# Group the data by country and calculate the total GMV\n",
    "gmv_by_country = temporary_table_2022.groupby(['ID_COUNTRY','ID_COUNTRY_DES','COUNTRY'])['GMV'].sum().reset_index()\n",
    "\n",
    "# Sort the data in descending order based on GMV\n",
    "sorted_gmv = gmv_by_country.sort_values('GMV', ascending=False)\n",
    "\n",
    "# Select the top countries with the highest GMV\n",
    "top_countries2021 = sorted_gmv.head(20)  # Selecting the top 10 countries\n",
    "\n",
    "# Print the top countries\n",
    "print(top_countries2021)\n"
   ]
  },
  {
   "cell_type": "code",
   "execution_count": 64,
   "metadata": {},
   "outputs": [
    {
     "name": "stdout",
     "output_type": "stream",
     "text": [
      "    ID_COUNTRY  ID_COUNTRY_DES         COUNTRY       GMV 2022       GMV 2021\n",
      "0          223             223   United States  331623.160804  178030.624655\n",
      "1           74              74          France  294391.336511  294354.670227\n",
      "2           81              81         Germany  206812.037534  168631.576558\n",
      "3          105             105           Italy  151011.623939  163211.283746\n",
      "4          222             222  United Kingdom  113920.782297  112054.125629\n",
      "5          195             195           Spain  108200.365991   52058.885818\n",
      "6           14              14         Austria   61314.923629   35512.206244\n",
      "7          203             203          Sweden   59122.997647   71673.296376\n",
      "8           13              13       Australia   48766.991469   58877.430124\n",
      "9           96              96       Hong Kong   46689.491656   35639.925426\n",
      "10          57              57         Denmark   45322.611800   35487.782979\n",
      "11         188             188       Singapore   45308.022153   38893.805977\n",
      "12         171             171        Portugal   38290.243071   15313.389406\n",
      "13         150             150     Netherlands   34791.440515   31266.401136\n",
      "14          72              72         Finland   32661.908837   31910.379631\n",
      "15         204             204     Switzerland   26209.751533   15079.120452\n",
      "16         175             175         Romania   21930.986005   19157.274927\n",
      "17          21              21         Belgium   21084.989843   16575.125371\n",
      "18          84              84          Greece   17669.367371   17843.404492\n",
      "19          56              56  Czech Republic   12929.615023    7619.477774\n"
     ]
    }
   ],
   "source": [
    "gmv_by_country_2021 = temporary_table_2022.groupby(['ID_COUNTRY', 'ID_COUNTRY_DES', 'COUNTRY'])['GMV'].sum().reset_index()\n",
    "\n",
    "# Merge the 'GMV 2021' column with the top_countries DataFrame\n",
    "top_countries = top_countries.merge(gmv_by_country_2021[['ID_COUNTRY', 'GMV']], how='left', on='ID_COUNTRY')\n",
    "\n",
    "# Rename the 'GMV' column to 'GMV 2021'\n",
    "top_countries = top_countries.rename(columns={'GMV': 'GMV 2021'})\n",
    "\n",
    "# Print the updated top_countries DataFrame\n",
    "print(top_countries)"
   ]
  },
  {
   "cell_type": "code",
   "execution_count": 65,
   "metadata": {},
   "outputs": [
    {
     "data": {
      "text/html": [
       "<div>\n",
       "<style scoped>\n",
       "    .dataframe tbody tr th:only-of-type {\n",
       "        vertical-align: middle;\n",
       "    }\n",
       "\n",
       "    .dataframe tbody tr th {\n",
       "        vertical-align: top;\n",
       "    }\n",
       "\n",
       "    .dataframe thead th {\n",
       "        text-align: right;\n",
       "    }\n",
       "</style>\n",
       "<table border=\"1\" class=\"dataframe\">\n",
       "  <thead>\n",
       "    <tr style=\"text-align: right;\">\n",
       "      <th></th>\n",
       "      <th>ID_COUNTRY</th>\n",
       "      <th>ID_COUNTRY_DES</th>\n",
       "      <th>COUNTRY</th>\n",
       "      <th>GMV 2022</th>\n",
       "      <th>GMV 2021</th>\n",
       "    </tr>\n",
       "  </thead>\n",
       "  <tbody>\n",
       "    <tr>\n",
       "      <th>0</th>\n",
       "      <td>223</td>\n",
       "      <td>223</td>\n",
       "      <td>United States</td>\n",
       "      <td>331623.160804</td>\n",
       "      <td>178030.624655</td>\n",
       "    </tr>\n",
       "    <tr>\n",
       "      <th>1</th>\n",
       "      <td>74</td>\n",
       "      <td>74</td>\n",
       "      <td>France</td>\n",
       "      <td>294391.336511</td>\n",
       "      <td>294354.670227</td>\n",
       "    </tr>\n",
       "    <tr>\n",
       "      <th>2</th>\n",
       "      <td>81</td>\n",
       "      <td>81</td>\n",
       "      <td>Germany</td>\n",
       "      <td>206812.037534</td>\n",
       "      <td>168631.576558</td>\n",
       "    </tr>\n",
       "    <tr>\n",
       "      <th>3</th>\n",
       "      <td>105</td>\n",
       "      <td>105</td>\n",
       "      <td>Italy</td>\n",
       "      <td>151011.623939</td>\n",
       "      <td>163211.283746</td>\n",
       "    </tr>\n",
       "    <tr>\n",
       "      <th>4</th>\n",
       "      <td>222</td>\n",
       "      <td>222</td>\n",
       "      <td>United Kingdom</td>\n",
       "      <td>113920.782297</td>\n",
       "      <td>112054.125629</td>\n",
       "    </tr>\n",
       "    <tr>\n",
       "      <th>5</th>\n",
       "      <td>195</td>\n",
       "      <td>195</td>\n",
       "      <td>Spain</td>\n",
       "      <td>108200.365991</td>\n",
       "      <td>52058.885818</td>\n",
       "    </tr>\n",
       "    <tr>\n",
       "      <th>6</th>\n",
       "      <td>14</td>\n",
       "      <td>14</td>\n",
       "      <td>Austria</td>\n",
       "      <td>61314.923629</td>\n",
       "      <td>35512.206244</td>\n",
       "    </tr>\n",
       "    <tr>\n",
       "      <th>7</th>\n",
       "      <td>203</td>\n",
       "      <td>203</td>\n",
       "      <td>Sweden</td>\n",
       "      <td>59122.997647</td>\n",
       "      <td>71673.296376</td>\n",
       "    </tr>\n",
       "    <tr>\n",
       "      <th>8</th>\n",
       "      <td>13</td>\n",
       "      <td>13</td>\n",
       "      <td>Australia</td>\n",
       "      <td>48766.991469</td>\n",
       "      <td>58877.430124</td>\n",
       "    </tr>\n",
       "    <tr>\n",
       "      <th>9</th>\n",
       "      <td>96</td>\n",
       "      <td>96</td>\n",
       "      <td>Hong Kong</td>\n",
       "      <td>46689.491656</td>\n",
       "      <td>35639.925426</td>\n",
       "    </tr>\n",
       "    <tr>\n",
       "      <th>10</th>\n",
       "      <td>57</td>\n",
       "      <td>57</td>\n",
       "      <td>Denmark</td>\n",
       "      <td>45322.611800</td>\n",
       "      <td>35487.782979</td>\n",
       "    </tr>\n",
       "    <tr>\n",
       "      <th>11</th>\n",
       "      <td>188</td>\n",
       "      <td>188</td>\n",
       "      <td>Singapore</td>\n",
       "      <td>45308.022153</td>\n",
       "      <td>38893.805977</td>\n",
       "    </tr>\n",
       "    <tr>\n",
       "      <th>12</th>\n",
       "      <td>171</td>\n",
       "      <td>171</td>\n",
       "      <td>Portugal</td>\n",
       "      <td>38290.243071</td>\n",
       "      <td>15313.389406</td>\n",
       "    </tr>\n",
       "    <tr>\n",
       "      <th>13</th>\n",
       "      <td>150</td>\n",
       "      <td>150</td>\n",
       "      <td>Netherlands</td>\n",
       "      <td>34791.440515</td>\n",
       "      <td>31266.401136</td>\n",
       "    </tr>\n",
       "    <tr>\n",
       "      <th>14</th>\n",
       "      <td>72</td>\n",
       "      <td>72</td>\n",
       "      <td>Finland</td>\n",
       "      <td>32661.908837</td>\n",
       "      <td>31910.379631</td>\n",
       "    </tr>\n",
       "    <tr>\n",
       "      <th>15</th>\n",
       "      <td>204</td>\n",
       "      <td>204</td>\n",
       "      <td>Switzerland</td>\n",
       "      <td>26209.751533</td>\n",
       "      <td>15079.120452</td>\n",
       "    </tr>\n",
       "    <tr>\n",
       "      <th>16</th>\n",
       "      <td>175</td>\n",
       "      <td>175</td>\n",
       "      <td>Romania</td>\n",
       "      <td>21930.986005</td>\n",
       "      <td>19157.274927</td>\n",
       "    </tr>\n",
       "    <tr>\n",
       "      <th>17</th>\n",
       "      <td>21</td>\n",
       "      <td>21</td>\n",
       "      <td>Belgium</td>\n",
       "      <td>21084.989843</td>\n",
       "      <td>16575.125371</td>\n",
       "    </tr>\n",
       "    <tr>\n",
       "      <th>18</th>\n",
       "      <td>84</td>\n",
       "      <td>84</td>\n",
       "      <td>Greece</td>\n",
       "      <td>17669.367371</td>\n",
       "      <td>17843.404492</td>\n",
       "    </tr>\n",
       "    <tr>\n",
       "      <th>19</th>\n",
       "      <td>56</td>\n",
       "      <td>56</td>\n",
       "      <td>Czech Republic</td>\n",
       "      <td>12929.615023</td>\n",
       "      <td>7619.477774</td>\n",
       "    </tr>\n",
       "  </tbody>\n",
       "</table>\n",
       "</div>"
      ],
      "text/plain": [
       "    ID_COUNTRY  ID_COUNTRY_DES         COUNTRY       GMV 2022       GMV 2021\n",
       "0          223             223   United States  331623.160804  178030.624655\n",
       "1           74              74          France  294391.336511  294354.670227\n",
       "2           81              81         Germany  206812.037534  168631.576558\n",
       "3          105             105           Italy  151011.623939  163211.283746\n",
       "4          222             222  United Kingdom  113920.782297  112054.125629\n",
       "5          195             195           Spain  108200.365991   52058.885818\n",
       "6           14              14         Austria   61314.923629   35512.206244\n",
       "7          203             203          Sweden   59122.997647   71673.296376\n",
       "8           13              13       Australia   48766.991469   58877.430124\n",
       "9           96              96       Hong Kong   46689.491656   35639.925426\n",
       "10          57              57         Denmark   45322.611800   35487.782979\n",
       "11         188             188       Singapore   45308.022153   38893.805977\n",
       "12         171             171        Portugal   38290.243071   15313.389406\n",
       "13         150             150     Netherlands   34791.440515   31266.401136\n",
       "14          72              72         Finland   32661.908837   31910.379631\n",
       "15         204             204     Switzerland   26209.751533   15079.120452\n",
       "16         175             175         Romania   21930.986005   19157.274927\n",
       "17          21              21         Belgium   21084.989843   16575.125371\n",
       "18          84              84          Greece   17669.367371   17843.404492\n",
       "19          56              56  Czech Republic   12929.615023    7619.477774"
      ]
     },
     "execution_count": 65,
     "metadata": {},
     "output_type": "execute_result"
    }
   ],
   "source": [
    "top_countries"
   ]
  },
  {
   "cell_type": "code",
   "execution_count": 66,
   "metadata": {},
   "outputs": [],
   "source": [
    "# top_countries['GMV Growth Rate'] = top_countries['GMV Growth Rate'].round(2).astype(str) + '%'"
   ]
  },
  {
   "cell_type": "code",
   "execution_count": 67,
   "metadata": {},
   "outputs": [],
   "source": [
    "# top_countries.to_csv('/Users/leenaomrani/Desktop/vestiaire_case/csv_files/top_countries.csv')"
   ]
  },
  {
   "cell_type": "code",
   "execution_count": 68,
   "metadata": {},
   "outputs": [
    {
     "name": "stdout",
     "output_type": "stream",
     "text": [
      "    ID_COUNTRY  ID_COUNTRY_DES         COUNTRY            GMV\n",
      "50         223             223   United States  331623.160804\n",
      "12          74              74          France  294391.336511\n",
      "13          81              81         Germany  206812.037534\n",
      "19         105             105           Italy  151011.623939\n",
      "49         222             222  United Kingdom  113920.782297\n",
      "43         195             195           Spain  108200.365991\n",
      "1           14              14         Austria   61314.923629\n",
      "44         203             203          Sweden   59122.997647\n",
      "0           13              13       Australia   48766.991469\n",
      "15          96              96       Hong Kong   46689.491656\n",
      "9           57              57         Denmark   45322.611800\n",
      "39         188             188       Singapore   45308.022153\n",
      "35         171             171        Portugal   38290.243071\n",
      "30         150             150     Netherlands   34791.440515\n",
      "11          72              72         Finland   32661.908837\n",
      "45         204             204     Switzerland   26209.751533\n",
      "37         175             175         Romania   21930.986005\n",
      "2           21              21         Belgium   21084.989843\n",
      "14          84              84          Greece   17669.367371\n",
      "8           56              56  Czech Republic   12929.615023\n"
     ]
    }
   ],
   "source": [
    "# growth rate of the top 20 countries with the highest GMV \n",
    "temporary_table['DATE_PAYMENT'] = pd.to_datetime(temporary_table['DATE_PAYMENT'])\n",
    "\n",
    "# Filter the data for the year 2022\n",
    "temporary_table_2022 = temporary_table[temporary_table['DATE_PAYMENT'].dt.year == 2022]\n",
    "\n",
    "# Group the data by country and calculate the total GMV\n",
    "gmv_by_country = temporary_table_2022.groupby(['ID_COUNTRY','ID_COUNTRY_DES','COUNTRY'])['GMV'].sum().reset_index()\n",
    "\n",
    "# Sort the data in descending order based on GMV\n",
    "sorted_gmv = gmv_by_country.sort_values('GMV', ascending=False)\n",
    "\n",
    "# Select the top countries with the highest GMV\n",
    "top_countries = sorted_gmv.head(20)  # Selecting the top 10 countries\n",
    "\n",
    "# Print the top countries\n",
    "print(top_countries)\n"
   ]
  },
  {
   "cell_type": "code",
   "execution_count": 69,
   "metadata": {},
   "outputs": [
    {
     "data": {
      "text/html": [
       "<div>\n",
       "<style scoped>\n",
       "    .dataframe tbody tr th:only-of-type {\n",
       "        vertical-align: middle;\n",
       "    }\n",
       "\n",
       "    .dataframe tbody tr th {\n",
       "        vertical-align: top;\n",
       "    }\n",
       "\n",
       "    .dataframe thead th {\n",
       "        text-align: right;\n",
       "    }\n",
       "</style>\n",
       "<table border=\"1\" class=\"dataframe\">\n",
       "  <thead>\n",
       "    <tr style=\"text-align: right;\">\n",
       "      <th></th>\n",
       "      <th>ID_COUNTRY</th>\n",
       "      <th>ID_COUNTRY_DES</th>\n",
       "      <th>GMV</th>\n",
       "      <th>DATE_PAYMENT</th>\n",
       "      <th>COUNTRY</th>\n",
       "      <th>GMV 2022</th>\n",
       "    </tr>\n",
       "  </thead>\n",
       "  <tbody>\n",
       "    <tr>\n",
       "      <th>14</th>\n",
       "      <td>74</td>\n",
       "      <td>74</td>\n",
       "      <td>23.787500</td>\n",
       "      <td>2022-02-16</td>\n",
       "      <td>France</td>\n",
       "      <td>23.787500</td>\n",
       "    </tr>\n",
       "    <tr>\n",
       "      <th>19</th>\n",
       "      <td>74</td>\n",
       "      <td>74</td>\n",
       "      <td>369.900000</td>\n",
       "      <td>2022-09-21</td>\n",
       "      <td>France</td>\n",
       "      <td>369.900000</td>\n",
       "    </tr>\n",
       "    <tr>\n",
       "      <th>28</th>\n",
       "      <td>74</td>\n",
       "      <td>74</td>\n",
       "      <td>818.900000</td>\n",
       "      <td>2022-09-14</td>\n",
       "      <td>France</td>\n",
       "      <td>818.900000</td>\n",
       "    </tr>\n",
       "    <tr>\n",
       "      <th>29</th>\n",
       "      <td>74</td>\n",
       "      <td>74</td>\n",
       "      <td>174.900000</td>\n",
       "      <td>2022-12-15</td>\n",
       "      <td>France</td>\n",
       "      <td>174.900000</td>\n",
       "    </tr>\n",
       "    <tr>\n",
       "      <th>53</th>\n",
       "      <td>74</td>\n",
       "      <td>74</td>\n",
       "      <td>1675.000000</td>\n",
       "      <td>2022-07-14</td>\n",
       "      <td>France</td>\n",
       "      <td>1675.000000</td>\n",
       "    </tr>\n",
       "    <tr>\n",
       "      <th>...</th>\n",
       "      <td>...</td>\n",
       "      <td>...</td>\n",
       "      <td>...</td>\n",
       "      <td>...</td>\n",
       "      <td>...</td>\n",
       "      <td>...</td>\n",
       "    </tr>\n",
       "    <tr>\n",
       "      <th>26977</th>\n",
       "      <td>221</td>\n",
       "      <td>221</td>\n",
       "      <td>352.470000</td>\n",
       "      <td>2022-12-17</td>\n",
       "      <td>United Arab Emirates</td>\n",
       "      <td>352.470000</td>\n",
       "    </tr>\n",
       "    <tr>\n",
       "      <th>26984</th>\n",
       "      <td>168</td>\n",
       "      <td>168</td>\n",
       "      <td>3272.833908</td>\n",
       "      <td>2022-07-12</td>\n",
       "      <td>Philippines</td>\n",
       "      <td>3272.833908</td>\n",
       "    </tr>\n",
       "    <tr>\n",
       "      <th>26987</th>\n",
       "      <td>168</td>\n",
       "      <td>168</td>\n",
       "      <td>5474.341570</td>\n",
       "      <td>2022-07-12</td>\n",
       "      <td>Philippines</td>\n",
       "      <td>5474.341570</td>\n",
       "    </tr>\n",
       "    <tr>\n",
       "      <th>26992</th>\n",
       "      <td>209</td>\n",
       "      <td>209</td>\n",
       "      <td>284.951823</td>\n",
       "      <td>2022-12-18</td>\n",
       "      <td>Thailand</td>\n",
       "      <td>284.951823</td>\n",
       "    </tr>\n",
       "    <tr>\n",
       "      <th>26995</th>\n",
       "      <td>209</td>\n",
       "      <td>209</td>\n",
       "      <td>353.644991</td>\n",
       "      <td>2022-12-26</td>\n",
       "      <td>Thailand</td>\n",
       "      <td>353.644991</td>\n",
       "    </tr>\n",
       "  </tbody>\n",
       "</table>\n",
       "<p>5944 rows × 6 columns</p>\n",
       "</div>"
      ],
      "text/plain": [
       "       ID_COUNTRY  ID_COUNTRY_DES          GMV DATE_PAYMENT  \\\n",
       "14             74              74    23.787500   2022-02-16   \n",
       "19             74              74   369.900000   2022-09-21   \n",
       "28             74              74   818.900000   2022-09-14   \n",
       "29             74              74   174.900000   2022-12-15   \n",
       "53             74              74  1675.000000   2022-07-14   \n",
       "...           ...             ...          ...          ...   \n",
       "26977         221             221   352.470000   2022-12-17   \n",
       "26984         168             168  3272.833908   2022-07-12   \n",
       "26987         168             168  5474.341570   2022-07-12   \n",
       "26992         209             209   284.951823   2022-12-18   \n",
       "26995         209             209   353.644991   2022-12-26   \n",
       "\n",
       "                    COUNTRY     GMV 2022  \n",
       "14                   France    23.787500  \n",
       "19                   France   369.900000  \n",
       "28                   France   818.900000  \n",
       "29                   France   174.900000  \n",
       "53                   France  1675.000000  \n",
       "...                     ...          ...  \n",
       "26977  United Arab Emirates   352.470000  \n",
       "26984           Philippines  3272.833908  \n",
       "26987           Philippines  5474.341570  \n",
       "26992              Thailand   284.951823  \n",
       "26995              Thailand   353.644991  \n",
       "\n",
       "[5944 rows x 6 columns]"
      ]
     },
     "execution_count": 69,
     "metadata": {},
     "output_type": "execute_result"
    }
   ],
   "source": [
    "temporary_table_2022 = temporary_table[temporary_table['DATE_PAYMENT'].dt.year == 2022]\n",
    "temporary_table_2022\n"
   ]
  },
  {
   "cell_type": "code",
   "execution_count": 70,
   "metadata": {},
   "outputs": [
    {
     "name": "stdout",
     "output_type": "stream",
     "text": [
      "GMV growth rate for Portugal from 2021 to 2022: 150.04%\n",
      "GMV growth rate for Spain from 2021 to 2022: 107.84%\n",
      "GMV growth rate for United States from 2021 to 2022: 86.27%\n",
      "GMV growth rate for Switzerland from 2021 to 2022: 73.81%\n",
      "GMV growth rate for Austria from 2021 to 2022: 72.66%\n",
      "GMV growth rate for Czech Republic from 2021 to 2022: 69.69%\n",
      "GMV growth rate for Hong Kong from 2021 to 2022: 31.00%\n",
      "GMV growth rate for Denmark from 2021 to 2022: 27.71%\n",
      "GMV growth rate for Belgium from 2021 to 2022: 27.21%\n",
      "GMV growth rate for Germany from 2021 to 2022: 22.64%\n",
      "GMV growth rate for Singapore from 2021 to 2022: 16.49%\n",
      "GMV growth rate for Romania from 2021 to 2022: 14.48%\n",
      "GMV growth rate for Netherlands from 2021 to 2022: 11.27%\n",
      "GMV growth rate for Finland from 2021 to 2022: 2.36%\n",
      "GMV growth rate for United Kingdom from 2021 to 2022: 1.67%\n",
      "GMV growth rate for France from 2021 to 2022: 0.01%\n",
      "GMV growth rate for Greece from 2021 to 2022: -0.98%\n",
      "GMV growth rate for Italy from 2021 to 2022: -7.47%\n",
      "GMV growth rate for Australia from 2021 to 2022: -17.17%\n",
      "GMV growth rate for Sweden from 2021 to 2022: -17.51%\n"
     ]
    }
   ],
   "source": [
    "temporary_table['DATE_PAYMENT'] = pd.to_datetime(temporary_table['DATE_PAYMENT'])\n",
    "\n",
    "# Filter the data for the year 2022\n",
    "temporary_table_2022 = temporary_table[temporary_table['DATE_PAYMENT'].dt.year == 2022]\n",
    "\n",
    "# Group the data by country and calculate the total GMV\n",
    "gmv_by_country = temporary_table_2022.groupby(['ID_COUNTRY', 'ID_COUNTRY_DES', 'COUNTRY'])['GMV'].sum().reset_index()\n",
    "\n",
    "# Sort the data in descending order based on GMV\n",
    "sorted_gmv = gmv_by_country.sort_values('GMV', ascending=False)\n",
    "\n",
    "# Select the top countries with the highest GMV\n",
    "top_countries = sorted_gmv.head(20)  # Selecting the top 20 countries\n",
    "\n",
    "# Calculate the growth rate for each of the top countries between 2021 and 2022\n",
    "country_growth_rates = {}\n",
    "for index, row in top_countries.iterrows():\n",
    "    country = row['COUNTRY']\n",
    "    gmv_2021 = temporary_table[(temporary_table['COUNTRY'] == country) & (temporary_table['DATE_PAYMENT'].dt.year == 2021)]['GMV'].sum()\n",
    "    gmv_2022 = row['GMV']\n",
    "    growth_rate = (gmv_2022 - gmv_2021) / gmv_2021 * 100\n",
    "    country_growth_rates[country] = growth_rate\n",
    "\n",
    "# Sort the country_growth_rates dictionary by growth rate in descending order\n",
    "sorted_growth_rates = sorted(country_growth_rates.items(), key=lambda x: x[1], reverse=True)\n",
    "\n",
    "# Print the growth rate for each of the top countries\n",
    "for country, growth_rate in sorted_growth_rates:\n",
    "    print(f\"GMV growth rate for {country} from 2021 to 2022: {growth_rate:.2f}%\")\n"
   ]
  },
  {
   "cell_type": "code",
   "execution_count": 71,
   "metadata": {},
   "outputs": [
    {
     "name": "stdout",
     "output_type": "stream",
     "text": [
      "GMV growth evolution for United States from 2021 to 2022: 153592.54\n",
      "GMV growth evolution for Spain from 2021 to 2022: 56141.48\n",
      "GMV growth evolution for Germany from 2021 to 2022: 38180.46\n",
      "GMV growth evolution for Austria from 2021 to 2022: 25802.72\n",
      "GMV growth evolution for Portugal from 2021 to 2022: 22976.85\n",
      "GMV growth evolution for Switzerland from 2021 to 2022: 11130.63\n",
      "GMV growth evolution for Hong Kong from 2021 to 2022: 11049.57\n",
      "GMV growth evolution for Denmark from 2021 to 2022: 9834.83\n",
      "GMV growth evolution for Singapore from 2021 to 2022: 6414.22\n",
      "GMV growth evolution for Czech Republic from 2021 to 2022: 5310.14\n",
      "GMV growth evolution for Belgium from 2021 to 2022: 4509.86\n",
      "GMV growth evolution for Netherlands from 2021 to 2022: 3525.04\n",
      "GMV growth evolution for Romania from 2021 to 2022: 2773.71\n",
      "GMV growth evolution for United Kingdom from 2021 to 2022: 1866.66\n",
      "GMV growth evolution for Finland from 2021 to 2022: 751.53\n",
      "GMV growth evolution for France from 2021 to 2022: 36.67\n",
      "GMV growth evolution for Greece from 2021 to 2022: -174.04\n",
      "GMV growth evolution for Australia from 2021 to 2022: -10110.44\n",
      "GMV growth evolution for Italy from 2021 to 2022: -12199.66\n",
      "GMV growth evolution for Sweden from 2021 to 2022: -12550.30\n"
     ]
    }
   ],
   "source": [
    "# GMV \n",
    "temporary_table['DATE_PAYMENT'] = pd.to_datetime(temporary_table['DATE_PAYMENT'])\n",
    "\n",
    "# Filter the data for the year 2022\n",
    "temporary_table_2022 = temporary_table[temporary_table['DATE_PAYMENT'].dt.year == 2022]\n",
    "\n",
    "# Group the data by country and calculate the total GMV\n",
    "gmv_by_country = temporary_table_2022.groupby(['ID_COUNTRY', 'ID_COUNTRY_DES', 'COUNTRY'])['GMV'].sum().reset_index()\n",
    "\n",
    "# Sort the data in descending order based on GMV\n",
    "sorted_gmv = gmv_by_country.sort_values('GMV', ascending=False)\n",
    "\n",
    "# Select the top countries with the highest GMV\n",
    "top_countries = sorted_gmv.head(20)  # Selecting the top 20 countries\n",
    "\n",
    "# Calculate the growth rate for each of the top countries between 2021 and 2022\n",
    "country_growth_rates = {}\n",
    "for index, row in top_countries.iterrows():\n",
    "    country = row['COUNTRY']\n",
    "    gmv_2021 = temporary_table[(temporary_table['COUNTRY'] == country) & (temporary_table['DATE_PAYMENT'].dt.year == 2021)]['GMV'].sum()\n",
    "    gmv_2022 = row['GMV']\n",
    "    growth_rate = (gmv_2022 - gmv_2021)\n",
    "    country_growth_rates[country] = growth_rate\n",
    "\n",
    "# Sort the country_growth_rates dictionary by growth rate in descending order\n",
    "sorted_growth_rates = sorted(country_growth_rates.items(), key=lambda x: x[1], reverse=True)\n",
    "\n",
    "# Print the growth rate for each of the top countries\n",
    "for country, growth_rate in sorted_growth_rates:\n",
    "    print(f\"GMV growth evolution for {country} from 2021 to 2022: {growth_rate:.2f}\")\n",
    "\n",
    "    # what drove the evolution \n"
   ]
  },
  {
   "attachments": {},
   "cell_type": "markdown",
   "metadata": {},
   "source": [
    "## Growth of GMB by country 2022 vs 2021"
   ]
  },
  {
   "attachments": {},
   "cell_type": "markdown",
   "metadata": {},
   "source": [
    "### general growth from 2021 to 2022 \n"
   ]
  },
  {
   "cell_type": "code",
   "execution_count": 72,
   "metadata": {},
   "outputs": [
    {
     "name": "stdout",
     "output_type": "stream",
     "text": [
      "GMV growth rate from 2021 to 2022: 16.07%\n"
     ]
    }
   ],
   "source": [
    "merged_df['DATE_PAYMENT'] = pd.to_datetime(merged_df['DATE_PAYMENT'])\n",
    "\n",
    "# Filter the data for the years 2021 and 2022\n",
    "merged_df_2021_2022 = merged_df[merged_df['DATE_PAYMENT'].dt.year.isin([2021, 2022])]\n",
    "\n",
    "# Group the data by year and calculate the total GMV\n",
    "gmv_by_year = merged_df_2021_2022.groupby(merged_df_2021_2022['DATE_PAYMENT'].dt.year)['GMV'].sum()\n",
    "\n",
    "# Calculate the growth rate between 2021 and 2022\n",
    "gmv_growth_rate = (gmv_by_year.loc[2022] - gmv_by_year.loc[2021]) / gmv_by_year.loc[2021] * 100\n",
    "\n",
    "# Print the growth rate\n",
    "print(f\"GMV growth rate from 2021 to 2022: {gmv_growth_rate:.2f}%\")"
   ]
  },
  {
   "cell_type": "code",
   "execution_count": 73,
   "metadata": {},
   "outputs": [
    {
     "name": "stdout",
     "output_type": "stream",
     "text": [
      "GMV growth from 2021 to 2022: 251886.21\n"
     ]
    }
   ],
   "source": [
    "merged_df['DATE_PAYMENT'] = pd.to_datetime(merged_df['DATE_PAYMENT'])\n",
    "\n",
    "# Filter the data for the years 2021 and 2022\n",
    "merged_df_2021_2022 = merged_df[merged_df['DATE_PAYMENT'].dt.year.isin([2021, 2022])]\n",
    "\n",
    "# Group the data by year and calculate the total GMV\n",
    "gmv_by_year = merged_df_2021_2022.groupby(merged_df_2021_2022['DATE_PAYMENT'].dt.year)['GMV'].sum()\n",
    "\n",
    "# Calculate the growth rate between 2021 and 2022\n",
    "gmv_growth_rate = (gmv_by_year.loc[2022] - gmv_by_year.loc[2021]) \n",
    "\n",
    "# Print the growth rate\n",
    "print(f\"GMV growth from 2021 to 2022: {gmv_growth_rate:.2f}\")"
   ]
  },
  {
   "cell_type": "code",
   "execution_count": 74,
   "metadata": {},
   "outputs": [
    {
     "name": "stdout",
     "output_type": "stream",
     "text": [
      " Total GMV in 2021 is DATE_PAYMENT\n",
      "2021   1,567,321\n",
      "Name: GMV, dtype: float64\n"
     ]
    }
   ],
   "source": [
    "## GMV  VALUE 2021\n",
    "\n",
    "merged_df['DATE_PAYMENT']= pd.to_datetime(merged_df['DATE_PAYMENT'])\n",
    "\n",
    "merged_df_2021 = merged_df[merged_df['DATE_PAYMENT'].dt.year.isin([2021])]\n",
    "\n",
    "gmv_by_year = merged_df_2021.groupby(merged_df_2021['DATE_PAYMENT'].dt.year)['GMV'].sum()\n",
    "\n",
    "pd.options.display.float_format = '{:,.0f}'.format\n",
    "\n",
    "\n",
    "print(f\" Total GMV in 2021 is {gmv_by_year}\")"
   ]
  },
  {
   "cell_type": "code",
   "execution_count": 75,
   "metadata": {},
   "outputs": [
    {
     "name": "stdout",
     "output_type": "stream",
     "text": [
      "Total GMV in 2022 is DATE_PAYMENT\n",
      "2022   1,819,207\n",
      "Name: GMV, dtype: float64\n"
     ]
    }
   ],
   "source": [
    "## GMV VALUE 2022\n",
    "\n",
    "merged_df['DATE_PAYMENT']= pd.to_datetime(merged_df['DATE_PAYMENT'])\n",
    "\n",
    "merged_df_2022 = merged_df[merged_df['DATE_PAYMENT'].dt.year.isin([2022])]\n",
    "\n",
    "gmv_by_year = merged_df_2022.groupby(merged_df_2022['DATE_PAYMENT'].dt.year)['GMV'].sum()\n",
    "\n",
    "pd.options.display.float_format = '{:,.0f}'.format\n",
    "\n",
    "print(f\"Total GMV in 2022 is {gmv_by_year}\")"
   ]
  },
  {
   "attachments": {},
   "cell_type": "markdown",
   "metadata": {},
   "source": [
    "## Growth rate \n"
   ]
  },
  {
   "cell_type": "code",
   "execution_count": 76,
   "metadata": {},
   "outputs": [
    {
     "name": "stdout",
     "output_type": "stream",
     "text": [
      "ID_COUNTRY\n",
      "168   6,782\n",
      "173   3,396\n",
      "114     568\n",
      "184     413\n",
      "206     355\n",
      "141     224\n",
      "193     201\n",
      "171     150\n",
      "153     139\n",
      "38      122\n",
      "195     108\n",
      "221     105\n",
      "223      86\n",
      "204      74\n",
      "33       73\n",
      "14       73\n",
      "56       70\n",
      "129      52\n",
      "117      38\n",
      "113      34\n",
      "96       31\n",
      "170      30\n",
      "57       28\n",
      "21       27\n",
      "81       23\n",
      "188      16\n",
      "175      14\n",
      "150      11\n",
      "72        2\n",
      "222       2\n",
      "74        0\n",
      "84       -1\n",
      "105      -7\n",
      "13      -17\n",
      "203     -18\n",
      "123     -21\n",
      "138     -29\n",
      "190     -38\n",
      "103     -38\n",
      "107     -41\n",
      "67      -44\n",
      "44      -47\n",
      "189     -48\n",
      "132     -59\n",
      "104     -60\n",
      "55      -76\n",
      "97      -78\n",
      "124     -90\n",
      "53      -93\n",
      "87      NaN\n",
      "100     NaN\n",
      "122     NaN\n",
      "160     NaN\n",
      "209     NaN\n",
      "248     NaN\n",
      "dtype: float64\n"
     ]
    }
   ],
   "source": [
    "merged_df['DATE_PAYMENT'] = pd.to_datetime(merged_df['DATE_PAYMENT'])\n",
    "\n",
    "# Filter the data for the years 2021 and 2022\n",
    "merged_df_2021_2022 = merged_df[merged_df['DATE_PAYMENT'].dt.year.isin([2021, 2022])]\n",
    "\n",
    "# Group the data by country and year, and calculate the total GMV\n",
    "gmv_by_country_year = merged_df_2021_2022.groupby(['ID_COUNTRY', 'COUNTRY',merged_df_2021_2022['DATE_PAYMENT'].dt.year])['GMV'].sum().reset_index()\n",
    "\n",
    "# Pivot the data to have the years as columns and countries as rows\n",
    "pivot_table = gmv_by_country_year.pivot(index='ID_COUNTRY' ,columns='DATE_PAYMENT', values='GMV')\n",
    "\n",
    "# Calculate the growth rate for each country between 2021 and 2022\n",
    "growth_rate = (pivot_table[2022] - pivot_table[2021]) / pivot_table[2021] * 100\n",
    "\n",
    "# Sort the growth rates in descending order\n",
    "sorted_growth_rate = growth_rate.sort_values(ascending=False)\n",
    "\n",
    "# Print the growth rate for each country\n",
    "print(sorted_growth_rate)"
   ]
  },
  {
   "cell_type": "code",
   "execution_count": 77,
   "metadata": {},
   "outputs": [
    {
     "name": "stdout",
     "output_type": "stream",
     "text": [
      "[2018. 2021. 2023. 2020. 2016. 2014. 2022. 2012. 2017. 2015. 2019.   nan\n",
      " 2011. 2013. 2010.]\n"
     ]
    }
   ],
   "source": [
    "print(merged_df['DATE_PAYMENT'].dt.year.unique())\n"
   ]
  },
  {
   "cell_type": "code",
   "execution_count": 78,
   "metadata": {},
   "outputs": [],
   "source": [
    "# Group the data by country and year and calculate the total GMV\n",
    "gmv_by_country_year = merged_df_2021_2022.groupby(['COUNTRY', merged_df_2021_2022['DATE_PAYMENT'].dt.year])['GMV'].sum()\n"
   ]
  },
  {
   "cell_type": "code",
   "execution_count": 79,
   "metadata": {},
   "outputs": [
    {
     "name": "stdout",
     "output_type": "stream",
     "text": [
      "No data available for Norway in 2021.\n",
      "No data available for Guadeloupe in 2021.\n",
      "No data available for Liechtenstein in 2021.\n",
      "No data available for Indonesia in 2021.\n",
      "No data available for Guernsey in 2021.\n",
      "No data available for Thailand in 2021.\n",
      "GMV growth rate for France from 2021 to 2022: 0.01%\n",
      "GMV growth rate for Austria from 2021 to 2022: 72.66%\n",
      "GMV growth rate for United Kingdom from 2021 to 2022: 1.67%\n",
      "GMV growth rate for United States from 2021 to 2022: 86.27%\n",
      "GMV growth rate for Finland from 2021 to 2022: 2.36%\n",
      "GMV growth rate for Italy from 2021 to 2022: -7.47%\n",
      "GMV growth rate for Germany from 2021 to 2022: 22.64%\n",
      "GMV growth rate for Ireland from 2021 to 2022: -38.47%\n",
      "GMV growth rate for Hong Kong from 2021 to 2022: 31.00%\n",
      "GMV growth rate for Spain from 2021 to 2022: 107.84%\n",
      "GMV growth rate for Czech Republic from 2021 to 2022: 69.69%\n",
      "GMV growth rate for Romania from 2021 to 2022: 14.48%\n",
      "GMV growth rate for Denmark from 2021 to 2022: 27.71%\n",
      "GMV growth rate for Sweden from 2021 to 2022: -17.51%\n",
      "GMV growth rate for Australia from 2021 to 2022: -17.17%\n",
      "GMV growth rate for Croatia from 2021 to 2022: -93.22%\n",
      "GMV growth rate for Latvia from 2021 to 2022: 38.01%\n",
      "GMV growth rate for Switzerland from 2021 to 2022: 73.81%\n",
      "GMV growth rate for Poland from 2021 to 2022: 30.49%\n",
      "GMV growth rate for Belgium from 2021 to 2022: 27.21%\n",
      "GMV growth rate for Singapore from 2021 to 2022: 16.49%\n",
      "GMV growth rate for Luxembourg from 2021 to 2022: -90.27%\n",
      "GMV growth rate for Greece from 2021 to 2022: -0.98%\n",
      "GMV growth rate for Netherlands from 2021 to 2022: 11.27%\n",
      "GMV growth rate for Canada from 2021 to 2022: 121.91%\n",
      "GMV growth rate for Japan from 2021 to 2022: -40.62%\n",
      "GMV growth rate for Slovenia from 2021 to 2022: -37.66%\n",
      "GMV growth rate for Portugal from 2021 to 2022: 150.04%\n",
      "GMV growth rate for China from 2021 to 2022: -46.59%\n",
      "GMV growth rate for Monaco from 2021 to 2022: 224.23%\n",
      "GMV growth rate for Cyprus from 2021 to 2022: -76.42%\n",
      "GMV growth rate for Lithuania from 2021 to 2022: -20.73%\n",
      "GMV growth rate for Slovakia from 2021 to 2022: -47.83%\n",
      "GMV growth rate for Hungary from 2021 to 2022: -78.02%\n",
      "GMV growth rate for New Zealand from 2021 to 2022: 139.41%\n",
      "GMV growth rate for Malaysia from 2021 to 2022: 51.73%\n",
      "GMV growth rate for Taiwan from 2021 to 2022: 355.04%\n",
      "GMV growth rate for Malta from 2021 to 2022: -58.66%\n",
      "GMV growth rate for Korea (Republic of) from 2021 to 2022: 33.69%\n",
      "GMV growth rate for Bulgaria from 2021 to 2022: 73.49%\n",
      "GMV growth rate for Kuwait from 2021 to 2022: 568.08%\n",
      "GMV growth rate for Saudi Arabia from 2021 to 2022: 412.87%\n",
      "GMV growth rate for Estonia from 2021 to 2022: -44.10%\n",
      "GMV growth rate for South Africa from 2021 to 2022: 200.98%\n",
      "GMV growth rate for Qatar from 2021 to 2022: 3395.68%\n",
      "GMV growth rate for Mexico from 2021 to 2022: -29.22%\n",
      "GMV growth rate for Israel from 2021 to 2022: -60.31%\n",
      "GMV growth rate for United Arab Emirates from 2021 to 2022: 104.55%\n",
      "GMV growth rate for Philippines from 2021 to 2022: 6781.95%\n"
     ]
    }
   ],
   "source": [
    "# Here we can see the growth rate from 2021 to 2022 per Country\n",
    "\n",
    "gmv_by_country_year = merged_df_2021_2022.groupby(['COUNTRY', merged_df_2021_2022['DATE_PAYMENT'].dt.year])['GMV'].sum()\n",
    "\n",
    "# Calculate the growth rate for each country between 2021 and 2022\n",
    "country_growth_rates = {}\n",
    "countries = merged_df_2021_2022['COUNTRY'].unique()\n",
    "\n",
    "for country in countries:\n",
    "    try:\n",
    "        gmv_2021 = gmv_by_country_year.loc[(country, 2021)]\n",
    "        gmv_2022 = gmv_by_country_year.loc[(country, 2022)]\n",
    "        growth_rate = (gmv_2022 - gmv_2021) / gmv_2021 * 100\n",
    "        country_growth_rates[country] = growth_rate\n",
    "    except KeyError:\n",
    "        print(f\"No data available for {country} in 2021.\")\n",
    "\n",
    "# Print the growth rate for each country\n",
    "for country, growth_rate in country_growth_rates.items():\n",
    "    print(f\"GMV growth rate for {country} from 2021 to 2022: {growth_rate:.2f}%\")\n"
   ]
  },
  {
   "cell_type": "code",
   "execution_count": 80,
   "metadata": {},
   "outputs": [
    {
     "name": "stdout",
     "output_type": "stream",
     "text": [
      "No data available for Norway in 2021.\n",
      "No data available for Guadeloupe in 2021.\n",
      "No data available for Liechtenstein in 2021.\n",
      "No data available for Indonesia in 2021.\n",
      "No data available for Guernsey in 2021.\n",
      "No data available for Thailand in 2021.\n",
      "GMV growth rate for Philippines from 2021 to 2022: 6781.95%\n",
      "GMV growth rate for Qatar from 2021 to 2022: 3395.68%\n",
      "GMV growth rate for Kuwait from 2021 to 2022: 568.08%\n",
      "GMV growth rate for Saudi Arabia from 2021 to 2022: 412.87%\n",
      "GMV growth rate for Taiwan from 2021 to 2022: 355.04%\n",
      "GMV growth rate for Monaco from 2021 to 2022: 224.23%\n",
      "GMV growth rate for South Africa from 2021 to 2022: 200.98%\n",
      "GMV growth rate for Portugal from 2021 to 2022: 150.04%\n",
      "GMV growth rate for New Zealand from 2021 to 2022: 139.41%\n",
      "GMV growth rate for Canada from 2021 to 2022: 121.91%\n",
      "GMV growth rate for Spain from 2021 to 2022: 107.84%\n",
      "GMV growth rate for United Arab Emirates from 2021 to 2022: 104.55%\n",
      "GMV growth rate for United States from 2021 to 2022: 86.27%\n",
      "GMV growth rate for Switzerland from 2021 to 2022: 73.81%\n",
      "GMV growth rate for Bulgaria from 2021 to 2022: 73.49%\n"
     ]
    }
   ],
   "source": [
    "# Here is the growth rate for the top 15 countries with the highest GMV \n",
    "gmv_by_country_year = merged_df_2021_2022.groupby(['COUNTRY', merged_df_2021_2022['DATE_PAYMENT'].dt.year])['GMV'].sum()\n",
    "\n",
    "# Calculate the growth rate for each country between 2021 and 2022\n",
    "country_growth_rates = {}\n",
    "countries = merged_df_2021_2022['COUNTRY'].unique()\n",
    "\n",
    "for country in countries:\n",
    "    try:\n",
    "        gmv_2021 = gmv_by_country_year.loc[(country, 2021)]\n",
    "        gmv_2022 = gmv_by_country_year.loc[(country, 2022)]\n",
    "        growth_rate = (gmv_2022 - gmv_2021) / gmv_2021 * 100\n",
    "        country_growth_rates[country] = growth_rate\n",
    "    except KeyError:\n",
    "        print(f\"No data available for {country} in 2021.\")\n",
    "\n",
    "# Sort the country_growth_rates dictionary by growth rate in descending order\n",
    "sorted_growth_rates = sorted(country_growth_rates.items(), key=lambda x: x[1], reverse=True)\n",
    "\n",
    "# Display the top 15 countries with the highest growth rates\n",
    "top_15_countries = sorted_growth_rates[:15]\n",
    "\n",
    "# Print the growth rate for each of the top 15 countries\n",
    "for country, growth_rate in top_15_countries:\n",
    "    print(f\"GMV growth rate for {country} from 2021 to 2022: {growth_rate:.2f}%\")"
   ]
  },
  {
   "cell_type": "code",
   "execution_count": 81,
   "metadata": {},
   "outputs": [
    {
     "data": {
      "image/png": "[encoded data removed]",
      "text/plain": [
       "<Figure size 864x432 with 1 Axes>"
      ]
     },
     "metadata": {
      "needs_background": "light"
     },
     "output_type": "display_data"
    }
   ],
   "source": [
    "import matplotlib.pyplot as plt\n",
    "\n",
    "# Sort the country_growth_rates dictionary by growth rate in descending order\n",
    "sorted_growth_rates = sorted(country_growth_rates.items(), key=lambda x: x[1], reverse=True)\n",
    "\n",
    "# Get the top 15 countries with the highest growth rates\n",
    "top_15_countries = sorted_growth_rates[:15]\n",
    "\n",
    "# Extract the country names and growth rates\n",
    "countries = [country for country, _ in top_15_countries]\n",
    "growth_rates = [growth_rate for _, growth_rate in top_15_countries]\n",
    "\n",
    "# Plot the bar chart\n",
    "plt.figure(figsize=(12, 6))\n",
    "plt.bar(countries, growth_rates)\n",
    "plt.xlabel('Country')\n",
    "plt.ylabel('GMV Growth Rate')\n",
    "plt.title('GMV Growth Rate by Country (2021 to 2022)')\n",
    "\n",
    "# Rotate the x-axis labels for better readability\n",
    "plt.xticks(rotation=45, ha='right')\n",
    "\n",
    "# Display the growth rate values on top of each bar\n",
    "for i, v in enumerate(growth_rates):\n",
    "    plt.text(i, v, f'{v:.2f}%', ha='center', va='bottom')\n",
    "\n",
    "# Show the plot\n",
    "plt.tight_layout()\n",
    "plt.show()"
   ]
  },
  {
   "cell_type": "code",
   "execution_count": 82,
   "metadata": {},
   "outputs": [
    {
     "name": "stdout",
     "output_type": "stream",
     "text": [
      "No data available for Norway in 2021.\n",
      "No data available for Guadeloupe in 2021.\n",
      "No data available for Liechtenstein in 2021.\n",
      "No data available for Indonesia in 2021.\n",
      "No data available for Guernsey in 2021.\n",
      "No data available for Thailand in 2021.\n"
     ]
    },
    {
     "data": {
      "image/png": "[encoded data removed]",
      "text/plain": [
       "<Figure size 864x432 with 1 Axes>"
      ]
     },
     "metadata": {
      "needs_background": "light"
     },
     "output_type": "display_data"
    }
   ],
   "source": [
    "import pandas as pd\n",
    "import matplotlib.pyplot as plt\n",
    "\n",
    "# Calculate the growth rate for each country between 2021 and 2022\n",
    "country_growth_rates = {}\n",
    "countries = merged_df_2021_2022['COUNTRY'].unique()\n",
    "\n",
    "for country in countries:\n",
    "    try:\n",
    "        gmv_2021 = gmv_by_country_year.loc[(country, 2021)]\n",
    "        gmv_2022 = gmv_by_country_year.loc[(country, 2022)]\n",
    "        growth_rate = (gmv_2022 - gmv_2021) / gmv_2021 * 100\n",
    "        country_growth_rates[country] = growth_rate\n",
    "    except KeyError:\n",
    "        print(f\"No data available for {country} in 2021.\")\n",
    "\n",
    "# Sort the country_growth_rates dictionary by growth rate in descending order\n",
    "sorted_growth_rates = sorted(country_growth_rates.items(), key=lambda x: x[1], reverse=True)\n",
    "\n",
    "# Get the top 15 countries with the highest growth rates\n",
    "top_15_countries = sorted_growth_rates[:15]\n",
    "\n",
    "# Extract the country names and growth rates\n",
    "countries = [country for country, _ in top_15_countries]\n",
    "growth_rates = [growth_rate for _, growth_rate in top_15_countries]\n",
    "\n",
    "# Plot the bar chart\n",
    "plt.figure(figsize=(12, 6))\n",
    "plt.bar(countries, growth_rates)\n",
    "plt.xlabel('Country')\n",
    "plt.ylabel('GMV Growth Rate')\n",
    "plt.title('GMV Growth Rate by Country (2021 to 2022)')\n",
    "\n",
    "# Rotate the x-axis labels for better readability\n",
    "plt.xticks(rotation=45, ha='right')\n",
    "\n",
    "# Display the growth rate values on top of each bar\n",
    "for i, v in enumerate(growth_rates):\n",
    "    plt.text(i, v, f'{v:.2f}%', ha='center', va='bottom')\n",
    "\n",
    "# Show the plot\n",
    "plt.tight_layout()\n",
    "plt.show()"
   ]
  },
  {
   "cell_type": "code",
   "execution_count": null,
   "metadata": {},
   "outputs": [],
   "source": []
  },
  {
   "cell_type": "code",
   "execution_count": null,
   "metadata": {},
   "outputs": [],
   "source": []
  },
  {
   "cell_type": "code",
   "execution_count": 83,
   "metadata": {},
   "outputs": [
    {
     "name": "stderr",
     "output_type": "stream",
     "text": [
      "/var/folders/qn/mtl559_57tn77j5y4wb_w49c0000gn/T/ipykernel_26958/3645737452.py:2: FutureWarning: Inferring datetime64[ns, UTC] from data containing strings is deprecated and will be removed in a future version. To retain the old behavior explicitly pass Series(data, dtype={value.dtype})\n",
      "  df1=pd.read_excel('/Users/leenaomrani/Desktop/vestiaire_case/csv_files/DIM_VC_USR_CUSTOMER.xls')\n"
     ]
    }
   ],
   "source": [
    "import pandas as pd\n",
    "df1=pd.read_excel('/Users/leenaomrani/Desktop/vestiaire_case/csv_files/DIM_VC_USR_CUSTOMER.xls')"
   ]
  }
 ],
 "metadata": {
  "kernelspec": {
   "display_name": "base",
   "language": "python",
   "name": "python3"
  },
  "language_info": {
   "codemirror_mode": {
    "name": "ipython",
    "version": 3
   },
   "file_extension": ".py",
   "mimetype": "text/x-python",
   "name": "python",
   "nbconvert_exporter": "python",
   "pygments_lexer": "ipython3",
   "version": "3.9.7"
  },
  "orig_nbformat": 4
 },
 "nbformat": 4,
 "nbformat_minor": 2
}
